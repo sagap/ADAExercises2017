{
 "cells": [
  {
   "cell_type": "markdown",
   "metadata": {},
   "source": [
    "# Project: Event analysis through \"Twitter lenses\""
   ]
  },
  {
   "cell_type": "markdown",
   "metadata": {},
   "source": [
    "## Introduction"
   ]
  },
  {
   "cell_type": "markdown",
   "metadata": {},
   "source": [
    "The purpose of this project is to examine __which__ events from all around the world seem to __concern__ Twitter users. In order to do so, however, we need to define what the words in bold, in the previous sentence, mean in the context of this project:\n",
    "\n",
    "1) The word __which__, in this context, basically refers to the types of events that interest Twitter users. An event could be anything, from a festival to a scientific discovery, or even a terrorist attack. Therefore it is important that we define the bigger <u>categories</u> of events that we are going to examine, with regard to their \"appearances\" in the Twitter dataset, as well as the <u>specific events</u> that we could extract from the dataset, that can be clustered under these bigger categories.\n",
    "\n",
    "2) In order to determine if an event \"__concerns__\" Twitter users, we are going to define a few <u>metrics</u> that we will use. Some of these metrics could be the number of tweets that refer to an event (by either using specific hasthags or by containing specific keywords that we will define), the number of retweets to a tweet that refers to a specific event, the number of days after an event that tweets refering to the event keep appearing, etc. \n",
    "\n",
    "From all the above, we can see that we first need to explore and analyse our dataset a little bit, in order to be able to answer these two questions in a sufficient way, according to the possibilities and contraints imposed by the dataset, before we dive into the core part of this project."
   ]
  },
  {
   "cell_type": "markdown",
   "metadata": {},
   "source": [
    "## Part I: Determining how we can explore the dataset"
   ]
  },
  {
   "cell_type": "markdown",
   "metadata": {},
   "source": [
    "### Chapter 1: Choice of event categories & specific events"
   ]
  },
  {
   "cell_type": "markdown",
   "metadata": {},
   "source": [
    "### Chapter 2: Choice of metrics"
   ]
  },
  {
   "cell_type": "markdown",
   "metadata": {},
   "source": [
    "## Part II: Dataset analysis and conclusions"
   ]
  }
 ],
 "metadata": {
  "kernelspec": {
   "display_name": "Python [conda root]",
   "language": "python",
   "name": "conda-root-py"
  },
  "language_info": {
   "codemirror_mode": {
    "name": "ipython",
    "version": 3
   },
   "file_extension": ".py",
   "mimetype": "text/x-python",
   "name": "python",
   "nbconvert_exporter": "python",
   "pygments_lexer": "ipython3",
   "version": "3.6.2"
  }
 },
 "nbformat": 4,
 "nbformat_minor": 2
}
