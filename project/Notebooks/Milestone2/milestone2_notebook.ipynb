{
 "cells": [
  {
   "cell_type": "markdown",
   "metadata": {},
   "source": [
    "# Project: What Twitter users tweet about"
   ]
  },
  {
   "cell_type": "markdown",
   "metadata": {},
   "source": [
    "## Introduction"
   ]
  },
  {
   "cell_type": "markdown",
   "metadata": {},
   "source": [
    "The purpose of this project is to analyse the \"interest\" that users of the Twitter social network show towards events happening around the globe. The analysis seeks to \"connect\" tweets from Switzerland and all over the world with categories of events and specific events, based on a number of variables, e.g. the coverage of the event (how many people were interested or expressed an opinion about it on Twitter), how much Twitter users keep tweeting about an event in the following months after an event etc. With the general belief being that the social network world focuses more on less significant events than more significant ones, we would like to compare and contrast users' interest in serious vs. less serious events and draw conclusions about the population's behaviour.\n",
    "\n",
    "In order to do so, we are going to use the dataset of Swiss tweets and the Twitter-leon dataset of global tweets. Both datasets offer a number of columns that can be exploited in the contexts of this analysis, as we will see below. Before we begin the analysis, however, it is important to define its premises and its limitations, either defined by us or imposed by the datasets themselves.\n",
    "\n",
    "More specifically, we need to define the following premises, in the context of our analysis:\n",
    "\n",
    "1. Which __types of events__ we are going to deal with. An event could be anything, from a festival to a scientific discovery, or even a terrorist attack. Therefore it is important that we define the bigger __categories__ of events that we are going to examine, with regard to their \"appearances\" in the Twitter dataset, as well as the __specific events__ that we could extract from the dataset, that can be sorted under these bigger categories.\n",
    "\n",
    "2. In order to determine if Twitter users are \"__interested__\" in an event, we need to define a few __metrics__ that we will use. Some of these metrics could be the total number of tweets that refer to an event (by either using specific hasthags or by containing specific keywords that we will define), the number of retweets to a tweet that refers to a specific event, the number of days after an event that tweets referring to the event keep appearing, etc.\n",
    "\n",
    "3. Finally, we need to define the __premises that are going to regulate our observations__. In other words, what kinds of comparisons we wish to make between the numbers (metrics) that we will retrieve from the two datasets and whether the comparisons are going to be performed between Swiss and international Twitter users, or separately for the two populations. \n",
    "\n",
    "From all the above, we can see that we first need to explore and analyse our dataset a little bit, in order to be able to answer these questions in a sufficient way, according to the possibilities and contraints imposed by the datasets, before we dive into the core part of the project."
   ]
  },
  {
   "cell_type": "markdown",
   "metadata": {},
   "source": [
    "## Part I: Determine the datasets' properties"
   ]
  },
  {
   "cell_type": "markdown",
   "metadata": {},
   "source": [
    "### Chapter 1: Swiss tweets dataset"
   ]
  },
  {
   "cell_type": "markdown",
   "metadata": {},
   "source": [
    "In this chapter, we will take a first look at the Swiss tweets dataset, in order to determine the dataset schema, the meaning of columns, the number of rows and all other information that we can retrieve from a first, superficial analysis. After running a few Python scripts __(all of which, you can find in our project's Github folder)__, we retrieved the following information about the dataset:"
   ]
  },
  {
   "cell_type": "markdown",
   "metadata": {},
   "source": [
    "Note: Due to the cluster's very bad computational performance, we were forced to download the entirety of the Swiss tweets dataset and perform all calculations locally."
   ]
  },
  {
   "cell_type": "markdown",
   "metadata": {},
   "source": [
    "1) The dataset's columns are the following:"
   ]
  },
  {
   "cell_type": "code",
   "execution_count": 59,
   "metadata": {},
   "outputs": [
    {
     "name": "stdout",
     "output_type": "stream",
     "text": [
      "author_avatar_img\n",
      "author_gender\n",
      "author_handle\n",
      "author_link\n",
      "author_name\n",
      "author_user_id\n",
      "bucket\n",
      "canonical\n",
      "date_found\n",
      "domain\n",
      "geo_location\n",
      "geo_location_id\n",
      "hashcode\n",
      "index_method\n",
      "lang\n",
      "last_updated\n",
      "links\n",
      "main\n",
      "main_authoritative\n",
      "main_checksum\n",
      "main_format\n",
      "main_length\n",
      "metadata_score\n",
      "permalink\n",
      "published\n",
      "replied\n",
      "resource\n",
      "sentiment\n",
      "sequence\n",
      "sequence_range\n",
      "site\n",
      "source_content_checksum\n",
      "source_content_length\n",
      "source_created\n",
      "source_date_found\n",
      "source_description\n",
      "source_favicon_height\n",
      "source_favicon_width\n",
      "source_favorites\n",
      "source_followers\n",
      "source_following\n",
      "source_handle\n",
      "source_hashcode\n",
      "source_http_status\n",
      "source_image_height\n",
      "source_image_src\n",
      "source_image_width\n",
      "source_last_posted\n",
      "source_last_published\n",
      "source_last_updated\n",
      "source_likes\n",
      "source_link\n",
      "source_location\n",
      "source_parsed_posts\n",
      "source_parsed_posts_max\n",
      "source_profiles\n",
      "source_publisher_subtype\n",
      "source_publisher_type\n",
      "source_resource\n",
      "source_setting_author_policy\n",
      "source_setting_index_strategy\n",
      "source_setting_minimum_content_metadata_score\n",
      "source_setting_update_strategy\n",
      "source_spam_probability\n",
      "source_title\n",
      "source_update_interval\n",
      "source_user_interactions\n",
      "source_verified\n",
      "tags\n",
      "type\n",
      "version\n"
     ]
    }
   ],
   "source": [
    "import os\n",
    "import pandas as pd\n",
    "import json\n",
    "\n",
    "DATA_DIR = '.'\n",
    "\n",
    "with open(os.path.join(DATA_DIR, 'sample.json')) as f:\n",
    "    swiss = json.load(f)\n",
    "    \n",
    "column_list = list(swiss[0]['_source'].keys())\n",
    "column_list.sort()    \n",
    "for key in column_list :\n",
    "    print(key)"
   ]
  },
  {
   "cell_type": "markdown",
   "metadata": {},
   "source": [
    "For the purposes of this analysis, however, we chose to keep only the following columns, which we considered helpful:"
   ]
  },
  {
   "cell_type": "markdown",
   "metadata": {},
   "source": [
    "1. __lang__  (Tweet's language)\n",
    "2. __published__ (Date of the tweet's publications)\n",
    "2. __source_location__ (User's location)\n",
    "4. __main__ (Tweet text)\n",
    "5. __tags__ (Tags)\n",
    "6. __sentiment__ (Sentiment caused from tweet)"
   ]
  },
  {
   "cell_type": "markdown",
   "metadata": {},
   "source": [
    "2) The total number of rows in the dataset is 10,828,070."
   ]
  },
  {
   "cell_type": "markdown",
   "metadata": {},
   "source": [
    "3) The dataset contains tweets written in more than 58 different languages. For the most common languages (english, french, german and italian) we observe the following distribution of tweets per language:"
   ]
  },
  {
   "cell_type": "code",
   "execution_count": 98,
   "metadata": {
    "scrolled": true
   },
   "outputs": [
    {
     "data": {
      "text/html": [
       "<div>\n",
       "<style>\n",
       "    .dataframe thead tr:only-child th {\n",
       "        text-align: right;\n",
       "    }\n",
       "\n",
       "    .dataframe thead th {\n",
       "        text-align: left;\n",
       "    }\n",
       "\n",
       "    .dataframe tbody tr th {\n",
       "        vertical-align: top;\n",
       "    }\n",
       "</style>\n",
       "<table border=\"1\" class=\"dataframe\">\n",
       "  <thead>\n",
       "    <tr style=\"text-align: right;\">\n",
       "      <th></th>\n",
       "      <th>count</th>\n",
       "    </tr>\n",
       "    <tr>\n",
       "      <th>language</th>\n",
       "      <th></th>\n",
       "    </tr>\n",
       "  </thead>\n",
       "  <tbody>\n",
       "    <tr>\n",
       "      <th>de</th>\n",
       "      <td>2205374</td>\n",
       "    </tr>\n",
       "    <tr>\n",
       "      <th>en</th>\n",
       "      <td>4434459</td>\n",
       "    </tr>\n",
       "    <tr>\n",
       "      <th>fr</th>\n",
       "      <td>2079918</td>\n",
       "    </tr>\n",
       "    <tr>\n",
       "      <th>it</th>\n",
       "      <td>235533</td>\n",
       "    </tr>\n",
       "  </tbody>\n",
       "</table>\n",
       "</div>"
      ],
      "text/plain": [
       "            count\n",
       "language         \n",
       "de        2205374\n",
       "en        4434459\n",
       "fr        2079918\n",
       "it         235533"
      ]
     },
     "execution_count": 98,
     "metadata": {},
     "output_type": "execute_result"
    }
   ],
   "source": [
    "tweets_per_lang_swiss = pd.read_csv(os.path.join(DATA_DIR, 'tweets_by_lang_swiss.csv'), \n",
    "                                    delimiter=\",\",\n",
    "                                    index_col = None,\n",
    "                                    names = ['language', 'count'])\n",
    "\n",
    "tweets_per_lang_swiss = tweets_per_lang_swiss[(tweets_per_lang_swiss['language'] == 'en')\n",
    "                                             | (tweets_per_lang_swiss['language'] == 'fr')\n",
    "                                             | (tweets_per_lang_swiss['language'] == 'de')\n",
    "                                             | (tweets_per_lang_swiss['language'] == 'it')]\n",
    "\n",
    "tweets_per_lang_swiss = tweets_per_lang_swiss.set_index('language')\n",
    "\n",
    "tweets_per_lang_swiss"
   ]
  },
  {
   "cell_type": "markdown",
   "metadata": {},
   "source": [
    "We visualise the distributions of these languages in the dataset with the following pie chart:"
   ]
  },
  {
   "cell_type": "code",
   "execution_count": 101,
   "metadata": {},
   "outputs": [
    {
     "data": {
      "text/plain": [
       "<matplotlib.figure.Figure at 0x7fc41d3db550>"
      ]
     },
     "metadata": {},
     "output_type": "display_data"
    },
    {
     "data": {
      "image/png": "[encoded data removed]",
      "text/plain": [
       "<matplotlib.figure.Figure at 0x7fc41d001400>"
      ]
     },
     "metadata": {},
     "output_type": "display_data"
    }
   ],
   "source": [
    "import matplotlib.pyplot as plt\n",
    "\n",
    "plt.figure()\n",
    "tweets_per_lang_swiss.plot(kind='pie', subplots=True, figsize=(8,8))\n",
    "plt.show()"
   ]
  },
  {
   "cell_type": "markdown",
   "metadata": {},
   "source": [
    "4) The dataset contains tweets from 01-01-2016 up until 31-10-2016."
   ]
  },
  {
   "cell_type": "markdown",
   "metadata": {},
   "source": [
    "5) We now group the tweets by user location:"
   ]
  },
  {
   "cell_type": "code",
   "execution_count": 107,
   "metadata": {
    "scrolled": true
   },
   "outputs": [
    {
     "data": {
      "text/html": [
       "<div>\n",
       "<style>\n",
       "    .dataframe thead tr:only-child th {\n",
       "        text-align: right;\n",
       "    }\n",
       "\n",
       "    .dataframe thead th {\n",
       "        text-align: left;\n",
       "    }\n",
       "\n",
       "    .dataframe tbody tr th {\n",
       "        vertical-align: top;\n",
       "    }\n",
       "</style>\n",
       "<table border=\"1\" class=\"dataframe\">\n",
       "  <thead>\n",
       "    <tr style=\"text-align: right;\">\n",
       "      <th></th>\n",
       "      <th>region</th>\n",
       "      <th>count</th>\n",
       "    </tr>\n",
       "  </thead>\n",
       "  <tbody>\n",
       "    <tr>\n",
       "      <th>0</th>\n",
       "      <td>NaN</td>\n",
       "      <td>239088</td>\n",
       "    </tr>\n",
       "    <tr>\n",
       "      <th>1</th>\n",
       "      <td>Svizzera</td>\n",
       "      <td>21695</td>\n",
       "    </tr>\n",
       "    <tr>\n",
       "      <th>2</th>\n",
       "      <td>Suisse</td>\n",
       "      <td>693562</td>\n",
       "    </tr>\n",
       "    <tr>\n",
       "      <th>3</th>\n",
       "      <td>Switzerland but Id say usa</td>\n",
       "      <td>218</td>\n",
       "    </tr>\n",
       "    <tr>\n",
       "      <th>4</th>\n",
       "      <td>Lugano - Lake Como</td>\n",
       "      <td>69</td>\n",
       "    </tr>\n",
       "    <tr>\n",
       "      <th>5</th>\n",
       "      <td>Switzerland/Slovakia</td>\n",
       "      <td>205</td>\n",
       "    </tr>\n",
       "    <tr>\n",
       "      <th>6</th>\n",
       "      <td>Suisse romande</td>\n",
       "      <td>50</td>\n",
       "    </tr>\n",
       "    <tr>\n",
       "      <th>7</th>\n",
       "      <td>قطر | Doha</td>\n",
       "      <td>94</td>\n",
       "    </tr>\n",
       "    <tr>\n",
       "      <th>8</th>\n",
       "      <td>Germany</td>\n",
       "      <td>509</td>\n",
       "    </tr>\n",
       "    <tr>\n",
       "      <th>9</th>\n",
       "      <td>Por ser como soy ;</td>\n",
       "      <td>66</td>\n",
       "    </tr>\n",
       "  </tbody>\n",
       "</table>\n",
       "</div>"
      ],
      "text/plain": [
       "                       region   count\n",
       "0                         NaN  239088\n",
       "1                    Svizzera   21695\n",
       "2                      Suisse  693562\n",
       "3  Switzerland but Id say usa     218\n",
       "4          Lugano - Lake Como      69\n",
       "5        Switzerland/Slovakia     205\n",
       "6              Suisse romande      50\n",
       "7                  قطر | Doha      94\n",
       "8                     Germany     509\n",
       "9          Por ser como soy ;      66"
      ]
     },
     "execution_count": 107,
     "metadata": {},
     "output_type": "execute_result"
    }
   ],
   "source": [
    "tweets_per_region_swiss = pd.read_csv(os.path.join(DATA_DIR, 'tweets_by_region_swiss.csv'),\n",
    "                               delimiter=\",\",\n",
    "                               index_col = None,\n",
    "                               names = ['region', 'count'])\n",
    "\n",
    "\n",
    "tweets_per_region_swiss.head(10)"
   ]
  },
  {
   "cell_type": "markdown",
   "metadata": {},
   "source": [
    "Unfortunately, by just visually observing the contents of this column (here we only print the 10 first rows), we can tell that they seem entirely unreliable. They can contain any value, since they seem to correspond to a free text input area in the Twitter app, where a user can type in whatever they want as their location. We believe that it is very doubtful that we could properly clean and normalise the data of this column, therefore we decided that it would not be wise to use it in our analysis."
   ]
  },
  {
   "cell_type": "markdown",
   "metadata": {},
   "source": [
    "6) The distribution of tweets per sentiment is the following:"
   ]
  },
  {
   "cell_type": "code",
   "execution_count": 106,
   "metadata": {
    "scrolled": true
   },
   "outputs": [
    {
     "data": {
      "text/html": [
       "<div>\n",
       "<style>\n",
       "    .dataframe thead tr:only-child th {\n",
       "        text-align: right;\n",
       "    }\n",
       "\n",
       "    .dataframe thead th {\n",
       "        text-align: left;\n",
       "    }\n",
       "\n",
       "    .dataframe tbody tr th {\n",
       "        vertical-align: top;\n",
       "    }\n",
       "</style>\n",
       "<table border=\"1\" class=\"dataframe\">\n",
       "  <thead>\n",
       "    <tr style=\"text-align: right;\">\n",
       "      <th></th>\n",
       "      <th>count</th>\n",
       "    </tr>\n",
       "    <tr>\n",
       "      <th>sentiment</th>\n",
       "      <th></th>\n",
       "    </tr>\n",
       "  </thead>\n",
       "  <tbody>\n",
       "    <tr>\n",
       "      <th>NaN</th>\n",
       "      <td>808445</td>\n",
       "    </tr>\n",
       "    <tr>\n",
       "      <th>NEGATIVE</th>\n",
       "      <td>692756</td>\n",
       "    </tr>\n",
       "    <tr>\n",
       "      <th>NEUTRAL</th>\n",
       "      <td>7726063</td>\n",
       "    </tr>\n",
       "    <tr>\n",
       "      <th>POSITIVE</th>\n",
       "      <td>1600806</td>\n",
       "    </tr>\n",
       "  </tbody>\n",
       "</table>\n",
       "</div>"
      ],
      "text/plain": [
       "             count\n",
       "sentiment         \n",
       "NaN         808445\n",
       "NEGATIVE    692756\n",
       "NEUTRAL    7726063\n",
       "POSITIVE   1600806"
      ]
     },
     "execution_count": 106,
     "metadata": {},
     "output_type": "execute_result"
    }
   ],
   "source": [
    "tweets_per_sentiment_swiss = pd.read_csv(os.path.join(DATA_DIR, 'tweets_per_sentiment_swiss.csv'),\n",
    "                               delimiter=\",\",\n",
    "                               index_col = None,\n",
    "                               names = ['sentiment', 'count'])\n",
    "\n",
    "tweets_per_sentiment_swiss = tweets_per_sentiment_swiss.set_index('sentiment')\n",
    "\n",
    "tweets_per_sentiment_swiss.head(10)"
   ]
  },
  {
   "cell_type": "markdown",
   "metadata": {},
   "source": [
    "We visualise this distribution with the following bar plot:"
   ]
  },
  {
   "cell_type": "code",
   "execution_count": 104,
   "metadata": {
    "scrolled": false
   },
   "outputs": [
    {
     "data": {
      "text/plain": [
       "<matplotlib.figure.Figure at 0x7fc41def7f60>"
      ]
     },
     "metadata": {},
     "output_type": "display_data"
    },
    {
     "data": {
      "image/png": "[encoded data removed]",
      "text/plain": [
       "<matplotlib.figure.Figure at 0x7fc41de89a20>"
      ]
     },
     "metadata": {},
     "output_type": "display_data"
    }
   ],
   "source": [
    "plt.figure()\n",
    "tweets_per_sentiment_swiss.plot(kind='bar', subplots=True, figsize=(6,6))\n",
    "plt.show()"
   ]
  },
  {
   "cell_type": "markdown",
   "metadata": {},
   "source": [
    "As we can observe from the the bar plot above, the majority of tweets are characterised as \"neutral\". Nevertheless the amount of tweets with a \"positive\" or a \"negative\" attitude is not that low, with the \"positive\" tweets amounting to ~1.5 million and the \"negative\" tweets amounting to ~700,000. What we are looking forward to do here is to apply simple Natural Language Processing and Machine Learning techniques and attempt to categorise the \"neutral\" tweets as positive or negative, if possible. This analysis can also be performed on the global tweets dataset (leon), in more restricted subsets (e.g. to check whether the tweets correspoding to a given category demonstrate the expected sentiment)."
   ]
  },
  {
   "cell_type": "markdown",
   "metadata": {},
   "source": [
    "### Chapter 2: Global tweets dataset"
   ]
  },
  {
   "cell_type": "markdown",
   "metadata": {},
   "source": [
    "Let us now take a first glance at the global tweets dataset (tweets-leon), in the same way that we did in chapter 1:"
   ]
  },
  {
   "cell_type": "markdown",
   "metadata": {},
   "source": [
    "1) The dataset's schema is the following:"
   ]
  },
  {
   "cell_type": "code",
   "execution_count": 34,
   "metadata": {
    "scrolled": true
   },
   "outputs": [
    {
     "data": {
      "text/html": [
       "<div>\n",
       "<style>\n",
       "    .dataframe thead tr:only-child th {\n",
       "        text-align: right;\n",
       "    }\n",
       "\n",
       "    .dataframe thead th {\n",
       "        text-align: left;\n",
       "    }\n",
       "\n",
       "    .dataframe tbody tr th {\n",
       "        vertical-align: top;\n",
       "    }\n",
       "</style>\n",
       "<table border=\"1\" class=\"dataframe\">\n",
       "  <thead>\n",
       "    <tr style=\"text-align: right;\">\n",
       "      <th></th>\n",
       "      <th>language</th>\n",
       "      <th>tweet_id</th>\n",
       "      <th>datetime</th>\n",
       "      <th>username</th>\n",
       "      <th>tweet_text</th>\n",
       "    </tr>\n",
       "  </thead>\n",
       "  <tbody>\n",
       "    <tr>\n",
       "      <th>0</th>\n",
       "      <td>en</td>\n",
       "      <td>345963923251539968</td>\n",
       "      <td>Sat Jun 15 18:00:01 +0000 2013</td>\n",
       "      <td>Letataleta</td>\n",
       "      <td>RT @silsilfani: the world is not a wish-granti...</td>\n",
       "    </tr>\n",
       "    <tr>\n",
       "      <th>1</th>\n",
       "      <td>en</td>\n",
       "      <td>345963923297673217</td>\n",
       "      <td>Sat Jun 15 18:00:01 +0000 2013</td>\n",
       "      <td>JamesonN7</td>\n",
       "      <td>RT @WhosThisHoe: I'd rather sleep with a nice ...</td>\n",
       "    </tr>\n",
       "    <tr>\n",
       "      <th>2</th>\n",
       "      <td>en</td>\n",
       "      <td>345963923259924480</td>\n",
       "      <td>Sat Jun 15 18:00:01 +0000 2013</td>\n",
       "      <td>LauraEllynJones</td>\n",
       "      <td>Can't stand people who lie then blame it on so...</td>\n",
       "    </tr>\n",
       "    <tr>\n",
       "      <th>3</th>\n",
       "      <td>it</td>\n",
       "      <td>345963923276697601</td>\n",
       "      <td>Sat Jun 15 18:00:01 +0000 2013</td>\n",
       "      <td>ChialettaFClub</td>\n",
       "      <td>@ChialettaFClub: #rt seguimi ti seguo ti voto ...</td>\n",
       "    </tr>\n",
       "    <tr>\n",
       "      <th>4</th>\n",
       "      <td>fr</td>\n",
       "      <td>345963923255730176</td>\n",
       "      <td>Sat Jun 15 18:00:01 +0000 2013</td>\n",
       "      <td>_irem61_</td>\n",
       "      <td>RT @DHC_Music: Terrorism ... #FreePalestina ht...</td>\n",
       "    </tr>\n",
       "  </tbody>\n",
       "</table>\n",
       "</div>"
      ],
      "text/plain": [
       "  language            tweet_id                        datetime  \\\n",
       "0       en  345963923251539968  Sat Jun 15 18:00:01 +0000 2013   \n",
       "1       en  345963923297673217  Sat Jun 15 18:00:01 +0000 2013   \n",
       "2       en  345963923259924480  Sat Jun 15 18:00:01 +0000 2013   \n",
       "3       it  345963923276697601  Sat Jun 15 18:00:01 +0000 2013   \n",
       "4       fr  345963923255730176  Sat Jun 15 18:00:01 +0000 2013   \n",
       "\n",
       "          username                                         tweet_text  \n",
       "0       Letataleta  RT @silsilfani: the world is not a wish-granti...  \n",
       "1        JamesonN7  RT @WhosThisHoe: I'd rather sleep with a nice ...  \n",
       "2  LauraEllynJones  Can't stand people who lie then blame it on so...  \n",
       "3   ChialettaFClub  @ChialettaFClub: #rt seguimi ti seguo ti voto ...  \n",
       "4         _irem61_  RT @DHC_Music: Terrorism ... #FreePalestina ht...  "
      ]
     },
     "execution_count": 34,
     "metadata": {},
     "output_type": "execute_result"
    }
   ],
   "source": [
    "global_tweets = pd.read_csv(os.path.join(DATA_DIR, 'head.csv'), \n",
    "                            delimiter='\\t',\n",
    "                            header = None,\n",
    "                            names=['language', 'tweet_id', 'datetime', 'username', 'tweet_text'])\n",
    "global_tweets.head(5)"
   ]
  },
  {
   "cell_type": "markdown",
   "metadata": {},
   "source": [
    "The column headers are not included in the dataset, but it is easy to infer what each column could represent, just by looking at the first 5 rows. "
   ]
  },
  {
   "cell_type": "markdown",
   "metadata": {},
   "source": [
    "2) The total number of rows in the dataset is __~18 billion__. However, during our observation of the rows, we found that there are around 8 million rows with less than the 5 columns that are visible in the schema above. After looking into these problematic rows a bit further, we discovered that they can have any number of columns between 0 and 4. In addition, there are cases in which a single tweet can span to multiple rows, while containing no other column, apart from the tweet_text. However, these problematic rows could lead to counting the same tweet multiple times and obtaining unrealistic results. For this reason, we decided to remove them from our analysis, also considering that 8 million out of 18 billion total rows is a rather insignificant percentage (0.04%)."
   ]
  },
  {
   "cell_type": "markdown",
   "metadata": {},
   "source": [
    "3) The dataset contains tweets written in 6 different languages, with the following distribution of tweets per language:"
   ]
  },
  {
   "cell_type": "code",
   "execution_count": 60,
   "metadata": {},
   "outputs": [
    {
     "data": {
      "text/html": [
       "<div>\n",
       "<style>\n",
       "    .dataframe thead tr:only-child th {\n",
       "        text-align: right;\n",
       "    }\n",
       "\n",
       "    .dataframe thead th {\n",
       "        text-align: left;\n",
       "    }\n",
       "\n",
       "    .dataframe tbody tr th {\n",
       "        vertical-align: top;\n",
       "    }\n",
       "</style>\n",
       "<table border=\"1\" class=\"dataframe\">\n",
       "  <thead>\n",
       "    <tr style=\"text-align: right;\">\n",
       "      <th></th>\n",
       "      <th>count</th>\n",
       "    </tr>\n",
       "    <tr>\n",
       "      <th>language</th>\n",
       "      <th></th>\n",
       "    </tr>\n",
       "  </thead>\n",
       "  <tbody>\n",
       "    <tr>\n",
       "      <th>french</th>\n",
       "      <td>676529769</td>\n",
       "    </tr>\n",
       "    <tr>\n",
       "      <th>dutch</th>\n",
       "      <td>452780443</td>\n",
       "    </tr>\n",
       "    <tr>\n",
       "      <th>italian</th>\n",
       "      <td>466666820</td>\n",
       "    </tr>\n",
       "    <tr>\n",
       "      <th>german</th>\n",
       "      <td>452126737</td>\n",
       "    </tr>\n",
       "    <tr>\n",
       "      <th>english</th>\n",
       "      <td>12488903036</td>\n",
       "    </tr>\n",
       "    <tr>\n",
       "      <th>spanish</th>\n",
       "      <td>3439067021</td>\n",
       "    </tr>\n",
       "  </tbody>\n",
       "</table>\n",
       "</div>"
      ],
      "text/plain": [
       "                count\n",
       "language             \n",
       "french      676529769\n",
       "dutch       452780443\n",
       "italian     466666820\n",
       "german      452126737\n",
       "english   12488903036\n",
       "spanish    3439067021"
      ]
     },
     "execution_count": 60,
     "metadata": {},
     "output_type": "execute_result"
    }
   ],
   "source": [
    "tweets_per_lang = pd.read_csv(os.path.join(DATA_DIR, 'tweets_per_language.csv'), \n",
    "                  delimiter=\",\",\n",
    "                  index_col = 0)\n",
    "tweets_per_lang"
   ]
  },
  {
   "cell_type": "markdown",
   "metadata": {},
   "source": [
    "We visualise this distributions with the following pie chart:"
   ]
  },
  {
   "cell_type": "code",
   "execution_count": 100,
   "metadata": {},
   "outputs": [
    {
     "data": {
      "text/plain": [
       "<matplotlib.figure.Figure at 0x7fc41d3ccb70>"
      ]
     },
     "metadata": {},
     "output_type": "display_data"
    },
    {
     "data": {
      "image/png": "[encoded data removed]",
      "text/plain": [
       "<matplotlib.figure.Figure at 0x7fc41d3dbf98>"
      ]
     },
     "metadata": {},
     "output_type": "display_data"
    }
   ],
   "source": [
    "plt.figure()\n",
    "tweets_per_lang.plot(kind='pie', subplots=True, figsize=(8,8))\n",
    "plt.show()"
   ]
  },
  {
   "cell_type": "markdown",
   "metadata": {},
   "source": [
    "By observing the above pie chart, we can conclude that more than 50% of the tweets in the dataset are written in English, while the second biggest percentage of tweets are written in Spanish. From this, one could possibly infer that most of the tweets may come from the American continent, where these two languages are widly spoken. However, we do not have any other sufficient pieces of information that can help us determine where the tweets have come from, therefore we will not make any assumptions. We will treat the users of this dataset simply as a \"global\" population, without any reference to specific countries or regions. "
   ]
  },
  {
   "cell_type": "markdown",
   "metadata": {},
   "source": [
    "4) The dataset contains tweets from 15-06-2013 up until 01-02-2016."
   ]
  },
  {
   "cell_type": "markdown",
   "metadata": {},
   "source": [
    "## Part II: Determining the event categories and specific events to be used"
   ]
  },
  {
   "cell_type": "markdown",
   "metadata": {},
   "source": [
    "### Chapter 1: Event categories"
   ]
  },
  {
   "cell_type": "markdown",
   "metadata": {},
   "source": [
    "Now, that we know a little bit more about our two datasets, we are going to describe the categories of events, as well as the specific events we would like to deal with and see if we can indeed find tweets concerning them. \n",
    "\n",
    "Let's first determine the event categories we would like to use. For now, we have come up with the following (not exhaustive) list of categories:\n",
    "\n",
    "__1. Political events__ <br/>\n",
    "__2. Sports events__ <br/>\n",
    "__3. Social crises (terrorist attacks, shootings, accidents, disease outbreaks, natural disasters etc.)__ <br/>\n",
    "__4. Science and technology__ <br/>\n",
    "__5. Showbiz and viral trends (e.g. trending tv series, videogames etc.)__ <br/>\n",
    "\n",
    "The list serves mostly as a base for our analysis, rather than a final and binding list, as during our actual analysis we may come up with additional categories to add or we might decide to merge of split further the categories that we mention above."
   ]
  },
  {
   "cell_type": "markdown",
   "metadata": {},
   "source": [
    "### Chapter 2: Specific events"
   ]
  },
  {
   "cell_type": "markdown",
   "metadata": {},
   "source": [
    "Regarding the specific events we would like to use, we have come up with a small list of possible events, which span from the beginning of 2013 up until the end of 2016. In order to determine if a tweet actually refers to a specific event, we are going to search for hashtags and keywords, and in the case of the Swiss tweets dataset, we will also take advantage of the \"tags\" columns. Below, we present an indicative (but not exhaustive) list of events that we consider interesting, along with the event category they can be sorted to, as well as indicative hashtags and keywords with which they can be searched for in our datasets. In the last two columns of the above table, we determine whether or not we were able to locate tweets referring to each specific event, in our two datasets. In order to view the full Python code used for this search, please refer to files `job_tweets_count_all.py` and `swiss_by_category.py` in our Github repository. Please also note, that the number of tweets found for each event, that are mentioned as comments in the aforementioned files, might not be indicative of how many tweets can be found regarding these events in total. They rather serve as indications that the tweets can indeed be found in the datasets."
   ]
  },
  {
   "cell_type": "markdown",
   "metadata": {},
   "source": [
    "\n",
    "\n",
    "<table style=\"margin-left: 0px;\">\n",
    "  <tr style=\"border-bottom: 1px solid black;\">\n",
    "    <th style=\"text-align: left;\">Event</th>\n",
    "    <th style=\"text-align: left;\">Keywords</th> \n",
    "    <th style=\"text-align: left;\">Category</th>\n",
    "    <th style=\"text-align: left;\">Year</th>\n",
    "    <th style=\"text-align: left;\">Swiss tweets</th>\n",
    "    <th style=\"text-align: left;\">Global tweets</th>\n",
    "  </tr>\n",
    "  <tr>\n",
    "    <td style=\"text-align: left;\">Pope Francis' election</td> \n",
    "    <td style=\"text-align: left;\">#PopeFrancis</td>\n",
    "    <td style=\"text-align: left;\">Political events</td>\n",
    "    <td style=\"text-align: left;\">2013</td>\n",
    "    <td style=\"text-align: center;\">&#10004;</td>\n",
    "    <td style=\"text-align: center;\">&#10004;</td>\n",
    "  </tr>\n",
    "  <tr>\n",
    "    <td style=\"text-align: left;\">Boston marathon bombing</td>\n",
    "    <td style=\"text-align: left;\">#BostonMarathon, #Bomb</td> \n",
    "    <td style=\"text-align: left;\">Social crises</td>\n",
    "    <td style=\"text-align: left;\">2013</td>\n",
    "    <td style=\"text-align: center;\">&#10004;</td>\n",
    "    <td style=\"text-align: center;\">&#10004;</td>\n",
    "  </tr>\n",
    "  <tr>\n",
    "    <td style=\"text-align: left;\">Birth of prince George of Cambridge</td>\n",
    "    <td style=\"text-align: left;\">#princeGeorge</td> \n",
    "    <td style=\"text-align: left;\">Showbiz and viral trends</td>\n",
    "    <td style=\"text-align: left;\">2013</td>\n",
    "    <td style=\"text-align: center;\">&#10004;</td>\n",
    "    <td style=\"text-align: center;\">&#10004;</td>\n",
    "  </tr>\n",
    "  <tr>\n",
    "    <td style=\"text-align: left;\">Twerking trend</td>\n",
    "    <td style=\"text-align: left;\">#twerk</td> \n",
    "    <td style=\"text-align: left;\">Showbiz and viral trends</td>\n",
    "    <td style=\"text-align: left;\">2013</td>\n",
    "    <td style=\"text-align: center;\">&#10004;</td>\n",
    "    <td style=\"text-align: center;\">&#10004;</td>\n",
    "  </tr>\n",
    "  <tr>\n",
    "    <td style=\"text-align: left;\">Nelson Mandela's death</td>\n",
    "    <td style=\"text-align: left;\">#NelsonMandela</td> \n",
    "    <td style=\"text-align: left;\">Political events</td>\n",
    "    <td style=\"text-align: left;\">2013</td>\n",
    "    <td style=\"text-align: center;\">&#10004;</td>\n",
    "    <td style=\"text-align: center;\">&#10004;</td>\n",
    "  </tr>\n",
    "  <tr>\n",
    "    <td style=\"text-align: left;\">Ferguson shooting</td>\n",
    "    <td style=\"text-align: left;\">#FergusonShooting, #MichaelBrown</td> \n",
    "    <td style=\"text-align: left;\">Social Crises</td>\n",
    "    <td style=\"text-align: left;\">2014</td>\n",
    "    <td style=\"text-align: center;\">&#10004;</td>\n",
    "    <td style=\"text-align: center;\">&#10004;</td>\n",
    "  </tr>\n",
    "  <tr>\n",
    "    <td style=\"text-align: left;\">Leak of nude celebrity photos</td>\n",
    "    <td style=\"text-align: left;\">#fappening</td> \n",
    "    <td style=\"text-align: left;\">Showbiz and viral trends</td>\n",
    "    <td style=\"text-align: left;\">2014</td>\n",
    "    <td style=\"text-align: center;\">&#10004;</td>\n",
    "    <td style=\"text-align: center;\">&#10004;</td>\n",
    "  </tr>\n",
    "  <tr>\n",
    "    <td style=\"text-align: left;\">iPhone 6 release</td>\n",
    "    <td style=\"text-align: left;\">#iPhone6</td> \n",
    "    <td style=\"text-align: left;\">Science and technology</td>\n",
    "    <td style=\"text-align: left;\">2014</td>\n",
    "    <td style=\"text-align: center;\">&#10007;</td>\n",
    "    <td style=\"text-align: center;\">&#10004;</td>\n",
    "  </tr>\n",
    "  <tr>\n",
    "    <td style=\"text-align: left;\">Ebola virus outbreak</td>\n",
    "    <td style=\"text-align: left;\">#Ebola</td> \n",
    "    <td style=\"text-align: left;\">Social crises</td>\n",
    "    <td style=\"text-align: left;\">2014</td>\n",
    "    <td style=\"text-align: center;\">&#10004;</td>\n",
    "    <td style=\"text-align: center;\">&#10004;</td>\n",
    "  </tr>\n",
    "  <tr>\n",
    "    <td style=\"text-align: left;\">Rosseta spacecraft lands on comet</td>\n",
    "    <td style=\"text-align: left;\">#Rosetta</td> \n",
    "    <td style=\"text-align: left;\">Science and technology</td>\n",
    "    <td style=\"text-align: left;\">2014</td>\n",
    "    <td style=\"text-align: center;\">&#10004;</td>\n",
    "    <td style=\"text-align: center;\">&#10004;</td>\n",
    "  </tr>\n",
    "  <tr>\n",
    "    <td style=\"text-align: left;\">Kim Kardashian's photoshoot for Paper magazine</td>\n",
    "    <td style=\"text-align: left;\">#BreakTheInternet</td> \n",
    "    <td style=\"text-align: left;\">Showbiz and viral trends</td>\n",
    "    <td style=\"text-align: left;\">2014</td>\n",
    "    <td style=\"text-align: center;\">&#10004;</td>\n",
    "    <td style=\"text-align: center;\">&#10004;</td>\n",
    "  </tr>\n",
    "  <tr>\n",
    "    <td style=\"text-align: left;\">Grexit</td>\n",
    "    <td style=\"text-align: left;\">#Grexit</td> \n",
    "    <td style=\"text-align: left;\">Political events</td>\n",
    "    <td style=\"text-align: left;\">2015</td>\n",
    "    <td style=\"text-align: center;\">&#10004;</td>\n",
    "    <td style=\"text-align: center;\">&#10004;</td>\n",
    "  </tr>\n",
    "  <tr>\n",
    "    <td style=\"text-align: left;\">Isis</td>\n",
    "    <td style=\"text-align: left;\">#Isis</td> \n",
    "    <td style=\"text-align: left;\">Political events</td>\n",
    "    <td style=\"text-align: left;\">2015</td>\n",
    "    <td style=\"text-align: center;\">&#10004;</td>\n",
    "    <td style=\"text-align: center;\">&#10004;</td>\n",
    "  </tr>\n",
    "  <tr>\n",
    "    <td style=\"text-align: left;\">Syrian refugees</td>\n",
    "    <td style=\"text-align: left;\">#RefugeesWelcome</td> \n",
    "    <td style=\"text-align: left;\">Social crises</td>\n",
    "    <td style=\"text-align: left;\">2015</td>\n",
    "    <td style=\"text-align: center;\">&#10004;</td>\n",
    "    <td style=\"text-align: center;\">&#10004;</td>\n",
    "  </tr>\n",
    "  <tr>\n",
    "    <td style=\"text-align: left;\">Charlie Hebdo attack</td>\n",
    "    <td style=\"text-align: left;\">#JeSuisCharlie</td> \n",
    "    <td style=\"text-align: left;\">Social crises</td>\n",
    "    <td style=\"text-align: left;\">2015</td>\n",
    "    <td style=\"text-align: center;\">&#10004;</td>\n",
    "    <td style=\"text-align: center;\">&#10004;</td>\n",
    "  </tr>\n",
    "  <tr>\n",
    "    <td style=\"text-align: left;\">Deaths of African Americans by police actions</td>\n",
    "    <td style=\"text-align: left;\">#BlackLivesMatter</td> \n",
    "    <td style=\"text-align: left;\">Social crises</td>\n",
    "    <td style=\"text-align: left;\">2015</td>\n",
    "    <td style=\"text-align: center;\">&#10004;</td>\n",
    "    <td style=\"text-align: center;\">&#10004;</td>\n",
    "  </tr>\n",
    "  <tr>\n",
    "    <td style=\"text-align: left;\">Caitlyn Jenner's gender transition</td>\n",
    "    <td style=\"text-align: left;\">#CaitlynJenner</td> \n",
    "    <td style=\"text-align: left;\">Showbiz and viral trends</td>\n",
    "    <td style=\"text-align: left;\">2015</td>\n",
    "    <td style=\"text-align: center;\">&#10007;</td>\n",
    "    <td style=\"text-align: center;\">&#10004;</td>\n",
    "  </tr>\n",
    "  <tr>\n",
    "    <td style=\"text-align: left;\">FIFAWorldCup</td>\n",
    "    <td style=\"text-align: left;\">#FIFA, #WorldCup</td> \n",
    "    <td style=\"text-align: left;\">Sports events</td>\n",
    "    <td style=\"text-align: left;\">2015</td>\n",
    "    <td style=\"text-align: center;\">&#10004;</td>\n",
    "    <td style=\"text-align: center;\">&#10004;</td>\n",
    "  </tr>\n",
    "  <tr>\n",
    "    <td style=\"text-align: left;\">Germanwings plance crash</td>\n",
    "    <td style=\"text-align: left;\">#GermanWings</td> \n",
    "    <td style=\"text-align: left;\">Social crises</td>\n",
    "    <td style=\"text-align: left;\">2015</td>\n",
    "    <td style=\"text-align: center;\">&#10004;</td>\n",
    "    <td style=\"text-align: center;\">&#10004;</td>\n",
    "  </tr>\n",
    "  <tr>\n",
    "    <td style=\"text-align: left;\">Summer Olympics 2016</td>\n",
    "    <td style=\"text-align: left;\">#Rio2016</td> \n",
    "    <td style=\"text-align: left;\">Sports events</td>\n",
    "    <td style=\"text-align: left;\">2016</td>\n",
    "    <td style=\"text-align: center;\">&#10004;</td>\n",
    "    <td style=\"text-align: center;\">&#10004;</td>\n",
    "  </tr>\n",
    "  <tr>\n",
    "    <td style=\"text-align: left;\">US Elections</td>\n",
    "    <td style=\"text-align: left;\">#election2016, #Trump</td> \n",
    "    <td style=\"text-align: left;\">Social crises</td>\n",
    "    <td style=\"text-align: left;\">2016</td>\n",
    "    <td style=\"text-align: center;\">&#10004;</td>\n",
    "    <td style=\"text-align: center;\">&#10004;</td>\n",
    "  </tr>\n",
    "  <tr>\n",
    "    <td style=\"text-align: left;\">Pokemon Go release</td>\n",
    "    <td style=\"text-align: left;\">#PokemonGo</td> \n",
    "    <td style=\"text-align: left;\">Showbiz and viral trends</td>\n",
    "    <td style=\"text-align: left;\">2016</td>\n",
    "    <td style=\"text-align: center;\">&#10004;</td>\n",
    "    <td style=\"text-align: center;\">&#10004;</td>\n",
    "  </tr>\n",
    "  <tr>\n",
    "    <td style=\"text-align: left;\">Brexit</td>\n",
    "    <td style=\"text-align: left;\">#Brexit</td> \n",
    "    <td style=\"text-align: left;\">Political events</td>\n",
    "    <td style=\"text-align: left;\">2016</td>\n",
    "    <td style=\"text-align: center;\">&#10004;</td>\n",
    "    <td style=\"text-align: center;\">&#10004;</td>\n",
    "  </tr>\n",
    "  <tr>\n",
    "    <td style=\"text-align: left;\">Game of Thrones</td>\n",
    "    <td style=\"text-align: left;\">#got, #GameOfThrones</td> \n",
    "    <td style=\"text-align: left;\">Showbiz and viral trends</td>\n",
    "    <td style=\"text-align: left;\">2016</td>\n",
    "    <td style=\"text-align: center;\">&#10004;</td>\n",
    "    <td style=\"text-align: center;\">&#10004;</td>\n",
    "  </tr>\n",
    "</table>"
   ]
  },
  {
   "cell_type": "markdown",
   "metadata": {},
   "source": [
    "As we can see, in the Swiss tweets datasets, we can spot almost all of the events determined above. However, only events that happened during 2016 could be found in sufficient quantities. This was expected, since during our observation of the dataset, we noticed that all of the tweets dated in 2016. The tweets that refer to events that happened prior to 2016 are, therefore, just outliers which we are not going to consider.\n",
    "\n",
    "Additionally, we can find all our proposed events in the dataset of global events. However, although events like the Boston marathon bombing appears in our dataset, the actual event happened in April 2013, while our first tweet in this dataset was published in June 2013. Such is the case for the election of Pope Francis in March 2013. Although these two events could definitely be very interesting for our analysis, we decided to only analyze Twitter's reaction for events that happened after the 6th of June 2013, when our first data entry appears."
   ]
  },
  {
   "cell_type": "markdown",
   "metadata": {},
   "source": [
    "## Part III: Determining  the metrics to be used"
   ]
  },
  {
   "cell_type": "markdown",
   "metadata": {},
   "source": [
    "### Chapter 1: Swiss tweets dataset"
   ]
  },
  {
   "cell_type": "markdown",
   "metadata": {},
   "source": [
    "As we have observed in part I, the Swiss tweets dataset offers a wide variety of columns that help us in our effort to determine what kind of events Twitter users tweet about. With the help of these columns, we can define the following metrics that we can use in order to \"measure\" how much Twitter users care about a topic:"
   ]
  },
  {
   "cell_type": "markdown",
   "metadata": {},
   "source": [
    "1. Total number of tweets and retweets referring to the event\n",
    "2. Average number of tweets and retweets per month (and corresponding distribution per month)\n",
    "3. Distribution of users' sentiments caused by the event (where available)"
   ]
  },
  {
   "cell_type": "markdown",
   "metadata": {},
   "source": [
    "### Chapter 2: Global tweets dataset"
   ]
  },
  {
   "cell_type": "markdown",
   "metadata": {},
   "source": [
    "The global tweets dataset, offers a more limited set of columns that we can exploit. However, this does not prevent us from performing useful analyses. Thus, for this dataset we are going to use the following metrics:"
   ]
  },
  {
   "cell_type": "markdown",
   "metadata": {},
   "source": [
    "1. Total number of tweets referring to an event\n",
    "2. Average number of tweets per month (and corresponding distribution per month)"
   ]
  },
  {
   "cell_type": "markdown",
   "metadata": {},
   "source": [
    "## Part IV: Determining the premises of our observations"
   ]
  },
  {
   "cell_type": "markdown",
   "metadata": {},
   "source": [
    "After having observed the two datasets, having defined our event categories and our metrics and having ensured that we can indeed find interesting events in the datasets, we are ready to determine the strategy that we will follow, in hopes that we will end up with interesting results regarding Twitter users' reactions to major events. "
   ]
  },
  {
   "cell_type": "markdown",
   "metadata": {},
   "source": [
    "### Chapter 1: Observations in the two datasets"
   ]
  },
  {
   "cell_type": "markdown",
   "metadata": {},
   "source": [
    "As we have already observed in parts I and II, there are two key differences between the Swiss tweets dataset and the global tweets dataset. The first difference, is that the two datasets contain tweets from periods of time that have very little overlap with one another. More specifically, Swiss tweets were all published during 2016, while global tweets were published between mid 2013 up until the very beginning of 2016. From that alone, we can see that it would not be very easy to do a direct comparison of the reactions of Swiss Twitter users and global Twitter users, since we can never observe their reactions about the exact same event or during the same period of time. Additionally, since we cannot make any conclusions regarding the countries of origin of global tweets, it would be possible that they also contain Swiss users as well, leading to misleading results if we decided to do a comparison between global and Swiss users' reactions.\n",
    "\n",
    "The second difference is that, while the Swiss tweets dataset offers a smaller number of records than the global tweets dataset, on the other hand, it offers a slightly wider variety of possible metrics that can be used to determine Swiss Twitter users' reactions.  \n",
    "\n",
    "For these two reasons, we decided that we are going to perform our analysis in the two populations (Swiss Twitter users and global Twitter users) separately. That being said, we are going to compare the reactions of Swiss users to specific events in the first part of our analysis, and then we will try to expand our analysis to the global population and see if we will end up with the same observations."
   ]
  },
  {
   "cell_type": "markdown",
   "metadata": {},
   "source": [
    "### Chapter 2: Observations regarding event categories"
   ]
  },
  {
   "cell_type": "markdown",
   "metadata": {},
   "source": [
    "In this chapter, we are just going to restate the final goal of our analysis, which has already been described in the introduction. That is to make observations about the categories of events that seem to draw the most attention of Twitter users. That being said, we are going to fill our list of events with even more events from each one of our specified categories and we will then compare events from different categories to one another. We may also compare events from the same category to one another, in order to draw conclusions about their relative importance in their corresponding category."
   ]
  },
  {
   "cell_type": "markdown",
   "metadata": {},
   "source": [
    "### Chapter 3: Observations over time"
   ]
  },
  {
   "cell_type": "markdown",
   "metadata": {},
   "source": [
    "In our final analysis, there are a few choices of time periods in which we can frame our observations. One choice is to not take into account the time period that two events occured, at all, while comparing them. Another option is to only compare events that have happened during the same period of time, e.g. during the same year or even the same month. Our approach is to use all of these choices, in order to determine the impact the time period has in the Twitter users' reaction regarding a type of event."
   ]
  },
  {
   "cell_type": "markdown",
   "metadata": {},
   "source": [
    "## Part V: Dataset analysis and conclusions"
   ]
  },
  {
   "cell_type": "markdown",
   "metadata": {},
   "source": [
    "In this part, we are going to roughly outline the timeline that we are going to follow, while working on our final analysis. This part will have been filled up until Milestone 3 of the project."
   ]
  },
  {
   "cell_type": "markdown",
   "metadata": {},
   "source": [
    "To see the analysis of our project please visit our website: https://errikos.github.io/ada-showoff/"
   ]
  },
  {
   "cell_type": "markdown",
   "metadata": {},
   "source": [
    "**First Steps**"
   ]
  },
  {
   "cell_type": "markdown",
   "metadata": {},
   "source": [
    "The scripts that were used to extract the count numbers exist under the path **project/src/count/**\n",
    "\n",
    "The scripts under the path **project/src/plot/** were used to plot the results obtained from the above  count scripts.\n",
    "\n",
    "In the file event.py (**project/src/analysis/event.py**) we defined the classes Event, EventParser, in order to parse a csv file and create a list of events.\n",
    "\n",
    "Under the path: **project/src/plots/** we defined the class Plotter in plotter.py and the subclasses TweetsLeonPlotter and SwissTweetsPlotter, which plot language_plots for each dataset. The TweetsLeonPlotter also plots the tweets' monthly counts and the SwissTweetsPlotter the tweets' daily counts.\n",
    "\n",
    "We plot the language distribution of swiss tweets (we selected only the languages that exist in both swiss' and leon's datasets).\n",
    "\n",
    "Under the URL: https://errikos.github.io/ada-showoff/thedatasets/ we describe some useful insights we found regarding the datasets (leon and swiss tweets), with graphs and plots using Plotly."
   ]
  },
  {
   "cell_type": "markdown",
   "metadata": {},
   "source": [
    "***Due to the unavailability of the cluster the last days before the submission of this part of the project, we did not manage to run the analysis we had in mind for the tweets leon dataset.*** \n",
    "\n",
    "We tried though to present our ideas in the best possible way. \n",
    "\n",
    "***Finally, we managed to obtain useful insights from both datasets. ***"
   ]
  },
  {
   "cell_type": "markdown",
   "metadata": {},
   "source": [
    "### Section 1: Swiss tweets dataset analysis"
   ]
  },
  {
   "cell_type": "markdown",
   "metadata": {},
   "source": [
    "#### Dataset Analysis"
   ]
  },
  {
   "cell_type": "markdown",
   "metadata": {},
   "source": [
    "Scripts used:\n",
    "\n",
    "- job_swiss_count_all.py\n",
    "\n",
    "Counts all tweets in swiss tweets dataset.\n",
    "\n",
    "- swiss_by_category.py\n",
    "\n",
    "Count tweets of each category.\n",
    "\n",
    "- swiss_stats.py\n",
    "\n",
    "Computes counts by language, counts by region, counts by sentiment, counts by day, date range"
   ]
  },
  {
   "cell_type": "markdown",
   "metadata": {},
   "source": [
    "We fetched data regarding each event by running the scripts under the path **project/src/analysis/** :\n",
    "\n",
    "- job_swiss_daily_tweets.py\n",
    "\n",
    "Counts the daily tweets for each event, the result of this job is stored in daily_counts.csv (project/data/swiss/results/)\n",
    "\n",
    "- job_swiss_daily_tweets_sentimental.py\n",
    "\n",
    "Counts the distribution of each event among the sentiments('NEGATIVE', 'NEUTRAL', 'POSITIVE', 'UNKNOWN'), the result is stored in sentimental_counts.csv (project/data/swiss/results/)"
   ]
  },
  {
   "cell_type": "markdown",
   "metadata": {},
   "source": [
    "#### Chapter 1: Decide on final lists of event categories and specific events to be examined"
   ]
  },
  {
   "cell_type": "markdown",
   "metadata": {},
   "source": [
    "**The final list of events (data/swiss/events/events.csv):**\n",
    "\n",
    "1. Zika virus outbreak\n",
    "2. North Korea rocket launch\n",
    "3. Obama visit to Cuba\n",
    "4. EgyptAir flight 804 crash\n",
    "5. UK referendum to leave the EU\n",
    "6. Ataturk Airport attack\n",
    "7. Juno enters Jupiter orbit\n",
    "8. Turkey coup attempt\n",
    "9. Olympic Games in Rio, Brazil\n",
    "10. Panama papers\n",
    "11. Pokemon Go!\n",
    "12. Montreux Jazz Festival 2016\n",
    "13. Brussels Airport attack\n",
    "14. Nice Bastille day attack\n",
    "15. Burkini ban in France\n",
    "16. Ski\n",
    "17. Chocolate\n",
    "18. Macron"
   ]
  },
  {
   "cell_type": "markdown",
   "metadata": {},
   "source": [
    "For each particular event of the aforementioned list we have found out:\n",
    "\n",
    "- The number of tweets which referred to that event per day.\n",
    "\n",
    "\n",
    "- The percentage of the sentiment (NEGATIVE, NEUTRAL, POSITIVE) of each event"
   ]
  },
  {
   "cell_type": "markdown",
   "metadata": {},
   "source": [
    "As soon as we extracted the above information, we could continue with the analysis, which is described thoroughly in our website.\n",
    "\n",
    "Since, the dataset did not provide us with more information about each tweet, we think that our analysis is quite interesting, taking into consideration the time we had to deal with it. Of course, we could have done more if we had more time but we are satisfied with the final analysis! "
   ]
  },
  {
   "cell_type": "markdown",
   "metadata": {},
   "source": [
    "### Section 2: Global tweets dataset analysis"
   ]
  },
  {
   "cell_type": "markdown",
   "metadata": {},
   "source": [
    "#### Dataset Analysis"
   ]
  },
  {
   "cell_type": "markdown",
   "metadata": {},
   "source": [
    "Scripts used:\n",
    "    \n",
    "- job_tweets_by_lang.py\n",
    "\n",
    "Counts tweets by language.\n",
    "\n",
    "- job_tweets_count_all.py\n",
    "\n",
    "Counts tweets for each event category.\n",
    "\n",
    "- job_tweets_count_by_day.py\n",
    "\n",
    "Counts tweets per day."
   ]
  },
  {
   "cell_type": "markdown",
   "metadata": {},
   "source": [
    "- job_leon_daily_tweets.py\n",
    "\n",
    "We have run the script job_leon_daily_tweets.py (**project/src/analysis/**) to extract the data we need to perform our analysis on the tweets leon dataset."
   ]
  },
  {
   "cell_type": "markdown",
   "metadata": {},
   "source": [
    "Unfortunately, we managed to fetch the amount of data we wanted only some minutes before the submission, even though we tried to do that the previous days, the cluster was almost unresponsive for long periods of time.\n",
    "\n",
    "Nevertheless, since we managed to obtain some data we enriched our analysis based on some assumptions. "
   ]
  },
  {
   "cell_type": "markdown",
   "metadata": {},
   "source": [
    "#### Chapter 1: Decide on final lists of event categories and specific events to be examined"
   ]
  },
  {
   "cell_type": "markdown",
   "metadata": {},
   "source": [
    "1. Japan Earthquake & Tsunami\n",
    "2. Osama Bin Landen killed\n",
    "3. Muammar Gaddafi killed\n",
    "4. Mark Duggan police killing, UK riots\n",
    "5. Steve Jobs dies\n",
    "6. Kim Jong-il dies\n",
    "7. Egyptian Revolution, Hosni Mubarak resignation\n",
    "8. New-Zealand earthquake\n",
    "9. Royal Wedding\n",
    "10. Amy Winehouse dies\n",
    "11. Higgs Boson discovery\n",
    "12. Houla Massacre in Syria\n",
    "13. Greek debt crisis\n",
    "14. 2012 Olympic Games in London\n",
    "15. Curiosity Lands on Mars\n",
    "16. Felix Baumgartner sky-dive (Red Bull Stratos)\n",
    "17. Whitney Houston dies\n",
    "18. Neil Armstrong dies\n",
    "19. Shenzhou 9 Chinese spacecraft dock\n",
    "20. Doomsday - 31st December 2012\n",
    "21. Pope Francis election\n",
    "22. Boston Marathon bombing\n",
    "23. Ghouta, Syria sarin gas attack\n",
    "24. Nelson Mandela dies\n",
    "25. Paul Walker dies\n",
    "26. Harlem Shake\n",
    "27. Edward Snowden, NSA\n",
    "28. Oscar Pistorius murders his girlfriend\n",
    "29. North West (Kim Kardashian + Kanye West)\n",
    "30. Egyptian coup against Mohamed Morsi\n",
    "31. Ebola outbreak in West Africa\n",
    "32. Malaysian Airlines MH370 disappears\n",
    "33. Malaysian Airlines MH17 shot down\n",
    "34. FIFA World Cup in Brazil;12/06/2014\n",
    "35. Robin Williams commits suicide\n",
    "36. Scotland UK referendum\n",
    "37. Ferguson shooting\n",
    "38. Rosetta lands on comet\n",
    "39. #BreakTheInternet by Kim Kardashian\n",
    "40. Peshawar school massacre in Pakistan\n",
    "41. Charlie Hebdo attack In Paris\n",
    "42. Germanwings plane crash\n",
    "43. Garissa University College shooting in Kenya\n",
    "44. Nepal magn. 7.8 and 7.3 earthquakes\n",
    "45. Greek government-debt crisis\n",
    "46. Cuba and USA reestablish diplomatic relations\n",
    "47. Volkswagen scandal\n",
    "48. Ankara bombings\n",
    "49. Paris terrorist attacks\n",
    "50. Climate change pact in Paris\n",
    "51. SpaceX lands Falcon 9\n",
    "52. ISIS\n",
    "53. John Forbes Nash dies\n",
    "54. Christopher Lee dies\n",
    "55. Lemmy dies"
   ]
  },
  {
   "cell_type": "markdown",
   "metadata": {},
   "source": [
    "The data of the tweets leon dataset did not provide us with many information except for the tweet, so we found the number of tweets for each event per day.\n",
    "\n",
    "And we decided to split the events into categories (well-known people deaths, loss of life, scientific and political events, sports, non-significant events) and compare their impact along with time."
   ]
  },
  {
   "cell_type": "markdown",
   "metadata": {},
   "source": [
    "### Section 3: Final conclusions"
   ]
  },
  {
   "cell_type": "markdown",
   "metadata": {},
   "source": [
    "Please consult our website https://errikos.github.io/ada-showoff/ where we describe the data stories, compare the impact of some specific events and present the insights we extracted from the swiss tweets and the tweets leon datasets."
   ]
  }
 ],
 "metadata": {
  "kernelspec": {
   "display_name": "Python [conda root]",
   "language": "python",
   "name": "conda-root-py"
  },
  "language_info": {
   "codemirror_mode": {
    "name": "ipython",
    "version": 3
   },
   "file_extension": ".py",
   "mimetype": "text/x-python",
   "name": "python",
   "nbconvert_exporter": "python",
   "pygments_lexer": "ipython3",
   "version": "3.6.3"
  }
 },
 "nbformat": 4,
 "nbformat_minor": 2
}
