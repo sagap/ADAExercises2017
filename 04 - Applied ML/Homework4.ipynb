{
 "cells": [
  {
   "cell_type": "markdown",
   "metadata": {},
   "source": [
    "# 04 - Applied ML"
   ]
  },
  {
   "cell_type": "code",
   "execution_count": 1,
   "metadata": {
    "collapsed": true
   },
   "outputs": [],
   "source": [
    "import os\n",
    "import pandas as pd\n",
    "import numpy as np\n",
    "import matplotlib.pyplot as plt\n",
    "import seaborn as sns\n",
    "import networkx as nx\n",
    "import networkx.algorithms.matching as matching\n",
    "import nltk\n",
    "\n",
    "from sklearn.feature_extraction.text import TfidfVectorizer\n",
    "from sklearn.linear_model import LinearRegression, LogisticRegression\n",
    "from sklearn.preprocessing import OneHotEncoder\n",
    "from sklearn.datasets import fetch_20newsgroups\n",
    "from sklearn.model_selection import cross_val_predict\n",
    "from sklearn.model_selection import cross_val_score\n",
    "from pandas.plotting import scatter_matrix\n",
    "\n",
    "from nltk import word_tokenize\n",
    "from nltk.corpus import stopwords\n",
    "from nltk.tokenize import RegexpTokenizer\n",
    "\n",
    "%matplotlib inline\n",
    "\n",
    "DATA_DIR = '.'"
   ]
  },
  {
   "cell_type": "markdown",
   "metadata": {},
   "source": [
    "## Question 1: Propensity score matching\n",
    "\n",
    "In this exercise, you will apply [propensity score matching](http://www.stewartschultz.com/statistics/books/Design%20of%20observational%20studies.pdf), which we discussed in lecture 5 (\"Observational studies\"), in order to draw conclusions from an observational study.\n",
    "\n",
    "We will work with a by-now classic dataset from Robert LaLonde's study \"[Evaluating the Econometric Evaluations of Training Programs](http://people.hbs.edu/nashraf/LaLonde_1986.pdf)\" (1986).\n",
    "The study investigated the effect of a job training program (\"National Supported Work Demonstration\") on the real earnings of an individual, a couple of years after completion of the program.\n",
    "Your task is to determine the effectiveness of the \"treatment\" represented by the job training program.\n",
    "\n",
    "#### Dataset description\n",
    "\n",
    "- `treat`: 1 if the subject participated in the job training program, 0 otherwise\n",
    "- `age`: the subject's age\n",
    "- `educ`: years of education\n",
    "- `race`: categorical variable with three possible values: Black, Hispanic, or White\n",
    "- `married`: 1 if the subject was married at the time of the training program, 0 otherwise\n",
    "- `nodegree`: 1 if the subject has earned no school degree, 0 otherwise\n",
    "- `re74`: real earnings in 1974 (pre-treatment)\n",
    "- `re75`: real earnings in 1975 (pre-treatment)\n",
    "- `re78`: real earnings in 1978 (outcome)\n",
    "\n",
    "If you want to brush up your knowledge on propensity scores and observational studies, we highly recommend Rosenbaum's excellent book on the [\"Design of Observational Studies\"](http://www.stewartschultz.com/statistics/books/Design%20of%20observational%20studies.pdf). Even just reading the first chapter (18 pages) will help you a lot.\n",
    "\n",
    "#### 1. A naive analysis\n",
    "\n",
    "Compare the distribution of the outcome variable (`re78`) between the two groups, using plots and numbers.\n",
    "To summarize and compare the distributions, you may use the techniques we discussed in lectures 4 (\"Read the stats carefully\") and 6 (\"Data visualization\").\n",
    "\n",
    "What might a naive \"researcher\" conclude from this superficial analysis?"
   ]
  },
  {
   "cell_type": "markdown",
   "metadata": {},
   "source": [
    "#### Answer:"
   ]
  },
  {
   "cell_type": "markdown",
   "metadata": {},
   "source": [
    "In order to answer this question, we will load the dataset from the csv file and then perform various visualizations, in order to see if we can come up with any conclusions:"
   ]
  },
  {
   "cell_type": "code",
   "execution_count": 2,
   "metadata": {
    "scrolled": false
   },
   "outputs": [
    {
     "data": {
      "text/html": [
       "<div>\n",
       "<style>\n",
       "    .dataframe thead tr:only-child th {\n",
       "        text-align: right;\n",
       "    }\n",
       "\n",
       "    .dataframe thead th {\n",
       "        text-align: left;\n",
       "    }\n",
       "\n",
       "    .dataframe tbody tr th {\n",
       "        vertical-align: top;\n",
       "    }\n",
       "</style>\n",
       "<table border=\"1\" class=\"dataframe\">\n",
       "  <thead>\n",
       "    <tr style=\"text-align: right;\">\n",
       "      <th></th>\n",
       "      <th>id</th>\n",
       "      <th>treat</th>\n",
       "      <th>age</th>\n",
       "      <th>educ</th>\n",
       "      <th>black</th>\n",
       "      <th>hispan</th>\n",
       "      <th>married</th>\n",
       "      <th>nodegree</th>\n",
       "      <th>re74</th>\n",
       "      <th>re75</th>\n",
       "      <th>re78</th>\n",
       "    </tr>\n",
       "  </thead>\n",
       "  <tbody>\n",
       "    <tr>\n",
       "      <th>0</th>\n",
       "      <td>NSW1</td>\n",
       "      <td>1</td>\n",
       "      <td>37</td>\n",
       "      <td>11</td>\n",
       "      <td>1</td>\n",
       "      <td>0</td>\n",
       "      <td>1</td>\n",
       "      <td>1</td>\n",
       "      <td>0.0</td>\n",
       "      <td>0.0</td>\n",
       "      <td>9930.0460</td>\n",
       "    </tr>\n",
       "    <tr>\n",
       "      <th>1</th>\n",
       "      <td>NSW2</td>\n",
       "      <td>1</td>\n",
       "      <td>22</td>\n",
       "      <td>9</td>\n",
       "      <td>0</td>\n",
       "      <td>1</td>\n",
       "      <td>0</td>\n",
       "      <td>1</td>\n",
       "      <td>0.0</td>\n",
       "      <td>0.0</td>\n",
       "      <td>3595.8940</td>\n",
       "    </tr>\n",
       "    <tr>\n",
       "      <th>2</th>\n",
       "      <td>NSW3</td>\n",
       "      <td>1</td>\n",
       "      <td>30</td>\n",
       "      <td>12</td>\n",
       "      <td>1</td>\n",
       "      <td>0</td>\n",
       "      <td>0</td>\n",
       "      <td>0</td>\n",
       "      <td>0.0</td>\n",
       "      <td>0.0</td>\n",
       "      <td>24909.4500</td>\n",
       "    </tr>\n",
       "    <tr>\n",
       "      <th>3</th>\n",
       "      <td>NSW4</td>\n",
       "      <td>1</td>\n",
       "      <td>27</td>\n",
       "      <td>11</td>\n",
       "      <td>1</td>\n",
       "      <td>0</td>\n",
       "      <td>0</td>\n",
       "      <td>1</td>\n",
       "      <td>0.0</td>\n",
       "      <td>0.0</td>\n",
       "      <td>7506.1460</td>\n",
       "    </tr>\n",
       "    <tr>\n",
       "      <th>4</th>\n",
       "      <td>NSW5</td>\n",
       "      <td>1</td>\n",
       "      <td>33</td>\n",
       "      <td>8</td>\n",
       "      <td>1</td>\n",
       "      <td>0</td>\n",
       "      <td>0</td>\n",
       "      <td>1</td>\n",
       "      <td>0.0</td>\n",
       "      <td>0.0</td>\n",
       "      <td>289.7899</td>\n",
       "    </tr>\n",
       "  </tbody>\n",
       "</table>\n",
       "</div>"
      ],
      "text/plain": [
       "     id  treat  age  educ  black  hispan  married  nodegree  re74  re75  \\\n",
       "0  NSW1      1   37    11      1       0        1         1   0.0   0.0   \n",
       "1  NSW2      1   22     9      0       1        0         1   0.0   0.0   \n",
       "2  NSW3      1   30    12      1       0        0         0   0.0   0.0   \n",
       "3  NSW4      1   27    11      1       0        0         1   0.0   0.0   \n",
       "4  NSW5      1   33     8      1       0        0         1   0.0   0.0   \n",
       "\n",
       "         re78  \n",
       "0   9930.0460  \n",
       "1   3595.8940  \n",
       "2  24909.4500  \n",
       "3   7506.1460  \n",
       "4    289.7899  "
      ]
     },
     "execution_count": 2,
     "metadata": {},
     "output_type": "execute_result"
    }
   ],
   "source": [
    "# Load the dataset into a DataFrame\n",
    "data = pd.read_csv(os.path.join(DATA_DIR, 'lalonde.csv'))\n",
    "data.head()"
   ]
  },
  {
   "cell_type": "code",
   "execution_count": 3,
   "metadata": {
    "scrolled": true
   },
   "outputs": [
    {
     "name": "stdout",
     "output_type": "stream",
     "text": [
      "Treated: 185, Control: 429)\n"
     ]
    }
   ],
   "source": [
    "# Split the dataset into two datasets, one for the people who received the treatment (treated) and one for the\n",
    "# people who didn't receive the threatment (control)\n",
    "treated = data[data['treat'] == 1]\n",
    "control = data[data['treat'] == 0]\n",
    "\n",
    "print(\"Treated: %d, Control: %d)\" % (len(treated), len(control)))"
   ]
  },
  {
   "cell_type": "markdown",
   "metadata": {},
   "source": [
    "First, we show useful information regarding the column \"re78\" in both datasets, using the function \"describe\":"
   ]
  },
  {
   "cell_type": "code",
   "execution_count": 4,
   "metadata": {
    "scrolled": true
   },
   "outputs": [
    {
     "data": {
      "text/plain": [
       "count      185.000000\n",
       "mean      6349.143530\n",
       "std       7867.402218\n",
       "min          0.000000\n",
       "25%        485.229800\n",
       "50%       4232.309000\n",
       "75%       9642.999000\n",
       "max      60307.930000\n",
       "Name: re78, dtype: float64"
      ]
     },
     "execution_count": 4,
     "metadata": {},
     "output_type": "execute_result"
    }
   ],
   "source": [
    "treated['re78'].describe()"
   ]
  },
  {
   "cell_type": "code",
   "execution_count": 5,
   "metadata": {
    "scrolled": true
   },
   "outputs": [
    {
     "data": {
      "text/plain": [
       "count      429.000000\n",
       "mean      6984.169742\n",
       "std       7294.161791\n",
       "min          0.000000\n",
       "25%        220.181300\n",
       "50%       4975.505000\n",
       "75%      11688.820000\n",
       "max      25564.670000\n",
       "Name: re78, dtype: float64"
      ]
     },
     "execution_count": 5,
     "metadata": {},
     "output_type": "execute_result"
    }
   ],
   "source": [
    "control['re78'].describe()"
   ]
  },
  {
   "cell_type": "markdown",
   "metadata": {},
   "source": [
    "We observe that in the control group, the mean value of the column is slightly higher than in the treated group. Apart from that, the standard deviation from the mean value, seems to be smaller in the control group than in the treated group. This shows that, on average, individuals that have not received the treatment, seem to have received a slightly higher income during 1978."
   ]
  },
  {
   "cell_type": "markdown",
   "metadata": {},
   "source": [
    "In order to get even more useful information regarding the data, we create two histograms of the frequency with which a certain income shows up, in the treated group and the control group:"
   ]
  },
  {
   "cell_type": "code",
   "execution_count": 6,
   "metadata": {
    "scrolled": false
   },
   "outputs": [
    {
     "data": {
      "text/plain": [
       "<matplotlib.text.Text at 0x11c2226d8>"
      ]
     },
     "execution_count": 6,
     "metadata": {},
     "output_type": "execute_result"
    },
    {
     "data": {
      "image/png": "[encoded data removed]",
      "text/plain": [
       "<matplotlib.figure.Figure at 0x11c1f95c0>"
      ]
     },
     "metadata": {},
     "output_type": "display_data"
    }
   ],
   "source": [
    "fig, axes = plt.subplots(nrows=1, ncols=2, sharex=True, sharey=True)\n",
    "\n",
    "treated['re78'].plot.hist(ax=axes[0], grid=True, figsize=(15,5), title=\"Distribution of 're78' in treated group\", \n",
    "                          bins=[x*1000 for x in range(70)],\n",
    "                          weights=np.zeros_like(treated['re78']) + 1. / treated['re78'].size * 100)\n",
    "\n",
    "control['re78'].plot.hist(ax=axes[1], grid=True, figsize=(15,5), title=\"Distribution of 're78' in control group\", \n",
    "                          bins=[x*1000 for x in range(70)],\n",
    "                          weights=np.zeros_like(control['re78']) + 1. / control['re78'].size * 100)\n",
    "\n",
    "fig.text(0.5, 0.04, 're78', ha='center')\n",
    "axes[0].set_ylabel(\"Percentage(%)\")"
   ]
  },
  {
   "cell_type": "markdown",
   "metadata": {},
   "source": [
    "We also create two box plots for the two groups:"
   ]
  },
  {
   "cell_type": "code",
   "execution_count": 7,
   "metadata": {
    "scrolled": true
   },
   "outputs": [
    {
     "data": {
      "text/plain": [
       "<matplotlib.axes._subplots.AxesSubplot at 0x1a253d45f8>"
      ]
     },
     "execution_count": 7,
     "metadata": {},
     "output_type": "execute_result"
    },
    {
     "data": {
      "image/png": "[encoded data removed]",
      "text/plain": [
       "<matplotlib.figure.Figure at 0x11c1f9400>"
      ]
     },
     "metadata": {},
     "output_type": "display_data"
    }
   ],
   "source": [
    "fig, axes = plt.subplots(nrows=1, ncols=2, sharex=True, sharey=True)\n",
    "\n",
    "treated['re78'].plot.box(ax=axes[0], grid=True, figsize=(15,5), title=\"Boxplot of 're78' in treated group\")\n",
    "control['re78'].plot.box(ax=axes[1], grid=True, figsize=(15,5), title=\"Boxplot of 're78' in control group\")"
   ]
  },
  {
   "cell_type": "markdown",
   "metadata": {},
   "source": [
    "We observe that the two distributions look very similar, as far as the median and quartiles are concerned. The distribution histograms show a lot of similarities as well. Generally, for both groups, a very big percentage of individuals (around 75%) had an income of 0-10,000 in 1978, while the remaining ~25% had salaries that ranged from 10,000 to 25,000. There are unemployed people (re78 = 0) in both groups, with a very close percentage (around 31%-32% for both). However, there are treated individuals with an income higher than 25,000 (up until 60,000), but their percentage is very small, therefore they are considered to be outliers."
   ]
  },
  {
   "cell_type": "markdown",
   "metadata": {},
   "source": [
    "From all the above, a naive \"researcher\" could conclude that the training seems to have a relatively small impact to the salaries of the trained individuals, compared to the untrained ones. All in all, the training could be considered to be a bit unsuccessful."
   ]
  },
  {
   "cell_type": "markdown",
   "metadata": {},
   "source": [
    "#### 2. A closer look at the data\n",
    "\n",
    "You're not naive, of course (and even if you are, you've learned certain things in ADA), so you aren't content with a superficial analysis such as the above.\n",
    "You're aware of the dangers of observational studies, so you take a closer look at the data before jumping to conclusions.\n",
    "\n",
    "For each feature in the dataset, compare its distribution in the treated group with its distribution in the control group, using plots and numbers.\n",
    "As above, you may use the techniques we discussed in class for summarizing and comparing the distributions.\n",
    "\n",
    "What do you observe?\n",
    "Describe what your observations mean for the conclusions drawn by the naive \"researcher\" from his superficial analysis."
   ]
  },
  {
   "cell_type": "markdown",
   "metadata": {},
   "source": [
    "#### Answer"
   ]
  },
  {
   "cell_type": "markdown",
   "metadata": {},
   "source": [
    "We continue to observe the data by doing exactly what the description dictates: for each feature (column) of the two datasets, we examine its distribution in the corresponding group (mainly by using the \"describe\" function, as well as histograms, bar plots and box plots) and we describe our observations.\n",
    "\n",
    "1) We examine the age of the individuals in the two groups:"
   ]
  },
  {
   "cell_type": "code",
   "execution_count": 8,
   "metadata": {},
   "outputs": [
    {
     "data": {
      "text/plain": [
       "count    185.000000\n",
       "mean      25.816216\n",
       "std        7.155019\n",
       "min       17.000000\n",
       "25%       20.000000\n",
       "50%       25.000000\n",
       "75%       29.000000\n",
       "max       48.000000\n",
       "Name: age, dtype: float64"
      ]
     },
     "execution_count": 8,
     "metadata": {},
     "output_type": "execute_result"
    }
   ],
   "source": [
    "treated['age'].describe()"
   ]
  },
  {
   "cell_type": "code",
   "execution_count": 9,
   "metadata": {
    "scrolled": false
   },
   "outputs": [
    {
     "data": {
      "text/plain": [
       "count    429.000000\n",
       "mean      28.030303\n",
       "std       10.786653\n",
       "min       16.000000\n",
       "25%       19.000000\n",
       "50%       25.000000\n",
       "75%       35.000000\n",
       "max       55.000000\n",
       "Name: age, dtype: float64"
      ]
     },
     "execution_count": 9,
     "metadata": {},
     "output_type": "execute_result"
    }
   ],
   "source": [
    "control['age'].describe()"
   ]
  },
  {
   "cell_type": "code",
   "execution_count": 10,
   "metadata": {
    "scrolled": false
   },
   "outputs": [
    {
     "data": {
      "text/plain": [
       "<matplotlib.text.Text at 0x1a25504240>"
      ]
     },
     "execution_count": 10,
     "metadata": {},
     "output_type": "execute_result"
    },
    {
     "data": {
      "image/png": "[encoded data removed]",
      "text/plain": [
       "<matplotlib.figure.Figure at 0x1a254d3908>"
      ]
     },
     "metadata": {},
     "output_type": "display_data"
    }
   ],
   "source": [
    "fig, axes = plt.subplots(nrows=1, ncols=2, sharex=True, sharey=True)\n",
    "\n",
    "treated['age'].plot.hist(ax=axes[0], grid=True, figsize=(15,5), title=\"Distribution of age in treated group\", \n",
    "                         bins=[x for x in range(15, 60)], \n",
    "                         weights=np.zeros_like(treated['age']) + 1. / treated['age'].size * 100)\n",
    "\n",
    "\n",
    "control['age'].plot.hist(ax=axes[1], grid=True, figsize=(15,5), title=\"Distribution of age in control group\", \n",
    "                         bins=[x for x in range(15, 60)],\n",
    "                         weights=np.zeros_like(control['age']) + 1. / control['age'].size * 100)\n",
    "\n",
    "fig.text(0.5, 0.04, 'age', ha='center')\n",
    "axes[0].set_ylabel(\"Percentage(%)\")"
   ]
  },
  {
   "cell_type": "code",
   "execution_count": 11,
   "metadata": {},
   "outputs": [
    {
     "data": {
      "text/plain": [
       "<matplotlib.axes._subplots.AxesSubplot at 0x1a25a6a4e0>"
      ]
     },
     "execution_count": 11,
     "metadata": {},
     "output_type": "execute_result"
    },
    {
     "data": {
      "image/png": "[encoded data removed]",
      "text/plain": [
       "<matplotlib.figure.Figure at 0x1a254ecc50>"
      ]
     },
     "metadata": {},
     "output_type": "display_data"
    }
   ],
   "source": [
    "fig, axes = plt.subplots(nrows=1, ncols=2, sharex=True, sharey=True)\n",
    "\n",
    "treated['age'].plot.box(ax=axes[0], grid=True, figsize=(15,5), title=\"Boxplot of age in treated group\")\n",
    "control['age'].plot.box(ax=axes[1], grid=True, figsize=(15,5), title=\"Boxplot of age in control group\")"
   ]
  },
  {
   "cell_type": "markdown",
   "metadata": {},
   "source": [
    "In general, the ages of people seem to be quite different in the two groups. In the treated group, the relative amount of people with ages between 25 and 28 y.o. is quite significantly higher than the relative amount of individuals of this age group in the control group. On the other hand, in the control group, there is a certain amount of older (>48 years old) individuals, while in the treated group, the maximum age is 42 y.o (apart from a few outliers). Generally, just by looking at the two histograms and the two boxplots, it is relatively obvious that the age distributions in the two groups are not at all close."
   ]
  },
  {
   "cell_type": "markdown",
   "metadata": {},
   "source": [
    "2) We examine the years of education of the individuals in the two groups:"
   ]
  },
  {
   "cell_type": "code",
   "execution_count": 12,
   "metadata": {
    "scrolled": false
   },
   "outputs": [
    {
     "data": {
      "text/plain": [
       "count    185.000000\n",
       "mean      10.345946\n",
       "std        2.010650\n",
       "min        4.000000\n",
       "25%        9.000000\n",
       "50%       11.000000\n",
       "75%       12.000000\n",
       "max       16.000000\n",
       "Name: educ, dtype: float64"
      ]
     },
     "execution_count": 12,
     "metadata": {},
     "output_type": "execute_result"
    }
   ],
   "source": [
    "treated['educ'].describe()"
   ]
  },
  {
   "cell_type": "code",
   "execution_count": 13,
   "metadata": {
    "scrolled": true
   },
   "outputs": [
    {
     "data": {
      "text/plain": [
       "count    429.000000\n",
       "mean      10.235431\n",
       "std        2.855238\n",
       "min        0.000000\n",
       "25%        9.000000\n",
       "50%       11.000000\n",
       "75%       12.000000\n",
       "max       18.000000\n",
       "Name: educ, dtype: float64"
      ]
     },
     "execution_count": 13,
     "metadata": {},
     "output_type": "execute_result"
    }
   ],
   "source": [
    "control['educ'].describe()"
   ]
  },
  {
   "cell_type": "code",
   "execution_count": 14,
   "metadata": {
    "scrolled": false
   },
   "outputs": [
    {
     "data": {
      "text/plain": [
       "<matplotlib.text.Text at 0x1a25bacb70>"
      ]
     },
     "execution_count": 14,
     "metadata": {},
     "output_type": "execute_result"
    },
    {
     "data": {
      "image/png": "[encoded data removed]",
      "text/plain": [
       "<matplotlib.figure.Figure at 0x1a25b8d978>"
      ]
     },
     "metadata": {},
     "output_type": "display_data"
    }
   ],
   "source": [
    "fig, axes = plt.subplots(nrows=1, ncols=2, sharex=True, sharey=True)\n",
    "\n",
    "treated['educ'].plot.hist(ax=axes[0], grid=True, figsize=(15,5), \n",
    "                          title=\"Distribution of years of education in treated group\", \n",
    "                          bins=[x for x in range(0, 20)],\n",
    "                          weights=np.zeros_like(treated['educ']) + 1. / treated['educ'].size * 100)\n",
    "\n",
    "control['educ'].plot.hist(ax=axes[1], grid=True, figsize=(15,5), \n",
    "                          title=\"Distribution of years of education in control group\", \n",
    "                          bins=[x for x in range(0, 20)],\n",
    "                          weights=np.zeros_like(control['educ']) + 1. / control['educ'].size * 100)\n",
    "\n",
    "fig.text(0.5, 0.04, 'Years of education', ha='center')\n",
    "axes[0].set_ylabel(\"Percentage(%)\")"
   ]
  },
  {
   "cell_type": "code",
   "execution_count": 15,
   "metadata": {},
   "outputs": [
    {
     "data": {
      "text/plain": [
       "<matplotlib.axes._subplots.AxesSubplot at 0x1a26031668>"
      ]
     },
     "execution_count": 15,
     "metadata": {},
     "output_type": "execute_result"
    },
    {
     "data": {
      "image/png": "[encoded data removed]",
      "text/plain": [
       "<matplotlib.figure.Figure at 0x1a25af1b38>"
      ]
     },
     "metadata": {},
     "output_type": "display_data"
    }
   ],
   "source": [
    "fig, axes = plt.subplots(nrows=1, ncols=2, sharex=True, sharey=True)\n",
    "\n",
    "treated['educ'].plot.box(ax=axes[0], grid=True, figsize=(15,5), \n",
    "                          title=\"Boxplot of years of education in treated group\")\n",
    "\n",
    "control['educ'].plot.box(ax=axes[1], grid=True, figsize=(15,5), \n",
    "                          title=\"Boxplot of years of education in control group\")"
   ]
  },
  {
   "cell_type": "markdown",
   "metadata": {},
   "source": [
    "Some differences between the individuals of the two groups can also be observed regarding their years of education. Indicatively, we can mention that, the largest percentage of treated individuals (~23%) has had around 11 years of education, while the largest percentage of non-treated people (~27%) has had around 12-13 years of education. By looking at the histograms and boxplots, however, we can see that the general shape of the distributions doesn't seem to differ that much between the two groups. More specifically, in both groups, the biggest percentages seem to be concentrated in the middle values of the histogram (8-13 y.o.e), while smaller percentages are concentrated on the sides of the histogram."
   ]
  },
  {
   "cell_type": "markdown",
   "metadata": {},
   "source": [
    "3) We examine the race of the individuals in the two groups:"
   ]
  },
  {
   "cell_type": "code",
   "execution_count": 16,
   "metadata": {
    "scrolled": false
   },
   "outputs": [
    {
     "name": "stdout",
     "output_type": "stream",
     "text": [
      "\u001b[4mBlack\u001b[0m people take up 84% of the treated group\n",
      "\u001b[4mHispanic\u001b[0m people take up 6% of the treated group\n",
      "\u001b[4mWhite\u001b[0m people take up 10% of the treated group\n",
      "\n",
      "\u001b[4mBlack\u001b[0m people take up 20% of the control group\n",
      "\u001b[4mHispanic\u001b[0m people take up 14% of the control group\n",
      "\u001b[4mWhite\u001b[0m people take up 66% of the treated group\n",
      "\n"
     ]
    }
   ],
   "source": [
    "# We observe:\n",
    "# a) the percentage of black people in the treated group:\n",
    "print(\"\\033[4mBlack\\033[0m people take up %d%% of the treated group\" % \n",
    "      (round(treated['black'].sum()/len(treated) * 100)))\n",
    "\n",
    "# b) the percentage of hispanic people in the treated group:\n",
    "print(\"\\033[4mHispanic\\033[0m people take up %d%% of the treated group\" % \n",
    "      (round(treated['hispan'].sum()/len(treated) * 100)))\n",
    "\n",
    "# c) the percentage of white people in the treated group:\n",
    "treated_white = treated[(treated['black'] == 0) & (treated['hispan'] == 0)]\n",
    "print(\"\\033[4mWhite\\033[0m people take up %d%% of the treated group\\n\" % \n",
    "      (round(len(treated_white)/len(treated) * 100)))\n",
    "\n",
    "# d) the percentage of black people in the control group:\n",
    "print(\"\\033[4mBlack\\033[0m people take up %d%% of the control group\" % \n",
    "      (round(control['black'].sum()/len(control) * 100)))\n",
    "\n",
    "# e) the percentage of hispanic people in the control group:\n",
    "print(\"\\033[4mHispanic\\033[0m people take up %d%% of the control group\" % \n",
    "      (round(control['hispan'].sum()/len(control) * 100)))\n",
    "\n",
    "# f) the percentage of white people in the control group:\n",
    "control_white = control[(control['black'] == 0) & (control['hispan'] == 0)]\n",
    "print(\"\\033[4mWhite\\033[0m people take up %d%% of the treated group\\n\" % \n",
    "      (round(len(control_white)/len(control) * 100)))\n"
   ]
  },
  {
   "cell_type": "markdown",
   "metadata": {},
   "source": [
    "Surprisingly, the distribution of people into the three races varies significantly between the two groups. We visualize this discrepancy with a bar plot:"
   ]
  },
  {
   "cell_type": "code",
   "execution_count": 17,
   "metadata": {
    "scrolled": false
   },
   "outputs": [
    {
     "data": {
      "text/plain": [
       "<matplotlib.figure.Figure at 0x1a26153cf8>"
      ]
     },
     "metadata": {},
     "output_type": "display_data"
    },
    {
     "data": {
      "image/png": "[encoded data removed]",
      "text/plain": [
       "<matplotlib.figure.Figure at 0x1a26153d30>"
      ]
     },
     "metadata": {},
     "output_type": "display_data"
    }
   ],
   "source": [
    "treated_races = pd.DataFrame({'Black' :  pd.Series(treated['black'].sum()/len(treated) * 100),\n",
    "                              'Hispanic' : pd.Series(treated['hispan'].sum()/len(treated) * 100),\n",
    "                              'White' : pd.Series(len(treated_white)/len(treated) * 100)})\n",
    "\n",
    "\n",
    "control_races = pd.DataFrame({'Black' :  pd.Series(control['black'].sum()/len(control) * 100),\n",
    "                              'Hispanic' : pd.Series(control['hispan'].sum()/len(control) * 100),\n",
    "                              'White' : pd.Series(len(control_white)/len(control) * 100)})\n",
    "\n",
    "plt.figure()\n",
    "fig, axes = plt.subplots(nrows=1, ncols=2, sharex=True, sharey=True)\n",
    "\n",
    "treated_races.plot(ax=axes[0], y=['Black', 'Hispanic', 'White'], kind=\"bar\",\n",
    "                   figsize=(13, 5), title=\"Races of individuals in treated group\", grid=True)\n",
    "\n",
    "control_races.plot(ax=axes[1], y=['Black', 'Hispanic', 'White'], kind=\"bar\", \n",
    "                   figsize=(13, 5), title=\"Races of individuals in control group\", grid=True)\n",
    "\n",
    "fig.text(0.5, 0.04, 'Race', ha='center')\n",
    "axes[0].set_ylabel(\"Percentage(%)\")\n",
    "axes[0].get_xaxis().set_visible(False)\n",
    "axes[1].get_xaxis().set_visible(False)\n",
    "plt.show()"
   ]
  },
  {
   "cell_type": "markdown",
   "metadata": {},
   "source": [
    "It becomes apparent that there is a huge difference between the two groups, regarding people's races. Almost the entirety of the treated group consists of black people (84%), while there is a small percentage of hispanic and white people. On the other hand the control group is consisted mainly of white people (66%) and less black and white people."
   ]
  },
  {
   "cell_type": "markdown",
   "metadata": {},
   "source": [
    "4) We examine the percentage of married and unmarried people in the two groups:"
   ]
  },
  {
   "cell_type": "code",
   "execution_count": 18,
   "metadata": {
    "scrolled": true
   },
   "outputs": [
    {
     "name": "stdout",
     "output_type": "stream",
     "text": [
      "\u001b[4mMarried\u001b[0m people take up 19% of the treated group\n",
      "\u001b[4mUnmarried\u001b[0m people take up 81% of the treated group\n",
      "\n",
      "\u001b[4mMarried\u001b[0m people take up 51% of the control group\n",
      "\u001b[4mUnmarried\u001b[0m people take up 49% of the control group\n"
     ]
    }
   ],
   "source": [
    "# We observe:\n",
    "# a) the percentage of married people in the treated group:\n",
    "print(\"\\033[4mMarried\\033[0m people take up %d%% of the treated group\" % \n",
    "      (round(treated['married'].sum()/len(treated) * 100)))\n",
    "\n",
    "# b) the percentage of unmarried people in the treated group:\n",
    "print(\"\\033[4mUnmarried\\033[0m people take up %d%% of the treated group\\n\" % \n",
    "      (round((len(treated) - treated['married'].sum())/len(treated) * 100)))\n",
    "# c) the percentage of married people in the control group:\n",
    "print(\"\\033[4mMarried\\033[0m people take up %d%% of the control group\" % \n",
    "      (round(control['married'].sum()/len(control) * 100)))\n",
    "\n",
    "# d) the percentage of unmarried people in the control group:\n",
    "print(\"\\033[4mUnmarried\\033[0m people take up %d%% of the control group\" % \n",
    "      (round((len(control) - control['married'].sum())/len(control) * 100)))"
   ]
  },
  {
   "cell_type": "markdown",
   "metadata": {},
   "source": [
    "Similarly to the distribution of races, the distribution of married and unmarried people shows great variance between the two groups. Again, we use a bar plot in order to see the differences clearly:"
   ]
  },
  {
   "cell_type": "code",
   "execution_count": 19,
   "metadata": {
    "scrolled": false
   },
   "outputs": [
    {
     "data": {
      "text/plain": [
       "<matplotlib.figure.Figure at 0x1a26153908>"
      ]
     },
     "metadata": {},
     "output_type": "display_data"
    },
    {
     "data": {
      "image/png": "[encoded data removed]",
      "text/plain": [
       "<matplotlib.figure.Figure at 0x1a26153978>"
      ]
     },
     "metadata": {},
     "output_type": "display_data"
    }
   ],
   "source": [
    "treated_status = pd.DataFrame({'Married' :  pd.Series(treated['married'].sum()/len(treated) * 100),\n",
    "                               'Unmarried' : pd.Series((len(treated) - treated['married'].sum())\n",
    "                                                                    /len(treated) * 100)})\n",
    "\n",
    "\n",
    "control_status = pd.DataFrame({'Married' :  pd.Series(control['married'].sum()/len(control) * 100),\n",
    "                              'Unmarried' : pd.Series((len(control) - control['married'].sum())\n",
    "                                                                    /len(control) * 100)})\n",
    "\n",
    "plt.figure()\n",
    "fig, axes = plt.subplots(nrows=1, ncols=2, sharex=True, sharey=True)\n",
    "\n",
    "treated_status.plot(ax=axes[0], y=['Married', 'Unmarried'], kind=\"bar\",\n",
    "                   figsize=(15, 6), title=\"Marital status of individuals in treated group\", grid=True)\n",
    "\n",
    "control_status.plot(ax=axes[1], y=['Married', 'Unmarried'], kind=\"bar\", \n",
    "                   figsize=(15, 6), title=\"Marital status of individuals in control group\", grid=True)\n",
    "\n",
    "fig.text(0.5, 0.04, 'Marital status', ha='center')\n",
    "axes[0].set_ylabel(\"Percentage(%)\")\n",
    "axes[0].get_xaxis().set_visible(False)\n",
    "axes[1].get_xaxis().set_visible(False)\n",
    "plt.show()"
   ]
  },
  {
   "cell_type": "markdown",
   "metadata": {},
   "source": [
    "It is obvious that unmarried people take up the majority of the treated group (81%), while in the control group, there are married and unmarried people in fairly equal amounts. "
   ]
  },
  {
   "cell_type": "markdown",
   "metadata": {},
   "source": [
    "5) We examine the percentages of people with a school degree and without a school degree in the two groups:"
   ]
  },
  {
   "cell_type": "code",
   "execution_count": 20,
   "metadata": {},
   "outputs": [
    {
     "name": "stdout",
     "output_type": "stream",
     "text": [
      "People \u001b[4mwith a school degree\u001b[0m take up 29% of the treated group\n",
      "People \u001b[4mwithout a school degree\u001b[0m take up 71% of the treated group\n",
      "\n",
      "People \u001b[4mwith a school degree\u001b[0m take up 40% of the control group\n",
      "People \u001b[4mwithout a school degree\u001b[0m take up 60% of the control group\n",
      "\n"
     ]
    }
   ],
   "source": [
    "# We observe:\n",
    "# a) the percentage of people with a degree in the treated group:\n",
    "print(\"People \\033[4mwith a school degree\\033[0m take up %d%% of the treated group\" % \n",
    "      (round((len(treated) - treated['nodegree'].sum())/len(treated) * 100)))\n",
    "\n",
    "# b) the percentage of people without a degree in the treated group:\n",
    "print(\"People \\033[4mwithout a school degree\\033[0m take up %d%% of the treated group\\n\" % \n",
    "      (round(treated['nodegree'].sum()/len(treated) * 100)))\n",
    "\n",
    "# c) the percentage of people with a degree in the control group:\n",
    "print(\"People \\033[4mwith a school degree\\033[0m take up %d%% of the control group\" % \n",
    "      (round((len(control) - control['nodegree'].sum())/len(control) * 100)))\n",
    "\n",
    "# d) the percentage of people without a degree in the control group:\n",
    "print(\"People \\033[4mwithout a school degree\\033[0m take up %d%% of the control group\\n\" % \n",
    "      (round(control['nodegree'].sum()/len(control) * 100)))\n"
   ]
  },
  {
   "cell_type": "markdown",
   "metadata": {},
   "source": [
    "We use a bar plot, to visualize the above percentages:"
   ]
  },
  {
   "cell_type": "code",
   "execution_count": 21,
   "metadata": {
    "scrolled": false
   },
   "outputs": [
    {
     "data": {
      "text/plain": [
       "<matplotlib.figure.Figure at 0x1a2611dfd0>"
      ]
     },
     "metadata": {},
     "output_type": "display_data"
    },
    {
     "data": {
      "image/png": "[encoded data removed]",
      "text/plain": [
       "<matplotlib.figure.Figure at 0x1a2611df28>"
      ]
     },
     "metadata": {},
     "output_type": "display_data"
    }
   ],
   "source": [
    "treated_degree = pd.DataFrame({'No degree' :  pd.Series(treated['nodegree'].sum()/len(treated) * 100),\n",
    "                               'Degree' : pd.Series((len(treated) - treated['nodegree'].sum())\n",
    "                                                                    /len(treated) * 100)})\n",
    "\n",
    "\n",
    "control_degree = pd.DataFrame({'No degree' :  pd.Series(control['nodegree'].sum()/len(control) * 100),\n",
    "                               'Degree' : pd.Series((len(control) - control['nodegree'].sum())\n",
    "                                                                    /len(control) * 100)})\n",
    "\n",
    "plt.figure()\n",
    "fig, axes = plt.subplots(nrows=1, ncols=2, sharex=True, sharey=True)\n",
    "\n",
    "treated_degree.plot(ax=axes[0], y=['Degree', 'No degree'], kind=\"bar\",\n",
    "                   figsize=(15, 6), title=\"Possession of school degrees in treated group\", grid=True)\n",
    "\n",
    "control_degree.plot(ax=axes[1], y=['Degree', 'No degree'], kind=\"bar\", \n",
    "                   figsize=(15, 6), title=\"Possession of school degrees in control group\", grid=True)\n",
    "\n",
    "fig.text(0.5, 0.04, 'Degree status', ha='center')\n",
    "axes[0].set_ylabel(\"Percentage(%)\")\n",
    "axes[0].get_xaxis().set_visible(False)\n",
    "axes[1].get_xaxis().set_visible(False)\n",
    "plt.show()"
   ]
  },
  {
   "cell_type": "markdown",
   "metadata": {},
   "source": [
    "Both groups seem to contain more people without a degree than people with a degree, although in the treated group, the percentage of people with no degree is a little bigger than the corresponding percentage in the control group. All in all however, the feature looks quite balanced in the two groups."
   ]
  },
  {
   "cell_type": "markdown",
   "metadata": {},
   "source": [
    "6) We examine the income of individuals in the two groups, during 1974:"
   ]
  },
  {
   "cell_type": "code",
   "execution_count": 22,
   "metadata": {},
   "outputs": [
    {
     "data": {
      "text/plain": [
       "count      185.000000\n",
       "mean      2095.573689\n",
       "std       4886.620353\n",
       "min          0.000000\n",
       "25%          0.000000\n",
       "50%          0.000000\n",
       "75%       1291.468000\n",
       "max      35040.070000\n",
       "Name: re74, dtype: float64"
      ]
     },
     "execution_count": 22,
     "metadata": {},
     "output_type": "execute_result"
    }
   ],
   "source": [
    "treated['re74'].describe()"
   ]
  },
  {
   "cell_type": "code",
   "execution_count": 23,
   "metadata": {},
   "outputs": [
    {
     "data": {
      "text/plain": [
       "count      429.000000\n",
       "mean      5619.236506\n",
       "std       6788.750796\n",
       "min          0.000000\n",
       "25%          0.000000\n",
       "50%       2547.047000\n",
       "75%       9277.128000\n",
       "max      25862.320000\n",
       "Name: re74, dtype: float64"
      ]
     },
     "execution_count": 23,
     "metadata": {},
     "output_type": "execute_result"
    }
   ],
   "source": [
    "control['re74'].describe()"
   ]
  },
  {
   "cell_type": "code",
   "execution_count": 24,
   "metadata": {
    "scrolled": false
   },
   "outputs": [
    {
     "data": {
      "text/plain": [
       "<matplotlib.text.Text at 0x1a263aa470>"
      ]
     },
     "execution_count": 24,
     "metadata": {},
     "output_type": "execute_result"
    },
    {
     "data": {
      "image/png": "[encoded data removed]",
      "text/plain": [
       "<matplotlib.figure.Figure at 0x1a262d1358>"
      ]
     },
     "metadata": {},
     "output_type": "display_data"
    }
   ],
   "source": [
    "fig, axes = plt.subplots(nrows=1, ncols=2, sharex=True, sharey=True)\n",
    "\n",
    "treated['re74'].plot.hist(ax=axes[0], grid=True, figsize=(15,5), title=\"Distribution of 're74' in treated group\", \n",
    "                          bins=[x*1000 for x in range(0, 40)], \n",
    "                          weights=np.zeros_like(treated['re74']) + 1. / treated['re74'].size * 100)\n",
    "\n",
    "control['re74'].plot.hist(ax=axes[1], grid=True, figsize=(15,5), title=\"Distribution of 're74' in control group\", \n",
    "                          bins=[x*1000 for x in range(0, 40)], \n",
    "                          weights=np.zeros_like(control['re74']) + 1. / control['re74'].size * 100)\n",
    "\n",
    "fig.text(0.5, 0.04, 're74', ha='center')\n",
    "axes[0].set_ylabel(\"Percentage(%)\")"
   ]
  },
  {
   "cell_type": "code",
   "execution_count": 25,
   "metadata": {
    "scrolled": true
   },
   "outputs": [
    {
     "data": {
      "text/plain": [
       "<matplotlib.axes._subplots.AxesSubplot at 0x1a26def1d0>"
      ]
     },
     "execution_count": 25,
     "metadata": {},
     "output_type": "execute_result"
    },
    {
     "data": {
      "image/png": "[encoded data removed]",
      "text/plain": [
       "<matplotlib.figure.Figure at 0x1a2611de48>"
      ]
     },
     "metadata": {},
     "output_type": "display_data"
    }
   ],
   "source": [
    "fig, axes = plt.subplots(nrows=1, ncols=2, sharex=True, sharey=True)\n",
    "\n",
    "treated['re74'].plot.box(ax=axes[0], grid=True, figsize=(15,5), title=\"Boxplot of 're74' in treated group\")\n",
    "\n",
    "control['re74'].plot.box(ax=axes[1], grid=True, figsize=(15,5), title=\"Boxplot of 're74' in control group\")"
   ]
  },
  {
   "cell_type": "markdown",
   "metadata": {},
   "source": [
    "We can observe that during 1974, the largest percentage (~80%) of treated individuals used to have a very low income (0-3000) and the rest of them had varied incomes from 3000 up until 35000. Regarding the control group, around half of the non-treated individuals had an income of 0-3000, while the other half of the people had incomes that ranged quite smoothly from 3000 up to 25000. Generally, treated individuals used to have lower incomes than non-treated individuals, even though with a few outliers."
   ]
  },
  {
   "cell_type": "markdown",
   "metadata": {},
   "source": [
    "7) We examine the income of individuals in the two groups, during 1975:"
   ]
  },
  {
   "cell_type": "code",
   "execution_count": 26,
   "metadata": {},
   "outputs": [
    {
     "data": {
      "text/plain": [
       "count      185.000000\n",
       "mean      1532.055314\n",
       "std       3219.250870\n",
       "min          0.000000\n",
       "25%          0.000000\n",
       "50%          0.000000\n",
       "75%       1817.284000\n",
       "max      25142.240000\n",
       "Name: re75, dtype: float64"
      ]
     },
     "execution_count": 26,
     "metadata": {},
     "output_type": "execute_result"
    }
   ],
   "source": [
    "treated['re75'].describe()"
   ]
  },
  {
   "cell_type": "code",
   "execution_count": 27,
   "metadata": {
    "scrolled": true
   },
   "outputs": [
    {
     "data": {
      "text/plain": [
       "count      429.000000\n",
       "mean      2466.484443\n",
       "std       3291.996183\n",
       "min          0.000000\n",
       "25%          0.000000\n",
       "50%       1086.726000\n",
       "75%       3881.419000\n",
       "max      18347.230000\n",
       "Name: re75, dtype: float64"
      ]
     },
     "execution_count": 27,
     "metadata": {},
     "output_type": "execute_result"
    }
   ],
   "source": [
    "control['re75'].describe()"
   ]
  },
  {
   "cell_type": "code",
   "execution_count": 28,
   "metadata": {
    "scrolled": false
   },
   "outputs": [
    {
     "data": {
      "text/plain": [
       "<matplotlib.text.Text at 0x1a26f1d588>"
      ]
     },
     "execution_count": 28,
     "metadata": {},
     "output_type": "execute_result"
    },
    {
     "data": {
      "image/png": "[encoded data removed]",
      "text/plain": [
       "<matplotlib.figure.Figure at 0x1a26ecab38>"
      ]
     },
     "metadata": {},
     "output_type": "display_data"
    }
   ],
   "source": [
    "fig, axes = plt.subplots(nrows=1, ncols=2, sharex=True, sharey=True)\n",
    "\n",
    "treated['re75'].plot.hist(ax=axes[0], grid=True, figsize=(15,5), title=\"Distribution of 're75' in treated group\", \n",
    "                          bins=[x*1000 for x in range(0, 30)],\n",
    "                          weights=np.zeros_like(treated['re75']) + 1. / treated['re75'].size * 100)\n",
    "\n",
    "control['re75'].plot.hist(ax=axes[1], grid=True, figsize=(15,5), title=\"Distribution of 're75' in control group\", \n",
    "                          bins=[x*1000 for x in range(0, 30)],\n",
    "                          weights=np.zeros_like(control['re75']) + 1. / control['re75'].size * 100)\n",
    "\n",
    "fig.text(0.5, 0.04, 're75', ha='center')\n",
    "axes[0].set_ylabel(\"Percentage(%)\")"
   ]
  },
  {
   "cell_type": "code",
   "execution_count": 29,
   "metadata": {},
   "outputs": [
    {
     "data": {
      "text/plain": [
       "<matplotlib.axes._subplots.AxesSubplot at 0x1a268deb38>"
      ]
     },
     "execution_count": 29,
     "metadata": {},
     "output_type": "execute_result"
    },
    {
     "data": {
      "image/png": "[encoded data removed]",
      "text/plain": [
       "<matplotlib.figure.Figure at 0x1a26f0e550>"
      ]
     },
     "metadata": {},
     "output_type": "display_data"
    }
   ],
   "source": [
    "fig, axes = plt.subplots(nrows=1, ncols=2, sharex=True, sharey=True)\n",
    "\n",
    "treated['re75'].plot.box(ax=axes[0], grid=True, figsize=(15,5), title=\"Boxplot of 're75' in treated group\")\n",
    "\n",
    "control['re75'].plot.box(ax=axes[1], grid=True, figsize=(15,5), title=\"Boxplot of 're75' in control group\")"
   ]
  },
  {
   "cell_type": "markdown",
   "metadata": {},
   "source": [
    "The same trend is observed in the incomes of people during 1975 as in 1974. In general, treated people used to have lower incomes than non-treated people, with a few exceptions (outliers) of people that had the highest incomes out of all the people from both groups."
   ]
  },
  {
   "cell_type": "markdown",
   "metadata": {},
   "source": [
    "__Final conclusions:__\n",
    "The two datasets show a lot of differences and, all in all, they cannot really be compared. Below, we present some of the differences that we observed during our analysis:\n",
    "\n",
    "1) The majority of treated people belong to the black race, which unfortunately could have an impact on their incomes (racial discrimination is unfortunately still present to this day, let alone during the 70s), while non-treated people are mainly white people. \n",
    "\n",
    "2) Treated individuals generally had lower incomes than non-treated ones, or -even worse- were unemployed, during the pre-treatment years, which of course is a factor that leads to their low incomes after the treatment as well. \n",
    "\n",
    "3) The control group generally contains people of older ages than the treated group, as well as a higher percentage of married  people, compared to the corresponding percentage in the treated group. These two factors, generally play a big role in people's salaries, for two reasons: a) usually, the older a person is, the bigger their work experience and thus their salary is, and b) married people usually receive some extra income due to their marital status. \n",
    "\n",
    "All these discrepancies that have been described above, lead us to the conclusion that we are dealing with two very dissimilar datasets that cannot be compared without being subjected to some processing first."
   ]
  },
  {
   "cell_type": "markdown",
   "metadata": {},
   "source": [
    "#### 3. A propensity score model\n",
    "\n",
    "Use logistic regression to estimate propensity scores for all points in the dataset.\n",
    "You may use `sklearn` to fit the logistic regression model and apply it to each data point to obtain propensity scores:\n",
    "\n",
    "```python\n",
    "from sklearn import linear_model\n",
    "logistic = linear_model.LogisticRegression()\n",
    "```\n",
    "\n",
    "Recall that the propensity score of a data point represents its probability of receiving the treatment, based on its pre-treatment features (in this case, age, education, pre-treatment income, etc.).\n",
    "To brush up on propensity scores, you may read chapter 3.3 of the above-cited book by Rosenbaum or [this article](https://drive.google.com/file/d/0B4jctQY-uqhzTlpBaTBJRTJFVFE/view).\n",
    "\n",
    "Note: you do not need a train/test split here. Train and apply the model on the entire dataset. If you're wondering why this is the right thing to do in this situation, recall that the propensity score model is not used in order to make predictions about unseen data. Its sole purpose is to balance the dataset across treatment groups.\n",
    "(See p. 74 of Rosenbaum's book for an explanation why slight overfitting is even good for propensity scores.\n",
    "If you want even more information, read [this article](https://drive.google.com/file/d/0B4jctQY-uqhzTlpBaTBJRTJFVFE/view).)\n",
    "\n"
   ]
  },
  {
   "cell_type": "markdown",
   "metadata": {},
   "source": [
    "#### Answer"
   ]
  },
  {
   "cell_type": "markdown",
   "metadata": {},
   "source": [
    "In this part, we are going to use logistic regression in our initial dataset (which contains both treated and non-treated people) in order to calculate the propensity score of each individual (its probability of receiving the treatment, based on its pre-treatment observable features). In other words, in order to classify our data as treated or non-treated.\n",
    "\n",
    "First, we specify the columns that we are going to use as features. As a first approach, we are choosing to use all of the pre-treatment columns:"
   ]
  },
  {
   "cell_type": "code",
   "execution_count": 30,
   "metadata": {
    "collapsed": true
   },
   "outputs": [],
   "source": [
    "features = ['age', 'educ', 'black', 'hispan', 'married', 'nodegree', 're74', 're75']"
   ]
  },
  {
   "cell_type": "markdown",
   "metadata": {},
   "source": [
    "All of our features are in a vector format, therefore we are ready to construct our classifier:"
   ]
  },
  {
   "cell_type": "code",
   "execution_count": 31,
   "metadata": {},
   "outputs": [
    {
     "name": "stdout",
     "output_type": "stream",
     "text": [
      "Precision: 0.62 (+/- 0.47)\n",
      "Recall: 0.62 (+/- 0.45)\n"
     ]
    }
   ],
   "source": [
    "# We define the X and y:\n",
    "X = data[features]\n",
    "y = data['treat']\n",
    "\n",
    "# We create the logistic regression model:\n",
    "logistic = LogisticRegression()\n",
    "\n",
    "# We evaluate the precision (the classifier's ability not to label as positive a sample that is negative) and \n",
    "# the recall of the model (the classifier's ability to find all the positive samples), using cross-validation:\n",
    "precision = cross_val_score(logistic, X, y, cv=10, scoring=\"precision\")\n",
    "recall = cross_val_score(logistic, X, y, cv=10, scoring=\"recall\")\n",
    "\n",
    "print(\"Precision: %0.2f (+/- %0.2f)\" % (precision.mean(), precision.std() * 2))\n",
    "print(\"Recall: %0.2f (+/- %0.2f)\" % (recall.mean(), recall.std() * 2))"
   ]
  },
  {
   "cell_type": "markdown",
   "metadata": {},
   "source": [
    "We try using different combinations of features, in order to see if we can come up with a better classifier. We end up with the following set of features, that seems to give a pretty effective classifier (slightly better than the previous one):"
   ]
  },
  {
   "cell_type": "code",
   "execution_count": 32,
   "metadata": {
    "collapsed": true
   },
   "outputs": [],
   "source": [
    "features_revised = ['age', 'educ', 'black', 'hispan', 'nodegree', 're74']"
   ]
  },
  {
   "cell_type": "code",
   "execution_count": 33,
   "metadata": {
    "scrolled": true
   },
   "outputs": [
    {
     "name": "stdout",
     "output_type": "stream",
     "text": [
      "Precision: 0.66 (+/- 0.37)\n",
      "Recall: 0.74 (+/- 0.35)\n"
     ]
    }
   ],
   "source": [
    "# We define the X and y:\n",
    "X = data[features_revised]\n",
    "y = data['treat']\n",
    "\n",
    "# We create the logistic regression model:\n",
    "logistic = LogisticRegression()\n",
    "\n",
    "# We evaluate the precision and the recall of the model using cross-validation:\n",
    "precision = cross_val_score(logistic, X, y, cv=10, scoring=\"precision\")\n",
    "recall = cross_val_score(logistic, X, y, cv=10, scoring=\"recall\")\n",
    "\n",
    "print(\"Precision: %0.2f (+/- %0.2f)\" % (precision.mean(), precision.std() * 2))\n",
    "print(\"Recall: %0.2f (+/- %0.2f)\" % (recall.mean(), recall.std() * 2))"
   ]
  },
  {
   "cell_type": "markdown",
   "metadata": {},
   "source": [
    "Finally, we train our model, on the full dataset:"
   ]
  },
  {
   "cell_type": "code",
   "execution_count": 34,
   "metadata": {
    "scrolled": true
   },
   "outputs": [
    {
     "data": {
      "text/plain": [
       "LogisticRegression(C=1.0, class_weight=None, dual=False, fit_intercept=True,\n",
       "          intercept_scaling=1, max_iter=100, multi_class='ovr', n_jobs=1,\n",
       "          penalty='l2', random_state=None, solver='liblinear', tol=0.0001,\n",
       "          verbose=0, warm_start=False)"
      ]
     },
     "execution_count": 34,
     "metadata": {},
     "output_type": "execute_result"
    }
   ],
   "source": [
    "logistic.fit(X, y)"
   ]
  },
  {
   "cell_type": "markdown",
   "metadata": {},
   "source": [
    "We observe the results of the regression by using the method \"predict_proba\". The method produces an array, in which there is a row for each row of the initial dataset. Each row of the array contains a tuple of kind [probability of 0, probability of 1]. In our case 0 means \"non-treated\" and 1 means \"treated\"."
   ]
  },
  {
   "cell_type": "code",
   "execution_count": 35,
   "metadata": {
    "scrolled": true
   },
   "outputs": [
    {
     "data": {
      "text/plain": [
       "array([[ 0.4297173 ,  0.5702827 ],\n",
       "       [ 0.86074776,  0.13925224],\n",
       "       [ 0.33297436,  0.66702564],\n",
       "       ..., \n",
       "       [ 0.86421575,  0.13578425],\n",
       "       [ 0.33241873,  0.66758127],\n",
       "       [ 0.83227584,  0.16772416]])"
      ]
     },
     "execution_count": 35,
     "metadata": {},
     "output_type": "execute_result"
    }
   ],
   "source": [
    "prediction = logistic.predict_proba(X)\n",
    "prediction"
   ]
  },
  {
   "cell_type": "markdown",
   "metadata": {},
   "source": [
    "Considering that propensity score is defined as \"... the conditional probability of treatment Z = 1 given the observed covariates x, or e(x) = Pr(Z = 1 | x)\", according to Rosenbaum's book, we only need to keep the second element of each row's tuple. Thus we come up with the following dataframe of propensity scores for each point of the dataset:"
   ]
  },
  {
   "cell_type": "code",
   "execution_count": 36,
   "metadata": {},
   "outputs": [
    {
     "data": {
      "text/html": [
       "<div>\n",
       "<style>\n",
       "    .dataframe thead tr:only-child th {\n",
       "        text-align: right;\n",
       "    }\n",
       "\n",
       "    .dataframe thead th {\n",
       "        text-align: left;\n",
       "    }\n",
       "\n",
       "    .dataframe tbody tr th {\n",
       "        vertical-align: top;\n",
       "    }\n",
       "</style>\n",
       "<table border=\"1\" class=\"dataframe\">\n",
       "  <thead>\n",
       "    <tr style=\"text-align: right;\">\n",
       "      <th></th>\n",
       "      <th>p_treatment</th>\n",
       "    </tr>\n",
       "  </thead>\n",
       "  <tbody>\n",
       "    <tr>\n",
       "      <th>0</th>\n",
       "      <td>0.570283</td>\n",
       "    </tr>\n",
       "    <tr>\n",
       "      <th>1</th>\n",
       "      <td>0.139252</td>\n",
       "    </tr>\n",
       "    <tr>\n",
       "      <th>2</th>\n",
       "      <td>0.667026</td>\n",
       "    </tr>\n",
       "    <tr>\n",
       "      <th>3</th>\n",
       "      <td>0.619189</td>\n",
       "    </tr>\n",
       "    <tr>\n",
       "      <th>4</th>\n",
       "      <td>0.627288</td>\n",
       "    </tr>\n",
       "  </tbody>\n",
       "</table>\n",
       "</div>"
      ],
      "text/plain": [
       "   p_treatment\n",
       "0     0.570283\n",
       "1     0.139252\n",
       "2     0.667026\n",
       "3     0.619189\n",
       "4     0.627288"
      ]
     },
     "execution_count": 36,
     "metadata": {},
     "output_type": "execute_result"
    }
   ],
   "source": [
    "prop_scores = pd.DataFrame(data=prediction[:, 1], columns=['p_treatment'])\n",
    "prop_scores.head()"
   ]
  },
  {
   "cell_type": "markdown",
   "metadata": {},
   "source": [
    "#### 4. Balancing the dataset via matching\n",
    "\n",
    "Use the propensity scores to match each data point from the treated group with exactly one data point from the control group, while ensuring that each data point from the control group is matched with at most one data point from the treated group.\n",
    "(Hint: you may explore the `networkx` package in Python for predefined matching functions.)\n",
    "\n",
    "Your matching should maximize the similarity between matched subjects, as captured by their propensity scores.\n",
    "In other words, the sum (over all matched pairs) of absolute propensity-score differences between the two matched subjects should be minimized.\n",
    "\n",
    "After matching, you have as many treated as you have control subjects.\n",
    "Compare the outcomes (`re78`) between the two groups (treated and control).\n",
    "\n",
    "Also, compare again the feature-value distributions between the two groups, as you've done in part 2 above, but now only for the matched subjects.\n",
    "What do you observe?\n",
    "Are you closer to being able to draw valid conclusions now than you were before?"
   ]
  },
  {
   "cell_type": "markdown",
   "metadata": {},
   "source": [
    "#### Answer"
   ]
  },
  {
   "cell_type": "markdown",
   "metadata": {},
   "source": [
    "In order to make our lives easier, we are going to represent our datapoints as vertices of a graph. The graph has to be bipartite, where one set of vertices consists of the treated individuals and the other set of vertices consists of the non-treated individuals, in order to ensure that there are not going to be any matchings (edges) between treated individuals or between non-treated individuals. Thus, the matching of the datapoints that we would like to achieve, is equal to the problem of the <a href=\"https://en.wikipedia.org/wiki/Matching_(graph_theory)#In_weighted_bipartite_graphs\"> maximum weighted bipartite matching </a>.\n",
    "\n",
    "We will use networkx's \"max_weight_matching\" method, in order to achieve this matching. We follow the steps bellow:"
   ]
  },
  {
   "cell_type": "code",
   "execution_count": 37,
   "metadata": {
    "collapsed": true
   },
   "outputs": [],
   "source": [
    "# Create a bipartite graph consisted of the treated individuals and the non-treated individuals\n",
    "G = nx.complete_bipartite_graph(len(treated), len(control))\n",
    "\n",
    "# Create a function that defines the weight of the edge between two vertices (one datapoint from the treated group\n",
    "# and one from the control group) as the absolute value of the difference of their respective propensity scores.\n",
    "def weight(i, j):\n",
    "    return abs(prop_scores.loc[i].values[0] - prop_scores.loc[j].values[0])\n",
    "\n",
    "# Add the weights defined above, to all the edges of the graph, but with a negative sign, in order to simulate\n",
    "# a min_weight_matching method\n",
    "for i in range(len(treated)):\n",
    "    for j in range(len(treated), len(treated) + len(control)):\n",
    "        G[i][j]['weight'] = -weight(i, j)\n",
    "\n",
    "# Apply the max_weight_matching_method to the graph\n",
    "matched = matching.max_weight_matching(G, maxcardinality=True)"
   ]
  },
  {
   "cell_type": "markdown",
   "metadata": {},
   "source": [
    "We are now going to create two new dataframes for the treated and control groups of matched individuals: "
   ]
  },
  {
   "cell_type": "code",
   "execution_count": 38,
   "metadata": {},
   "outputs": [
    {
     "name": "stdout",
     "output_type": "stream",
     "text": [
      "Size of matched_treated: 185, size of matched_control: 185.\n"
     ]
    }
   ],
   "source": [
    "# All the datapoints of the initial treated group have been matched, thus we copy the previous dataframe as it is\n",
    "matched_treated = treated\n",
    "\n",
    "# We get all the non-treated datapoints that have been matched and add them in a dataframe\n",
    "matched_control = pd.DataFrame(data=list(matched.keys()))\n",
    "matched_control = matched_control[matched_control[0] >= 185].sort_values(by=[0])\n",
    "matched_control = matched_control.set_index([0])\n",
    "\n",
    "# We fill each datapoint of the new dataframe, with the corresponding features from the initial \"control\" dataframe\n",
    "for column in control.columns.values:\n",
    "       matched_control[column] = control[column]\n",
    "del matched_control.index.name\n",
    "\n",
    "print(\"Size of matched_treated: %d, size of matched_control: %d.\" % (len(matched_treated), len(matched_control)))"
   ]
  },
  {
   "cell_type": "markdown",
   "metadata": {},
   "source": [
    "We are now ready to compare the \"re78\" column in both datasets, like we did in question 1:"
   ]
  },
  {
   "cell_type": "code",
   "execution_count": 39,
   "metadata": {
    "scrolled": true
   },
   "outputs": [
    {
     "data": {
      "text/plain": [
       "count      185.000000\n",
       "mean      6349.143530\n",
       "std       7867.402218\n",
       "min          0.000000\n",
       "25%        485.229800\n",
       "50%       4232.309000\n",
       "75%       9642.999000\n",
       "max      60307.930000\n",
       "Name: re78, dtype: float64"
      ]
     },
     "execution_count": 39,
     "metadata": {},
     "output_type": "execute_result"
    }
   ],
   "source": [
    "matched_treated['re78'].describe()"
   ]
  },
  {
   "cell_type": "code",
   "execution_count": 40,
   "metadata": {
    "scrolled": true
   },
   "outputs": [
    {
     "data": {
      "text/plain": [
       "count      185.000000\n",
       "mean      5084.769193\n",
       "std       5895.427580\n",
       "min          0.000000\n",
       "25%          0.000000\n",
       "50%       2559.422000\n",
       "75%       7543.794000\n",
       "max      20243.380000\n",
       "Name: re78, dtype: float64"
      ]
     },
     "execution_count": 40,
     "metadata": {},
     "output_type": "execute_result"
    }
   ],
   "source": [
    "matched_control['re78'].describe()"
   ]
  },
  {
   "cell_type": "code",
   "execution_count": 41,
   "metadata": {
    "scrolled": false
   },
   "outputs": [
    {
     "data": {
      "text/plain": [
       "<matplotlib.text.Text at 0x1a26413a90>"
      ]
     },
     "execution_count": 41,
     "metadata": {},
     "output_type": "execute_result"
    },
    {
     "data": {
      "image/png": "[encoded data removed]",
      "text/plain": [
       "<matplotlib.figure.Figure at 0x1a264446d8>"
      ]
     },
     "metadata": {},
     "output_type": "display_data"
    }
   ],
   "source": [
    "fig, axes = plt.subplots(nrows=1, ncols=2, sharex=True, sharey=True)\n",
    "\n",
    "matched_treated['re78'].plot.hist(ax=axes[0], grid=True, figsize=(15,5), \n",
    "                        title=\"Distribution of 're78' in treated group (matched)\", \n",
    "                        bins=[x*1000 for x in range(0, 70)],          \n",
    "                        weights=np.zeros_like(matched_treated['re78']) + 1. / matched_treated['re78'].size * 100)\n",
    "\n",
    "matched_control['re78'].plot.hist(ax=axes[1], grid=True, figsize=(15,5), \n",
    "                          title=\"Distribution of 're78' in control group (matched)\", \n",
    "                          bins=[x*1000 for x in range(0, 70)],        \n",
    "                          weights=np.zeros_like(matched_control['re78']) + 1. / matched_control['re78'].size * 100)\n",
    "\n",
    "fig.text(0.5, 0.04, 're78', ha='center')\n",
    "axes[0].set_ylabel(\"Percentage(%)\")"
   ]
  },
  {
   "cell_type": "code",
   "execution_count": 42,
   "metadata": {
    "scrolled": true
   },
   "outputs": [
    {
     "data": {
      "text/plain": [
       "<matplotlib.axes._subplots.AxesSubplot at 0x1a28bf8c50>"
      ]
     },
     "execution_count": 42,
     "metadata": {},
     "output_type": "execute_result"
    },
    {
     "data": {
      "image/png": "[encoded data removed]",
      "text/plain": [
       "<matplotlib.figure.Figure at 0x1a2644a978>"
      ]
     },
     "metadata": {},
     "output_type": "display_data"
    }
   ],
   "source": [
    "fig, axes = plt.subplots(nrows=1, ncols=2, sharex=True, sharey=True)\n",
    "\n",
    "matched_treated['re78'].plot.box(ax=axes[0], grid=True, figsize=(15,5), \n",
    "                        title=\"Boxplot of 're78' in treated group (matched)\")\n",
    "\n",
    "matched_control['re78'].plot.box(ax=axes[1], grid=True, figsize=(15,5), \n",
    "                          title=\"Boxplot of 're78' in control group (matched)\")"
   ]
  },
  {
   "cell_type": "markdown",
   "metadata": {},
   "source": [
    "We can see that after the matching, the two distributions seem to differ a bit more than in task 1. It seems that now, non-treated individuals have low salaries (up to 10,000) or are unemployed at a bigger percentage (~81%), compared to treated individuals (~78%). Unemployed people have a strictly higher percentage in the control group (~37%) than in the treated group (~31%). For salaries above 10,000, the two distributions look pretty similar, like in task 1. Also, there still seem to be a few outliers of people with very high salaries in the treated group, like we observed during our analysis in task 1 too."
   ]
  },
  {
   "cell_type": "markdown",
   "metadata": {},
   "source": [
    "We will now compare the distributions of various features in the two groups, like we did in task 1:\n",
    "\n",
    "1) We examine the age of the individuals in the two groups:"
   ]
  },
  {
   "cell_type": "code",
   "execution_count": 43,
   "metadata": {
    "scrolled": true
   },
   "outputs": [
    {
     "data": {
      "text/plain": [
       "count    185.000000\n",
       "mean      25.816216\n",
       "std        7.155019\n",
       "min       17.000000\n",
       "25%       20.000000\n",
       "50%       25.000000\n",
       "75%       29.000000\n",
       "max       48.000000\n",
       "Name: age, dtype: float64"
      ]
     },
     "execution_count": 43,
     "metadata": {},
     "output_type": "execute_result"
    }
   ],
   "source": [
    "matched_treated['age'].describe()"
   ]
  },
  {
   "cell_type": "code",
   "execution_count": 44,
   "metadata": {
    "scrolled": true
   },
   "outputs": [
    {
     "data": {
      "text/plain": [
       "count    185.000000\n",
       "mean      23.043243\n",
       "std        8.897256\n",
       "min       16.000000\n",
       "25%       17.000000\n",
       "50%       20.000000\n",
       "75%       24.000000\n",
       "max       55.000000\n",
       "Name: age, dtype: float64"
      ]
     },
     "execution_count": 44,
     "metadata": {},
     "output_type": "execute_result"
    }
   ],
   "source": [
    "matched_control['age'].describe()"
   ]
  },
  {
   "cell_type": "code",
   "execution_count": 45,
   "metadata": {
    "scrolled": false
   },
   "outputs": [
    {
     "data": {
      "text/plain": [
       "<matplotlib.text.Text at 0x1a2643db70>"
      ]
     },
     "execution_count": 45,
     "metadata": {},
     "output_type": "execute_result"
    },
    {
     "data": {
      "image/png": "[encoded data removed]",
      "text/plain": [
       "<matplotlib.figure.Figure at 0x1a28d19be0>"
      ]
     },
     "metadata": {},
     "output_type": "display_data"
    }
   ],
   "source": [
    "fig, axes = plt.subplots(nrows=1, ncols=2, sharex=True, sharey=True)\n",
    "\n",
    "matched_treated['age'].plot.hist(ax=axes[0], grid=True, figsize=(15,5), \n",
    "                            title=\"Distribution of age in treated group (matched)\",\n",
    "                            bins=range(15, 60), \n",
    "                            weights=np.zeros_like(matched_treated['age']) + 1. / matched_treated['age'].size * 100)\n",
    "\n",
    "matched_control['age'].plot.hist(ax=axes[1], grid=True, figsize=(15,5), \n",
    "                            title=\"Distribution of age in control group (matched)\", \n",
    "                            bins=range(15, 60), \n",
    "                            weights=np.zeros_like(matched_control['age']) + 1. / matched_control['age'].size * 100)\n",
    "\n",
    "fig.text(0.5, 0.04, 'age', ha='center')\n",
    "axes[0].set_ylabel(\"Percentage(%)\")"
   ]
  },
  {
   "cell_type": "code",
   "execution_count": 46,
   "metadata": {
    "scrolled": true
   },
   "outputs": [
    {
     "data": {
      "text/plain": [
       "<matplotlib.axes._subplots.AxesSubplot at 0x1a291d6f98>"
      ]
     },
     "execution_count": 46,
     "metadata": {},
     "output_type": "execute_result"
    },
    {
     "data": {
      "image/png": "[encoded data removed]",
      "text/plain": [
       "<matplotlib.figure.Figure at 0x1a28d0f3c8>"
      ]
     },
     "metadata": {},
     "output_type": "display_data"
    }
   ],
   "source": [
    "fig, axes = plt.subplots(nrows=1, ncols=2, sharex=True, sharey=True)\n",
    "\n",
    "matched_treated['age'].plot.box(ax=axes[0], grid=True, figsize=(15,5), \n",
    "                            title=\"Boxplot of age in treated group (matched)\")\n",
    "\n",
    "matched_control['age'].plot.box(ax=axes[1], grid=True, figsize=(15,5), \n",
    "                            title=\"Boxplot of age in control group (matched)\")\n"
   ]
  },
  {
   "cell_type": "markdown",
   "metadata": {},
   "source": [
    "We observe that the age distribution of individuals in the two groups is still very different, even after the matching. This time the control group seems to contain a bigger percentage of young people compared to the treated group, as we can see in the two histograms, which is the opposite of what we observed in task 1. We will probably need to do something more clever than a simple matching based on propensity scores, in order to be able to normalise this discrepancy."
   ]
  },
  {
   "cell_type": "markdown",
   "metadata": {},
   "source": [
    "2) We examine the years of education of the individuals in the two groups:"
   ]
  },
  {
   "cell_type": "code",
   "execution_count": 47,
   "metadata": {
    "scrolled": false
   },
   "outputs": [
    {
     "data": {
      "text/plain": [
       "count    185.000000\n",
       "mean      10.345946\n",
       "std        2.010650\n",
       "min        4.000000\n",
       "25%        9.000000\n",
       "50%       11.000000\n",
       "75%       12.000000\n",
       "max       16.000000\n",
       "Name: educ, dtype: float64"
      ]
     },
     "execution_count": 47,
     "metadata": {},
     "output_type": "execute_result"
    }
   ],
   "source": [
    "matched_treated['educ'].describe()"
   ]
  },
  {
   "cell_type": "code",
   "execution_count": 48,
   "metadata": {
    "scrolled": true
   },
   "outputs": [
    {
     "data": {
      "text/plain": [
       "count    185.000000\n",
       "mean      10.037838\n",
       "std        2.683216\n",
       "min        1.000000\n",
       "25%        9.000000\n",
       "50%       10.000000\n",
       "75%       12.000000\n",
       "max       17.000000\n",
       "Name: educ, dtype: float64"
      ]
     },
     "execution_count": 48,
     "metadata": {},
     "output_type": "execute_result"
    }
   ],
   "source": [
    "matched_control['educ'].describe()"
   ]
  },
  {
   "cell_type": "code",
   "execution_count": 49,
   "metadata": {},
   "outputs": [
    {
     "data": {
      "text/plain": [
       "<matplotlib.text.Text at 0x1a29326b38>"
      ]
     },
     "execution_count": 49,
     "metadata": {},
     "output_type": "execute_result"
    },
    {
     "data": {
      "image/png": "[encoded data removed]",
      "text/plain": [
       "<matplotlib.figure.Figure at 0x1a29269748>"
      ]
     },
     "metadata": {},
     "output_type": "display_data"
    }
   ],
   "source": [
    "fig, axes = plt.subplots(nrows=1, ncols=2, sharex=True, sharey=True)\n",
    "\n",
    "matched_treated['educ'].plot.hist(ax=axes[0], grid=True, figsize=(15,5), \n",
    "                        title=\"Distribution of years of education in treated group (matched)\", \n",
    "                        bins=range(20), \n",
    "                        weights=np.zeros_like(matched_treated['educ']) + 1. / matched_treated['educ'].size * 100)\n",
    "\n",
    "matched_control['educ'].plot.hist(ax=axes[1], grid=True, figsize=(15,5), \n",
    "                        title=\"Distribution of years of education in control group (matched)\", \n",
    "                        bins=range(20), \n",
    "                        weights=np.zeros_like(matched_control['educ']) + 1. / matched_control['educ'].size * 100)\n",
    "\n",
    "fig.text(0.5, 0.04, 'Years of education', ha='center')\n",
    "axes[0].set_ylabel(\"Percentage(%)\")"
   ]
  },
  {
   "cell_type": "code",
   "execution_count": 50,
   "metadata": {
    "scrolled": true
   },
   "outputs": [
    {
     "data": {
      "text/plain": [
       "<matplotlib.axes._subplots.AxesSubplot at 0x1a297a94a8>"
      ]
     },
     "execution_count": 50,
     "metadata": {},
     "output_type": "execute_result"
    },
    {
     "data": {
      "image/png": "[encoded data removed]",
      "text/plain": [
       "<matplotlib.figure.Figure at 0x1a29292940>"
      ]
     },
     "metadata": {},
     "output_type": "display_data"
    }
   ],
   "source": [
    "fig, axes = plt.subplots(nrows=1, ncols=2, sharex=True, sharey=True)\n",
    "\n",
    "matched_treated['educ'].plot.box(ax=axes[0], grid=True, figsize=(15,5), \n",
    "                        title=\"Boxplot of years of education in treated group (matched)\")\n",
    "\n",
    "matched_control['educ'].plot.box(ax=axes[1], grid=True, figsize=(15,5), \n",
    "                        title=\"Boxplot of years of education in control group (matched)\")"
   ]
  },
  {
   "cell_type": "markdown",
   "metadata": {},
   "source": [
    "It can be observed that there are quite a few differences between the two distributions (mainly in the percentages of people with 11-13 years of education) However, the mean value, standard deviation and percentiles seem pretty similar in the two groups. Thus, we decided that we can tolerate this kind of difference between the distributions and therefore we will not try to \"balance\" this feature any further."
   ]
  },
  {
   "cell_type": "markdown",
   "metadata": {},
   "source": [
    "3) We examine the race of the individuals in the two groups:"
   ]
  },
  {
   "cell_type": "code",
   "execution_count": 51,
   "metadata": {},
   "outputs": [
    {
     "name": "stdout",
     "output_type": "stream",
     "text": [
      "\u001b[4mBlack\u001b[0m people take up 84% of the treated group\n",
      "\u001b[4mHispanic\u001b[0m people take up 6% of the treated group\n",
      "\u001b[4mWhite\u001b[0m people take up 10% of the treated group\n",
      "\n",
      "\u001b[4mBlack\u001b[0m people take up 47% of the control group\n",
      "\u001b[4mHispanic\u001b[0m people take up 9% of the control group\n",
      "\u001b[4mWhite\u001b[0m people take up 44% of the treated group\n",
      "\n"
     ]
    }
   ],
   "source": [
    "# We observe:\n",
    "# a) the percentage of black people in the treated group:\n",
    "print(\"\\033[4mBlack\\033[0m people take up %d%% of the treated group\" % \n",
    "      (round(matched_treated['black'].sum()/len(matched_treated) * 100)))\n",
    "\n",
    "# b) the percentage of hispanic people in the treated group:\n",
    "print(\"\\033[4mHispanic\\033[0m people take up %d%% of the treated group\" % \n",
    "      (round(matched_treated['hispan'].sum()/len(matched_treated) * 100)))\n",
    "\n",
    "# c) the percentage of white people in the treated group:\n",
    "treated_white = matched_treated[(matched_treated['black'] == 0) & (matched_treated['hispan'] == 0)]\n",
    "print(\"\\033[4mWhite\\033[0m people take up %d%% of the treated group\\n\" % \n",
    "      (round(len(treated_white)/len(matched_treated) * 100)))\n",
    "\n",
    "# d) the percentage of black people in the control group:\n",
    "print(\"\\033[4mBlack\\033[0m people take up %d%% of the control group\" % \n",
    "      (round(matched_control['black'].sum()/len(matched_control) * 100)))\n",
    "\n",
    "# e) the percentage of hispanic people in the control group:\n",
    "print(\"\\033[4mHispanic\\033[0m people take up %d%% of the control group\" % \n",
    "      (round(matched_control['hispan'].sum()/len(matched_control) * 100)))\n",
    "\n",
    "# f) the percentage of white people in the control group:\n",
    "control_white = matched_control[(matched_control['black'] == 0) & (matched_control['hispan'] == 0)]\n",
    "print(\"\\033[4mWhite\\033[0m people take up %d%% of the treated group\\n\" % \n",
    "      (round(len(control_white)/len(matched_control) * 100)))"
   ]
  },
  {
   "cell_type": "code",
   "execution_count": 52,
   "metadata": {
    "scrolled": false
   },
   "outputs": [
    {
     "data": {
      "text/plain": [
       "<matplotlib.figure.Figure at 0x1a29858a90>"
      ]
     },
     "metadata": {},
     "output_type": "display_data"
    },
    {
     "data": {
      "image/png": "[encoded data removed]",
      "text/plain": [
       "<matplotlib.figure.Figure at 0x1a29858400>"
      ]
     },
     "metadata": {},
     "output_type": "display_data"
    }
   ],
   "source": [
    "treated_races = pd.DataFrame({'Black' :  pd.Series(matched_treated['black'].sum()/len(matched_treated) * 100),\n",
    "                              'Hispanic' : pd.Series(matched_treated['hispan'].sum()/len(matched_treated) * 100),\n",
    "                              'White' : pd.Series(len(treated_white)/len(matched_treated) * 100)})\n",
    "\n",
    "\n",
    "control_races = pd.DataFrame({'Black' :  pd.Series(matched_control['black'].sum()/len(matched_control) * 100),\n",
    "                              'Hispanic' : pd.Series(matched_control['hispan'].sum()/len(matched_control) * 100),\n",
    "                              'White' : pd.Series(len(control_white)/len(matched_control) * 100)})\n",
    "\n",
    "plt.figure()\n",
    "fig, axes = plt.subplots(nrows=1, ncols=2, sharex=True, sharey=True)\n",
    "\n",
    "treated_races.plot(ax=axes[0], y=['Black', 'Hispanic', 'White'], kind=\"bar\",\n",
    "                   figsize=(13, 5), title=\"Races of individuals in treated group (matched)\", grid=True)\n",
    "\n",
    "control_races.plot(ax=axes[1], y=['Black', 'Hispanic', 'White'], kind=\"bar\", \n",
    "                   figsize=(13, 5), title=\"Races of individuals in control group (matched)\", grid=True)\n",
    "\n",
    "fig.text(0.5, 0.04, 'Race', ha='center')\n",
    "axes[0].set_ylabel(\"Percentage(%)\")\n",
    "axes[0].get_xaxis().set_visible(False)\n",
    "axes[1].get_xaxis().set_visible(False)\n",
    "plt.show()"
   ]
  },
  {
   "cell_type": "markdown",
   "metadata": {},
   "source": [
    "As we can see, even after the matching of the two groups, there is still a very big difference between their race distributions. The big majority of the treated group is still consisted of black individuals (~85%), while the control group consists of fairly equal amounts of black and white individuals (40%-45%). It is obvious that we need to find some way in order to balance this feature even more, in order to be able to make any decent conclusions about the effectiveness of the treatment."
   ]
  },
  {
   "cell_type": "markdown",
   "metadata": {},
   "source": [
    "4) We examine the percentage of married and unmarried people in the two groups:"
   ]
  },
  {
   "cell_type": "code",
   "execution_count": 53,
   "metadata": {},
   "outputs": [
    {
     "name": "stdout",
     "output_type": "stream",
     "text": [
      "\u001b[4mMarried\u001b[0m people take up 19% of the treated group\n",
      "\u001b[4mUnmarried\u001b[0m people take up 81% of the treated group\n",
      "\n",
      "\u001b[4mMarried\u001b[0m people take up 30% of the control group\n",
      "\u001b[4mUnmarried\u001b[0m people take up 70% of the control group\n"
     ]
    }
   ],
   "source": [
    "# We observe:\n",
    "# a) the percentage of married people in the treated group:\n",
    "print(\"\\033[4mMarried\\033[0m people take up %d%% of the treated group\" % \n",
    "      (round(matched_treated['married'].sum()/len(matched_treated) * 100)))\n",
    "\n",
    "# b) the percentage of unmarried people in the treated group:\n",
    "print(\"\\033[4mUnmarried\\033[0m people take up %d%% of the treated group\\n\" % \n",
    "      (round((len(matched_treated) - matched_treated['married'].sum())/len(matched_treated) * 100)))\n",
    "# c) the percentage of married people in the control group:\n",
    "print(\"\\033[4mMarried\\033[0m people take up %d%% of the control group\" % \n",
    "      (round(matched_control['married'].sum()/len(matched_control) * 100)))\n",
    "\n",
    "# d) the percentage of unmarried people in the control group:\n",
    "print(\"\\033[4mUnmarried\\033[0m people take up %d%% of the control group\" % \n",
    "      (round((len(matched_control) - matched_control['married'].sum())/len(matched_control) * 100)))"
   ]
  },
  {
   "cell_type": "code",
   "execution_count": 54,
   "metadata": {
    "scrolled": false
   },
   "outputs": [
    {
     "data": {
      "text/plain": [
       "<matplotlib.figure.Figure at 0x1a298747f0>"
      ]
     },
     "metadata": {},
     "output_type": "display_data"
    },
    {
     "data": {
      "image/png": "[encoded data removed]",
      "text/plain": [
       "<matplotlib.figure.Figure at 0x1a29874320>"
      ]
     },
     "metadata": {},
     "output_type": "display_data"
    }
   ],
   "source": [
    "treated_status = pd.DataFrame({'Married' :  pd.Series(matched_treated['married'].sum()/len(matched_treated) * 100),\n",
    "                               'Unmarried' : pd.Series((len(matched_treated) - matched_treated['married'].sum())\n",
    "                                                                    /len(matched_treated) * 100)})\n",
    "\n",
    "\n",
    "control_status = pd.DataFrame({'Married' :  pd.Series(matched_control['married'].sum()/len(matched_control) * 100),\n",
    "                              'Unmarried' : pd.Series((len(matched_control) - matched_control['married'].sum())\n",
    "                                                                    /len(matched_control) * 100)})\n",
    "\n",
    "plt.figure()\n",
    "fig, axes = plt.subplots(nrows=1, ncols=2, sharex=True, sharey=True)\n",
    "\n",
    "treated_status.plot(ax=axes[0], y=['Married', 'Unmarried'], kind=\"bar\",\n",
    "                   figsize=(15, 6), title=\"Marital status of individuals in treated group (matched)\", grid=True)\n",
    "\n",
    "control_status.plot(ax=axes[1], y=['Married', 'Unmarried'], kind=\"bar\", \n",
    "                   figsize=(15, 6), title=\"Marital status of individuals in control group (matched)\", grid=True)\n",
    "\n",
    "fig.text(0.5, 0.04, 'Marital status', ha='center')\n",
    "axes[0].set_ylabel(\"Percentage(%)\")\n",
    "axes[0].get_xaxis().set_visible(False)\n",
    "axes[1].get_xaxis().set_visible(False)\n",
    "plt.show()"
   ]
  },
  {
   "cell_type": "markdown",
   "metadata": {},
   "source": [
    "We can see that this feature seems to have been sufficiently balanced after the matching, since this time, both groups consist of unmarried people in their majority (70%-80%), as opposed to our observations in task 1."
   ]
  },
  {
   "cell_type": "markdown",
   "metadata": {},
   "source": [
    "5) We examine the percentages of people with a school degree and without a school degree:"
   ]
  },
  {
   "cell_type": "code",
   "execution_count": 55,
   "metadata": {
    "scrolled": true
   },
   "outputs": [
    {
     "name": "stdout",
     "output_type": "stream",
     "text": [
      "People \u001b[4mwith a school degree\u001b[0m take up 29% of the treated group\n",
      "People \u001b[4mwithout a school degree\u001b[0m take up 71% of the treated group\n",
      "\n",
      "People \u001b[4mwith a school degree\u001b[0m take up 37% of the control group\n",
      "People \u001b[4mwithout a school degree\u001b[0m take up 63% of the control group\n",
      "\n"
     ]
    }
   ],
   "source": [
    "# We observe:\n",
    "# a) the percentage of people with a degree in the treated group:\n",
    "print(\"People \\033[4mwith a school degree\\033[0m take up %d%% of the treated group\" % \n",
    "      (round((len(matched_treated) - matched_treated['nodegree'].sum())/len(matched_treated) * 100)))\n",
    "\n",
    "# b) the percentage of people without a degree in the treated group:\n",
    "print(\"People \\033[4mwithout a school degree\\033[0m take up %d%% of the treated group\\n\" % \n",
    "      (round(matched_treated['nodegree'].sum()/len(matched_treated) * 100)))\n",
    "\n",
    "# c) the percentage of people with a degree in the control group:\n",
    "print(\"People \\033[4mwith a school degree\\033[0m take up %d%% of the control group\" % \n",
    "      (round((len(matched_control) - matched_control['nodegree'].sum())/len(matched_control) * 100)))\n",
    "\n",
    "# d) the percentage of people without a degree in the control group:\n",
    "print(\"People \\033[4mwithout a school degree\\033[0m take up %d%% of the control group\\n\" % \n",
    "      (round(matched_control['nodegree'].sum()/len(matched_control) * 100)))\n"
   ]
  },
  {
   "cell_type": "code",
   "execution_count": 56,
   "metadata": {
    "scrolled": false
   },
   "outputs": [
    {
     "data": {
      "text/plain": [
       "<matplotlib.figure.Figure at 0x1a2989f8d0>"
      ]
     },
     "metadata": {},
     "output_type": "display_data"
    },
    {
     "data": {
      "image/png": "[encoded data removed]",
      "text/plain": [
       "<matplotlib.figure.Figure at 0x1a2989f7f0>"
      ]
     },
     "metadata": {},
     "output_type": "display_data"
    }
   ],
   "source": [
    "treated_degree = pd.DataFrame({'No degree' : pd.Series(matched_treated['nodegree'].sum()/len(matched_treated) * 100),\n",
    "                               'Degree' : pd.Series((len(matched_treated) - matched_treated['nodegree'].sum())\n",
    "                                                                    /len(matched_treated) * 100)})\n",
    "\n",
    "\n",
    "control_degree = pd.DataFrame({'No degree' : pd.Series(matched_control['nodegree'].sum()/len(matched_control) * 100),\n",
    "                               'Degree' : pd.Series((len(matched_control) - matched_control['nodegree'].sum())\n",
    "                                                                    /len(matched_control) * 100)})\n",
    "\n",
    "plt.figure()\n",
    "fig, axes = plt.subplots(nrows=1, ncols=2, sharex=True, sharey=True)\n",
    "\n",
    "treated_degree.plot(ax=axes[0], y=['Degree', 'No degree'], kind=\"bar\",\n",
    "                   figsize=(15, 6), title=\"Possession of school degrees in treated group (matched)\", grid=True)\n",
    "\n",
    "control_degree.plot(ax=axes[1], y=['Degree', 'No degree'], kind=\"bar\", \n",
    "                   figsize=(15, 6), title=\"Possession of school degrees in control group (matched)\", grid=True)\n",
    "\n",
    "fig.text(0.5, 0.04, 'Degree status', ha='center')\n",
    "axes[0].set_ylabel(\"Percentage(%)\")\n",
    "axes[0].get_xaxis().set_visible(False)\n",
    "axes[1].get_xaxis().set_visible(False)\n",
    "plt.show()"
   ]
  },
  {
   "cell_type": "markdown",
   "metadata": {},
   "source": [
    "This feature seems quite balanced, since in both groups the majority of individuals don't have a school degree and the percentages of people with and without a degree in the two groups are close enough for the purposes of our analysis."
   ]
  },
  {
   "cell_type": "markdown",
   "metadata": {},
   "source": [
    "6) We examine the income of individuals in the two groups, during 1974:"
   ]
  },
  {
   "cell_type": "code",
   "execution_count": 57,
   "metadata": {},
   "outputs": [
    {
     "data": {
      "text/plain": [
       "count      185.000000\n",
       "mean      2095.573689\n",
       "std       4886.620353\n",
       "min          0.000000\n",
       "25%          0.000000\n",
       "50%          0.000000\n",
       "75%       1291.468000\n",
       "max      35040.070000\n",
       "Name: re74, dtype: float64"
      ]
     },
     "execution_count": 57,
     "metadata": {},
     "output_type": "execute_result"
    }
   ],
   "source": [
    "matched_treated['re74'].describe()"
   ]
  },
  {
   "cell_type": "code",
   "execution_count": 58,
   "metadata": {},
   "outputs": [
    {
     "data": {
      "text/plain": [
       "count      185.000000\n",
       "mean      2004.923049\n",
       "std       3948.685589\n",
       "min          0.000000\n",
       "25%          0.000000\n",
       "50%        289.971500\n",
       "75%       1902.448000\n",
       "max      21918.320000\n",
       "Name: re74, dtype: float64"
      ]
     },
     "execution_count": 58,
     "metadata": {},
     "output_type": "execute_result"
    }
   ],
   "source": [
    "matched_control['re74'].describe()"
   ]
  },
  {
   "cell_type": "code",
   "execution_count": 59,
   "metadata": {
    "scrolled": false
   },
   "outputs": [
    {
     "data": {
      "text/plain": [
       "<matplotlib.text.Text at 0x1a2a037208>"
      ]
     },
     "execution_count": 59,
     "metadata": {},
     "output_type": "execute_result"
    },
    {
     "data": {
      "image/png": "[encoded data removed]",
      "text/plain": [
       "<matplotlib.figure.Figure at 0x1a298bacc0>"
      ]
     },
     "metadata": {},
     "output_type": "display_data"
    }
   ],
   "source": [
    "fig, axes = plt.subplots(nrows=1, ncols=2, sharex=True, sharey=True)\n",
    "\n",
    "matched_treated['re74'].plot.hist(ax=axes[0], grid=True, figsize=(15,5), \n",
    "                        title=\"Distribution of 're74' in treated group (matched)\", \n",
    "                        bins=[x*1000 for x in range(40)], \n",
    "                        weights=np.zeros_like(matched_treated['re74']) + 1. / matched_treated['re74'].size * 100)\n",
    "\n",
    "matched_control['re74'].plot.hist(ax=axes[1], grid=True, figsize=(15,5), \n",
    "                        title=\"Distribution of 're74' in control group (matched)\", \n",
    "                        bins=[x*1000 for x in range(40)], \n",
    "                        weights=np.zeros_like(matched_control['re74']) + 1. / matched_control['re74'].size * 100)\n",
    "\n",
    "fig.text(0.5, 0.04, 're74', ha='center')\n",
    "axes[0].set_ylabel(\"Percentage(%)\")"
   ]
  },
  {
   "cell_type": "code",
   "execution_count": 60,
   "metadata": {
    "scrolled": true
   },
   "outputs": [
    {
     "data": {
      "text/plain": [
       "<matplotlib.axes._subplots.AxesSubplot at 0x1a2a5eb358>"
      ]
     },
     "execution_count": 60,
     "metadata": {},
     "output_type": "execute_result"
    },
    {
     "data": {
      "image/png": "[encoded data removed]",
      "text/plain": [
       "<matplotlib.figure.Figure at 0x1a298d3be0>"
      ]
     },
     "metadata": {},
     "output_type": "display_data"
    }
   ],
   "source": [
    "fig, axes = plt.subplots(nrows=1, ncols=2, sharex=True, sharey=True)\n",
    "\n",
    "matched_treated['re74'].plot.box(ax=axes[0], grid=True, figsize=(15,5), \n",
    "                        title=\"Boxplot of 're74' in treated group (matched)\")\n",
    "\n",
    "matched_control['re74'].plot.box(ax=axes[1], grid=True, figsize=(15,5), \n",
    "                        title=\"Boxplot of 're74' in control group (matched)\")"
   ]
  },
  {
   "cell_type": "markdown",
   "metadata": {},
   "source": [
    "It is pretty obvious, both from the histograms and the boxplots that this feature has been balanced pretty well after the matching."
   ]
  },
  {
   "cell_type": "markdown",
   "metadata": {},
   "source": [
    "7) We examine the income of individuals in the two groups, during 1975:"
   ]
  },
  {
   "cell_type": "code",
   "execution_count": 61,
   "metadata": {
    "scrolled": true
   },
   "outputs": [
    {
     "data": {
      "text/plain": [
       "count      185.000000\n",
       "mean      1532.055314\n",
       "std       3219.250870\n",
       "min          0.000000\n",
       "25%          0.000000\n",
       "50%          0.000000\n",
       "75%       1817.284000\n",
       "max      25142.240000\n",
       "Name: re75, dtype: float64"
      ]
     },
     "execution_count": 61,
     "metadata": {},
     "output_type": "execute_result"
    }
   ],
   "source": [
    "matched_treated['re75'].describe()"
   ]
  },
  {
   "cell_type": "code",
   "execution_count": 62,
   "metadata": {
    "scrolled": true
   },
   "outputs": [
    {
     "data": {
      "text/plain": [
       "count      185.000000\n",
       "mean      1338.241906\n",
       "std       2442.815622\n",
       "min          0.000000\n",
       "25%          0.000000\n",
       "50%        254.225800\n",
       "75%       1491.339000\n",
       "max      13776.530000\n",
       "Name: re75, dtype: float64"
      ]
     },
     "execution_count": 62,
     "metadata": {},
     "output_type": "execute_result"
    }
   ],
   "source": [
    "matched_control['re75'].describe()"
   ]
  },
  {
   "cell_type": "code",
   "execution_count": 63,
   "metadata": {
    "scrolled": false
   },
   "outputs": [
    {
     "data": {
      "text/plain": [
       "<matplotlib.text.Text at 0x1a2a7170f0>"
      ]
     },
     "execution_count": 63,
     "metadata": {},
     "output_type": "execute_result"
    },
    {
     "data": {
      "image/png": "[encoded data removed]",
      "text/plain": [
       "<matplotlib.figure.Figure at 0x1a2a7089e8>"
      ]
     },
     "metadata": {},
     "output_type": "display_data"
    }
   ],
   "source": [
    "fig, axes = plt.subplots(nrows=1, ncols=2, sharex=True, sharey=True)\n",
    "\n",
    "matched_treated['re75'].plot.hist(ax=axes[0], grid=True, figsize=(15,5), \n",
    "                        title=\"Distribution of 're75' in treated group (matched)\", \n",
    "                        bins=[x*1000 for x in range(25)], \n",
    "                        weights=np.zeros_like(matched_treated['re75']) + 1. / matched_treated['re75'].size * 100)\n",
    "\n",
    "matched_control['re75'].plot.hist(ax=axes[1], grid=True, figsize=(15,5), \n",
    "                        title=\"Distribution of 're75' in control group (matched)\", \n",
    "                        bins=[x*1000 for x in range(25)], \n",
    "                        weights=np.zeros_like(matched_control['re75']) + 1. / matched_control['re75'].size * 100)\n",
    "\n",
    "fig.text(0.5, 0.04, 're75', ha='center')\n",
    "axes[0].set_ylabel(\"Percentage(%)\")"
   ]
  },
  {
   "cell_type": "code",
   "execution_count": 64,
   "metadata": {
    "scrolled": true
   },
   "outputs": [
    {
     "data": {
      "text/plain": [
       "<matplotlib.axes._subplots.AxesSubplot at 0x1a2abfbe80>"
      ]
     },
     "execution_count": 64,
     "metadata": {},
     "output_type": "execute_result"
    },
    {
     "data": {
      "image/png": "[encoded data removed]",
      "text/plain": [
       "<matplotlib.figure.Figure at 0x1a2a6ecc50>"
      ]
     },
     "metadata": {},
     "output_type": "display_data"
    }
   ],
   "source": [
    "fig, axes = plt.subplots(nrows=1, ncols=2, sharex=True, sharey=True)\n",
    "\n",
    "matched_treated['re75'].plot.box(ax=axes[0], grid=True, figsize=(15,5), \n",
    "                        title=\"Boxplot of 're75' in treated group (matched)\")\n",
    "\n",
    "matched_control['re75'].plot.box(ax=axes[1], grid=True, figsize=(15,5), \n",
    "                        title=\"Boxplot of 're75' in control group (matched)\")"
   ]
  },
  {
   "cell_type": "markdown",
   "metadata": {},
   "source": [
    "The two distributions show a lot of similarities after the matching, therefore we consider this feature as well balanced."
   ]
  },
  {
   "cell_type": "markdown",
   "metadata": {},
   "source": [
    "__Final conclusions:__\n",
    "\n",
    "After comparing all the features of the two groups, after the matching, we came to the conclusion that further balancing of two features is needed, in order for us to be able to extract useful information from our dataset. The two features are the __race__ and the __age__ of individuals. In the next task, we will try to find a better way to match the datapoints in our two groups in order to make sure that these two features are properly balanced."
   ]
  },
  {
   "cell_type": "markdown",
   "metadata": {},
   "source": [
    "#### 5. Balancing the groups further\n",
    "\n",
    "Based on your comparison of feature-value distributions from part 4, are you fully satisfied with your matching?\n",
    "Would you say your dataset is sufficiently balanced?\n",
    "If not, in what ways could the \"balanced\" dataset you have obtained still not allow you to draw valid conclusions?\n",
    "\n",
    "Improve your matching by explicitly making sure that you match only subjects that have the same value for the problematic feature.\n",
    "Argue with numbers and plots that the two groups (treated and control) are now better balanced than after part 4."
   ]
  },
  {
   "cell_type": "markdown",
   "metadata": {},
   "source": [
    "#### Answer"
   ]
  },
  {
   "cell_type": "markdown",
   "metadata": {},
   "source": [
    "In this task we will try to balance the two features that were judged as \"unbalanced\" during the previous task. \n",
    "\n",
    "First, we will try to balance the __race__ feature, by spliting our initial data by race (black/white/hispanic) and by exposure to treatment (treated/control) and by matching the treated and non-treated individuals of each race separately, using the propensity scores that we calculated in task 3:"
   ]
  },
  {
   "cell_type": "code",
   "execution_count": 65,
   "metadata": {
    "collapsed": true
   },
   "outputs": [],
   "source": [
    "# form the predicates to split the treated group into races\n",
    "predicates = {\n",
    "    'black': treated['black'] == 1,  # black people\n",
    "    'hispan': treated['hispan'] == 1,  # hispanic people\n",
    "    'white': (treated['black'] == 0) & (treated['hispan'] == 0),  # white people\n",
    "}\n",
    "# put the split dataframes into a dictionary (keys from above: black, hispan, white)\n",
    "treated_split = {key: treated[pred] for (key, pred) in predicates.items()}\n",
    "\n",
    "# same for the control group\n",
    "predicates = {\n",
    "    'black': control['black'] == 1,  # black people\n",
    "    'hispan': control['hispan'] == 1,  # hispanic people\n",
    "    'white': (control['black'] == 0) & (control['hispan'] == 0),  # white people\n",
    "}\n",
    "control_split = {key: control[pred] for (key, pred) in predicates.items()}"
   ]
  },
  {
   "cell_type": "markdown",
   "metadata": {},
   "source": [
    "We have split the treated and control groups according to race. We will now proceed to only match treated individuals with non-treated individuals of the same race, according to the similarity of their propensity scores."
   ]
  },
  {
   "cell_type": "code",
   "execution_count": 66,
   "metadata": {
    "scrolled": true
   },
   "outputs": [
    {
     "name": "stdout",
     "output_type": "stream",
     "text": [
      "black 156 87 : sum(weight) =  0.513575867238 ,  mean(weight) =  0.00590317088779\n",
      "hispan 11 11 : sum(weight) =  0.0112266734447 ,  mean(weight) =  0.00102060667679\n",
      "white 18 18 : sum(weight) =  0.00598058673504 ,  mean(weight) =  0.000332254818613\n"
     ]
    }
   ],
   "source": [
    "calc_weight = lambda i, j: abs(prop_scores.loc[i].values[0] - prop_scores.loc[j].values[0])\n",
    "\n",
    "matched_by_race = {}\n",
    "\n",
    "for race in predicates.keys():\n",
    "    # extract treated and control groups matching the race\n",
    "    treated_ = treated_split[race]\n",
    "    control_ = control_split[race]\n",
    "    # construct bipartite graph\n",
    "    G = nx.complete_bipartite_graph(treated_.index.values, control_.index.values)\n",
    "    # assign weights\n",
    "    for i in treated_.index.values:\n",
    "        for j in control_.index.values:\n",
    "            G[i][j]['weight'] = -calc_weight(i, j)\n",
    "    # perform matching\n",
    "    match = matching.max_weight_matching(G, maxcardinality=True)\n",
    "    match = {k: v for k, v in match.items() if k < len(treated)}\n",
    "    # form new dataframes for the matched groups\n",
    "    matched_by_race[race] = {\n",
    "        'treated': treated_.loc[list(match.keys())],\n",
    "        'control': control_.loc[list(match.values())],\n",
    "    }\n",
    "    # some info on matching...\n",
    "    weights = [calc_weight(i, j) for (i, j) in match.items()]\n",
    "    print(race, len(treated_), len(match), \": \"\n",
    "          'sum(weight) = ', sum(weights), \", \",\n",
    "          'mean(weight) = ', np.mean(weights))"
   ]
  },
  {
   "cell_type": "markdown",
   "metadata": {},
   "source": [
    "We are now creating a single dataframe for all the matched treated individuals (called matched_treated) and another one for all the matched non-treaded individuals (called matched_control)."
   ]
  },
  {
   "cell_type": "code",
   "execution_count": 67,
   "metadata": {
    "collapsed": true
   },
   "outputs": [],
   "source": [
    "matched_treated = pd.DataFrame()\n",
    "matched_control = pd.DataFrame()\n",
    "\n",
    "for race in predicates.keys():\n",
    "    matched_treated = matched_treated.append(matched_by_race[race]['treated'])\n",
    "    matched_control = matched_control.append(matched_by_race[race]['control'])"
   ]
  },
  {
   "cell_type": "markdown",
   "metadata": {},
   "source": [
    "Next, we are going to examine the distribution of each feature in the two groups, like we did after our first matching in task 4:"
   ]
  },
  {
   "cell_type": "markdown",
   "metadata": {},
   "source": [
    "1) We examine the age of individuals in the two groups:"
   ]
  },
  {
   "cell_type": "code",
   "execution_count": 68,
   "metadata": {},
   "outputs": [
    {
     "data": {
      "text/plain": [
       "count    116.000000\n",
       "mean      24.879310\n",
       "std        7.185922\n",
       "min       17.000000\n",
       "25%       19.000000\n",
       "50%       23.000000\n",
       "75%       28.250000\n",
       "max       46.000000\n",
       "Name: age, dtype: float64"
      ]
     },
     "execution_count": 68,
     "metadata": {},
     "output_type": "execute_result"
    }
   ],
   "source": [
    "matched_treated['age'].describe()"
   ]
  },
  {
   "cell_type": "code",
   "execution_count": 69,
   "metadata": {},
   "outputs": [
    {
     "data": {
      "text/plain": [
       "count    116.000000\n",
       "mean      25.698276\n",
       "std       10.376579\n",
       "min       16.000000\n",
       "25%       18.000000\n",
       "50%       21.000000\n",
       "75%       31.250000\n",
       "max       55.000000\n",
       "Name: age, dtype: float64"
      ]
     },
     "execution_count": 69,
     "metadata": {},
     "output_type": "execute_result"
    }
   ],
   "source": [
    "matched_control['age'].describe()"
   ]
  },
  {
   "cell_type": "code",
   "execution_count": 70,
   "metadata": {
    "scrolled": false
   },
   "outputs": [
    {
     "data": {
      "text/plain": [
       "<matplotlib.text.Text at 0x1a2b36fba8>"
      ]
     },
     "execution_count": 70,
     "metadata": {},
     "output_type": "execute_result"
    },
    {
     "data": {
      "image/png": "[encoded data removed]",
      "text/plain": [
       "<matplotlib.figure.Figure at 0x1a2ac9b898>"
      ]
     },
     "metadata": {},
     "output_type": "display_data"
    }
   ],
   "source": [
    "fig, axes = plt.subplots(nrows=1, ncols=2, sharex=True, sharey=True)\n",
    "\n",
    "matched_treated['age'].plot.hist(ax=axes[0], grid=True, figsize=(15,5), \n",
    "                            title=\"Distribution of age in treated group (matched)\",\n",
    "                            bins=range(15, 60), \n",
    "                            weights=np.zeros_like(matched_treated['age']) + 1. / matched_treated['age'].size * 100)\n",
    "\n",
    "matched_control['age'].plot.hist(ax=axes[1], grid=True, figsize=(15,5), \n",
    "                            title=\"Distribution of age in control group (matched)\", \n",
    "                            bins=range(15, 60), \n",
    "                            weights=np.zeros_like(matched_control['age']) + 1. / matched_control['age'].size * 100)\n",
    "\n",
    "fig.text(0.5, 0.04, 'age', ha='center')\n",
    "axes[0].set_ylabel(\"Percentage(%)\")"
   ]
  },
  {
   "cell_type": "code",
   "execution_count": 71,
   "metadata": {
    "scrolled": true
   },
   "outputs": [
    {
     "data": {
      "text/plain": [
       "<matplotlib.axes._subplots.AxesSubplot at 0x1a298db0b8>"
      ]
     },
     "execution_count": 71,
     "metadata": {},
     "output_type": "execute_result"
    },
    {
     "data": {
      "image/png": "[encoded data removed]",
      "text/plain": [
       "<matplotlib.figure.Figure at 0x1a2acf6710>"
      ]
     },
     "metadata": {},
     "output_type": "display_data"
    }
   ],
   "source": [
    "fig, axes = plt.subplots(nrows=1, ncols=2, sharex=True, sharey=True)\n",
    "\n",
    "matched_treated['age'].plot.box(ax=axes[0], grid=True, figsize=(15,5), \n",
    "                            title=\"Boxplot of age in treated group (matched)\")\n",
    "\n",
    "matched_control['age'].plot.box(ax=axes[1], grid=True, figsize=(15,5), \n",
    "                            title=\"Boxplot of age in control group (matched)\")"
   ]
  },
  {
   "cell_type": "markdown",
   "metadata": {},
   "source": [
    "We observe that by forcing the treated and non-treated individuals to have exactly the same race, while also comparing their propensity scores, like before, the age feature seems to be a lot more balanced as well, now. The two distributions, although not entirely similar, have a similar histogram shape, with higher percentages concentrated in the younger age groups (15-20 y.o.) and a pretty steady decline of the percentages in older age groups. After observing the two distributions, we decided that we can tolerate the current discrepancy that can be observed in the distribution of people's age in the two groups, and thus we will not try to balance this feature any further. \n",
    "\n",
    "Generally, by forcing certain features to be more balanced, it seems that some other features become more unbalanced (e.g. as we will see for feature 're74' further below), therefore there is a certain tradeoff to each tweak that we choose to do. For the purposes of our analysis, we decided that we will stick with the current matching, in order to avoid \"messing\" with already balanced features in order to \"force-balance\" the age feature."
   ]
  },
  {
   "cell_type": "markdown",
   "metadata": {},
   "source": [
    "2) We examine the years of education of individuals in the two groups:"
   ]
  },
  {
   "cell_type": "code",
   "execution_count": 72,
   "metadata": {},
   "outputs": [
    {
     "data": {
      "text/plain": [
       "count    116.000000\n",
       "mean      10.362069\n",
       "std        2.057422\n",
       "min        4.000000\n",
       "25%        9.000000\n",
       "50%       10.000000\n",
       "75%       12.000000\n",
       "max       16.000000\n",
       "Name: educ, dtype: float64"
      ]
     },
     "execution_count": 72,
     "metadata": {},
     "output_type": "execute_result"
    }
   ],
   "source": [
    "matched_treated['educ'].describe()"
   ]
  },
  {
   "cell_type": "code",
   "execution_count": 73,
   "metadata": {},
   "outputs": [
    {
     "data": {
      "text/plain": [
       "count    116.000000\n",
       "mean      10.094828\n",
       "std        2.933994\n",
       "min        0.000000\n",
       "25%        9.000000\n",
       "50%       11.000000\n",
       "75%       12.000000\n",
       "max       17.000000\n",
       "Name: educ, dtype: float64"
      ]
     },
     "execution_count": 73,
     "metadata": {},
     "output_type": "execute_result"
    }
   ],
   "source": [
    "matched_control['educ'].describe()"
   ]
  },
  {
   "cell_type": "code",
   "execution_count": 74,
   "metadata": {
    "scrolled": false
   },
   "outputs": [
    {
     "data": {
      "text/plain": [
       "<matplotlib.text.Text at 0x1a29c7f940>"
      ]
     },
     "execution_count": 74,
     "metadata": {},
     "output_type": "execute_result"
    },
    {
     "data": {
      "image/png": "[encoded data removed]",
      "text/plain": [
       "<matplotlib.figure.Figure at 0x1a266055f8>"
      ]
     },
     "metadata": {},
     "output_type": "display_data"
    }
   ],
   "source": [
    "fig, axes = plt.subplots(nrows=1, ncols=2, sharex=True, sharey=True)\n",
    "\n",
    "matched_treated['educ'].plot.hist(ax=axes[0], grid=True, figsize=(15,5), \n",
    "                        title=\"Distribution of years of education in treated group (matched)\",\n",
    "                        bins=range(20), \n",
    "                        weights=np.zeros_like(matched_treated['educ']) + 1. / matched_treated['educ'].size * 100)\n",
    "\n",
    "matched_control['educ'].plot.hist(ax=axes[1], grid=True, figsize=(15,5), \n",
    "                        title=\"Distribution of years of eduction in control group (matched)\", \n",
    "                        bins=range(20), \n",
    "                        weights=np.zeros_like(matched_control['educ']) + 1. / matched_control['educ'].size * 100)\n",
    "\n",
    "fig.text(0.5, 0.04, 'educ', ha='center')\n",
    "axes[0].set_ylabel(\"Percentage(%)\")"
   ]
  },
  {
   "cell_type": "code",
   "execution_count": 75,
   "metadata": {
    "scrolled": false
   },
   "outputs": [
    {
     "data": {
      "text/plain": [
       "<matplotlib.axes._subplots.AxesSubplot at 0x1a29f1c240>"
      ]
     },
     "execution_count": 75,
     "metadata": {},
     "output_type": "execute_result"
    },
    {
     "data": {
      "image/png": "[encoded data removed]",
      "text/plain": [
       "<matplotlib.figure.Figure at 0x1a265f9d30>"
      ]
     },
     "metadata": {},
     "output_type": "display_data"
    }
   ],
   "source": [
    "fig, axes = plt.subplots(nrows=1, ncols=2, sharex=True, sharey=True)\n",
    "\n",
    "matched_treated['educ'].plot.box(ax=axes[0], grid=True, figsize=(15,5), \n",
    "                        title=\"Boxplot of years of education in treated group (matched)\")\n",
    "\n",
    "matched_control['educ'].plot.box(ax=axes[1], grid=True, figsize=(15,5), \n",
    "                        title=\"Boxplot of years of eduction in control group (matched)\")"
   ]
  },
  {
   "cell_type": "markdown",
   "metadata": {},
   "source": [
    "We observe that the two distributions look very similar, after our second matching, in terms of histogram shape, mean value and standard deviation as well as the information that we get from the boxplots. The feature seems to have been balanced even more, compared to our first matching."
   ]
  },
  {
   "cell_type": "markdown",
   "metadata": {},
   "source": [
    "3) We examine the race of individuals in the two groups:"
   ]
  },
  {
   "cell_type": "code",
   "execution_count": 76,
   "metadata": {
    "scrolled": true
   },
   "outputs": [
    {
     "name": "stdout",
     "output_type": "stream",
     "text": [
      "\u001b[4mBlack\u001b[0m people take up 75% of the treated group\n",
      "\u001b[4mHispanic\u001b[0m people take up 9% of the treated group\n",
      "\u001b[4mWhite\u001b[0m people take up 16% of the treated group\n",
      "\n",
      "\u001b[4mBlack\u001b[0m people take up 75% of the control group\n",
      "\u001b[4mHispanic\u001b[0m people take up 9% of the control group\n",
      "\u001b[4mWhite\u001b[0m people take up 16% of the treated group\n",
      "\n"
     ]
    }
   ],
   "source": [
    "# We observe:\n",
    "# a) the percentage of black people in the treated group:\n",
    "print(\"\\033[4mBlack\\033[0m people take up %d%% of the treated group\" % \n",
    "      (round(matched_treated['black'].sum()/len(matched_treated) * 100)))\n",
    "\n",
    "# b) the percentage of hispanic people in the treated group:\n",
    "print(\"\\033[4mHispanic\\033[0m people take up %d%% of the treated group\" % \n",
    "      (round(matched_treated['hispan'].sum()/len(matched_treated) * 100)))\n",
    "\n",
    "# c) the percentage of white people in the treated group:\n",
    "treated_white = matched_treated[(matched_treated['black'] == 0) & (matched_treated['hispan'] == 0)]\n",
    "print(\"\\033[4mWhite\\033[0m people take up %d%% of the treated group\\n\" % \n",
    "      (round(len(treated_white)/len(matched_treated) * 100)))\n",
    "\n",
    "# d) the percentage of black people in the control group:\n",
    "print(\"\\033[4mBlack\\033[0m people take up %d%% of the control group\" % \n",
    "      (round(matched_control['black'].sum()/len(matched_control) * 100)))\n",
    "\n",
    "# e) the percentage of hispanic people in the control group:\n",
    "print(\"\\033[4mHispanic\\033[0m people take up %d%% of the control group\" % \n",
    "      (round(matched_control['hispan'].sum()/len(matched_control) * 100)))\n",
    "\n",
    "# f) the percentage of white people in the control group:\n",
    "control_white = matched_control[(matched_control['black'] == 0) & (matched_control['hispan'] == 0)]\n",
    "print(\"\\033[4mWhite\\033[0m people take up %d%% of the treated group\\n\" % \n",
    "      (round(len(control_white)/len(matched_control) * 100)))"
   ]
  },
  {
   "cell_type": "code",
   "execution_count": 77,
   "metadata": {
    "scrolled": false
   },
   "outputs": [
    {
     "data": {
      "text/plain": [
       "<matplotlib.figure.Figure at 0x1a29f4ecf8>"
      ]
     },
     "metadata": {},
     "output_type": "display_data"
    },
    {
     "data": {
      "image/png": "[encoded data removed]",
      "text/plain": [
       "<matplotlib.figure.Figure at 0x1a29f4e4a8>"
      ]
     },
     "metadata": {},
     "output_type": "display_data"
    }
   ],
   "source": [
    "treated_races = pd.DataFrame({'Black' :  pd.Series(matched_treated['black'].sum()/len(matched_treated) * 100),\n",
    "                              'Hispanic' : pd.Series(matched_treated['hispan'].sum()/len(matched_treated) * 100),\n",
    "                              'White' : pd.Series(len(treated_white)/len(matched_treated) * 100)})\n",
    "\n",
    "\n",
    "control_races = pd.DataFrame({'Black' :  pd.Series(matched_control['black'].sum()/len(matched_control) * 100),\n",
    "                              'Hispanic' : pd.Series(matched_control['hispan'].sum()/len(matched_control) * 100),\n",
    "                              'White' : pd.Series(len(control_white)/len(matched_control) * 100)})\n",
    "\n",
    "plt.figure()\n",
    "fig, axes = plt.subplots(nrows=1, ncols=2, sharex=True, sharey=True)\n",
    "\n",
    "treated_races.plot(ax=axes[0], y=['Black', 'Hispanic', 'White'], kind=\"bar\",\n",
    "                   figsize=(13, 5), title=\"Races of individuals in treated group (matched)\", grid=True)\n",
    "\n",
    "control_races.plot(ax=axes[1], y=['Black', 'Hispanic', 'White'], kind=\"bar\", \n",
    "                   figsize=(13, 5), title=\"Races of individuals in control group (matched)\", grid=True)\n",
    "\n",
    "fig.text(0.5, 0.04, 'Race', ha='center')\n",
    "axes[0].set_ylabel(\"Percentage(%)\")\n",
    "axes[0].get_xaxis().set_visible(False)\n",
    "axes[1].get_xaxis().set_visible(False)\n",
    "plt.show()"
   ]
  },
  {
   "cell_type": "markdown",
   "metadata": {},
   "source": [
    "As expected, the percentages of black, hispanic and white people in the two groups, are now completely the same, since we explicitly forced our groups to match on this feature exactly."
   ]
  },
  {
   "cell_type": "markdown",
   "metadata": {},
   "source": [
    "4) We examine the percentage of married and unmarried people in the two groups:"
   ]
  },
  {
   "cell_type": "code",
   "execution_count": 78,
   "metadata": {},
   "outputs": [
    {
     "name": "stdout",
     "output_type": "stream",
     "text": [
      "\u001b[4mMarried\u001b[0m people take up 14% of the treated group\n",
      "\u001b[4mUnmarried\u001b[0m people take up 86% of the treated group\n",
      "\n",
      "\u001b[4mMarried\u001b[0m people take up 34% of the control group\n",
      "\u001b[4mUnmarried\u001b[0m people take up 66% of the control group\n"
     ]
    }
   ],
   "source": [
    "# We observe:\n",
    "# a) the percentage of married people in the treated group:\n",
    "print(\"\\033[4mMarried\\033[0m people take up %d%% of the treated group\" % \n",
    "      (round(matched_treated['married'].sum()/len(matched_treated) * 100)))\n",
    "\n",
    "# b) the percentage of unmarried people in the treated group:\n",
    "print(\"\\033[4mUnmarried\\033[0m people take up %d%% of the treated group\\n\" % \n",
    "      (round((len(matched_treated) - matched_treated['married'].sum())/len(matched_treated) * 100)))\n",
    "# c) the percentage of married people in the control group:\n",
    "print(\"\\033[4mMarried\\033[0m people take up %d%% of the control group\" % \n",
    "      (round(matched_control['married'].sum()/len(matched_control) * 100)))\n",
    "\n",
    "# d) the percentage of unmarried people in the control group:\n",
    "print(\"\\033[4mUnmarried\\033[0m people take up %d%% of the control group\" % \n",
    "      (round((len(matched_control) - matched_control['married'].sum())/len(matched_control) * 100)))"
   ]
  },
  {
   "cell_type": "code",
   "execution_count": 79,
   "metadata": {
    "scrolled": false
   },
   "outputs": [
    {
     "data": {
      "text/plain": [
       "<matplotlib.figure.Figure at 0x1a29c15a20>"
      ]
     },
     "metadata": {},
     "output_type": "display_data"
    },
    {
     "data": {
      "image/png": "[encoded data removed]",
      "text/plain": [
       "<matplotlib.figure.Figure at 0x1a29c15358>"
      ]
     },
     "metadata": {},
     "output_type": "display_data"
    }
   ],
   "source": [
    "treated_status = pd.DataFrame({'Married' :  pd.Series(matched_treated['married'].sum()/len(matched_treated) * 100),\n",
    "                               'Unmarried' : pd.Series((len(matched_treated) - matched_treated['married'].sum())\n",
    "                                                                    /len(matched_treated) * 100)})\n",
    "\n",
    "\n",
    "control_status = pd.DataFrame({'Married' :  pd.Series(matched_control['married'].sum()/len(matched_control) * 100),\n",
    "                              'Unmarried' : pd.Series((len(matched_control) - matched_control['married'].sum())\n",
    "                                                                    /len(matched_control) * 100)})\n",
    "\n",
    "plt.figure()\n",
    "fig, axes = plt.subplots(nrows=1, ncols=2, sharex=True, sharey=True)\n",
    "\n",
    "treated_status.plot(ax=axes[0], y=['Married', 'Unmarried'], kind=\"bar\",\n",
    "                   figsize=(15, 6), title=\"Marital status of individuals in treated group (matched)\", grid=True)\n",
    "\n",
    "control_status.plot(ax=axes[1], y=['Married', 'Unmarried'], kind=\"bar\", \n",
    "                   figsize=(15, 6), title=\"Marital status of individuals in control group (matched)\", grid=True)\n",
    "\n",
    "fig.text(0.5, 0.04, 'Marital status', ha='center')\n",
    "axes[0].set_ylabel(\"Percentage(%)\")\n",
    "axes[0].get_xaxis().set_visible(False)\n",
    "axes[1].get_xaxis().set_visible(False)\n",
    "plt.show()"
   ]
  },
  {
   "cell_type": "markdown",
   "metadata": {},
   "source": [
    "The marital status feature seems a bit more unbalanced than after our first matching (the percentage of married people in the treated group is a bit higher than in the control group), however the feature can be considered as pretty balanced, generally, since there are still more unmarried than married people in both groups."
   ]
  },
  {
   "cell_type": "markdown",
   "metadata": {},
   "source": [
    "5) We examine the percentages of people with and without a school degree in the two groups:"
   ]
  },
  {
   "cell_type": "code",
   "execution_count": 80,
   "metadata": {},
   "outputs": [
    {
     "name": "stdout",
     "output_type": "stream",
     "text": [
      "People \u001b[4mwith a school degree\u001b[0m take up 34% of the treated group\n",
      "People \u001b[4mwithout a school degree\u001b[0m take up 66% of the treated group\n",
      "\n",
      "People \u001b[4mwith a school degree\u001b[0m take up 36% of the control group\n",
      "People \u001b[4mwithout a school degree\u001b[0m take up 64% of the control group\n",
      "\n"
     ]
    }
   ],
   "source": [
    "# We observe:\n",
    "# a) the percentage of people with a degree in the treated group:\n",
    "print(\"People \\033[4mwith a school degree\\033[0m take up %d%% of the treated group\" % \n",
    "      (round((len(matched_treated) - matched_treated['nodegree'].sum())/len(matched_treated) * 100)))\n",
    "\n",
    "# b) the percentage of people without a degree in the treated group:\n",
    "print(\"People \\033[4mwithout a school degree\\033[0m take up %d%% of the treated group\\n\" % \n",
    "      (round(matched_treated['nodegree'].sum()/len(matched_treated) * 100)))\n",
    "\n",
    "# c) the percentage of people with a degree in the control group:\n",
    "print(\"People \\033[4mwith a school degree\\033[0m take up %d%% of the control group\" % \n",
    "      (round((len(matched_control) - matched_control['nodegree'].sum())/len(matched_control) * 100)))\n",
    "\n",
    "# d) the percentage of people without a degree in the control group:\n",
    "print(\"People \\033[4mwithout a school degree\\033[0m take up %d%% of the control group\\n\" % \n",
    "      (round(matched_control['nodegree'].sum()/len(matched_control) * 100)))\n"
   ]
  },
  {
   "cell_type": "code",
   "execution_count": 81,
   "metadata": {},
   "outputs": [
    {
     "data": {
      "text/plain": [
       "<matplotlib.figure.Figure at 0x1a27456160>"
      ]
     },
     "metadata": {},
     "output_type": "display_data"
    },
    {
     "data": {
      "image/png": "[encoded data removed]",
      "text/plain": [
       "<matplotlib.figure.Figure at 0x1a274568d0>"
      ]
     },
     "metadata": {},
     "output_type": "display_data"
    }
   ],
   "source": [
    "treated_degree = pd.DataFrame({'No degree' : pd.Series(matched_treated['nodegree'].sum()/len(matched_treated) * 100),\n",
    "                               'Degree' : pd.Series((len(matched_treated) - matched_treated['nodegree'].sum())\n",
    "                                                                    /len(matched_treated) * 100)})\n",
    "\n",
    "\n",
    "control_degree = pd.DataFrame({'No degree' : pd.Series(matched_control['nodegree'].sum()/len(matched_control) * 100),\n",
    "                               'Degree' : pd.Series((len(matched_control) - matched_control['nodegree'].sum())\n",
    "                                                                    /len(matched_control) * 100)})\n",
    "\n",
    "plt.figure()\n",
    "fig, axes = plt.subplots(nrows=1, ncols=2, sharex=True, sharey=True)\n",
    "\n",
    "treated_degree.plot(ax=axes[0], y=['Degree', 'No degree'], kind=\"bar\",\n",
    "                   figsize=(15, 6), title=\"Possession of school degrees in treated group (matched)\", grid=True)\n",
    "\n",
    "control_degree.plot(ax=axes[1], y=['Degree', 'No degree'], kind=\"bar\", \n",
    "                   figsize=(15, 6), title=\"Possession of school degrees in control group (matched)\", grid=True)\n",
    "\n",
    "fig.text(0.5, 0.04, 'Degree status', ha='center')\n",
    "axes[0].set_ylabel(\"Percentage(%)\")\n",
    "axes[0].get_xaxis().set_visible(False)\n",
    "axes[1].get_xaxis().set_visible(False)\n",
    "plt.show()"
   ]
  },
  {
   "cell_type": "markdown",
   "metadata": {},
   "source": [
    "It is obvious that the second matching has achieved an almost perfect balance in this feature, as we can see from the plots above."
   ]
  },
  {
   "cell_type": "markdown",
   "metadata": {},
   "source": [
    "6) We examine the income of individuals in the two groups, during 1974:"
   ]
  },
  {
   "cell_type": "code",
   "execution_count": 82,
   "metadata": {
    "scrolled": true
   },
   "outputs": [
    {
     "data": {
      "text/plain": [
       "count      116.000000\n",
       "mean      2814.626668\n",
       "std       5893.624805\n",
       "min          0.000000\n",
       "25%          0.000000\n",
       "50%          0.000000\n",
       "75%       1946.470000\n",
       "max      35040.070000\n",
       "Name: re74, dtype: float64"
      ]
     },
     "execution_count": 82,
     "metadata": {},
     "output_type": "execute_result"
    }
   ],
   "source": [
    "matched_treated['re74'].describe()"
   ]
  },
  {
   "cell_type": "code",
   "execution_count": 83,
   "metadata": {},
   "outputs": [
    {
     "data": {
      "text/plain": [
       "count      116.000000\n",
       "mean      2870.798839\n",
       "std       4741.562606\n",
       "min          0.000000\n",
       "25%          0.000000\n",
       "50%        577.983700\n",
       "75%       3334.182000\n",
       "max      21918.320000\n",
       "Name: re74, dtype: float64"
      ]
     },
     "execution_count": 83,
     "metadata": {},
     "output_type": "execute_result"
    }
   ],
   "source": [
    "matched_control['re74'].describe()"
   ]
  },
  {
   "cell_type": "code",
   "execution_count": 84,
   "metadata": {},
   "outputs": [
    {
     "data": {
      "text/plain": [
       "<matplotlib.text.Text at 0x1a27656cf8>"
      ]
     },
     "execution_count": 84,
     "metadata": {},
     "output_type": "execute_result"
    },
    {
     "data": {
      "image/png": "[encoded data removed]",
      "text/plain": [
       "<matplotlib.figure.Figure at 0x1a29a73278>"
      ]
     },
     "metadata": {},
     "output_type": "display_data"
    }
   ],
   "source": [
    "fig, axes = plt.subplots(nrows=1, ncols=2, sharex=True, sharey=True)\n",
    "\n",
    "matched_treated['re74'].plot.hist(ax=axes[0], grid=True, figsize=(15,5), \n",
    "                        title=\"Distribution of 're74' in treated group (matched)\",\n",
    "                        bins=[x*1000 for x in range(0, 40)], \n",
    "                        weights=np.zeros_like(matched_treated['re74']) + 1. / matched_treated['re74'].size * 100)\n",
    "\n",
    "matched_control['re74'].plot.hist(ax=axes[1], grid=True, figsize=(15,5), \n",
    "                        title=\"Distribution of 're74' in control group (matched)\", \n",
    "                        bins=[x*1000 for x in range(0, 40)], \n",
    "                        weights=np.zeros_like(matched_control['re74']) + 1. / matched_control['re74'].size * 100)\n",
    "\n",
    "fig.text(0.5, 0.04, 're74', ha='center')\n",
    "axes[0].set_ylabel(\"Percentage(%)\")"
   ]
  },
  {
   "cell_type": "code",
   "execution_count": 85,
   "metadata": {
    "scrolled": false
   },
   "outputs": [
    {
     "data": {
      "text/plain": [
       "<matplotlib.axes._subplots.AxesSubplot at 0x1a274ab0f0>"
      ]
     },
     "execution_count": 85,
     "metadata": {},
     "output_type": "execute_result"
    },
    {
     "data": {
      "image/png": "[encoded data removed]",
      "text/plain": [
       "<matplotlib.figure.Figure at 0x1a275d4b00>"
      ]
     },
     "metadata": {},
     "output_type": "display_data"
    }
   ],
   "source": [
    "fig, axes = plt.subplots(nrows=1, ncols=2, sharex=True, sharey=True)\n",
    "\n",
    "matched_treated['re74'].plot.box(ax=axes[0], grid=True, figsize=(15,5), \n",
    "                            title=\"Boxplot of 're74' in treated group (matched)\")\n",
    "matched_control['re74'].plot.box(ax=axes[1], grid=True, figsize=(15,5), \n",
    "                            title=\"Boxplot of 're74' in control group (matched)\")"
   ]
  },
  {
   "cell_type": "markdown",
   "metadata": {},
   "source": [
    "The 're74' feature seems to have been a bit destabilised, compared to the results that we got after the first matching (the difference of the percentages of unemployed treated and non-treated people is a bit bigger now compared to what we observed in task 4). However, it is considered pretty balanced for the purposes of our analysis."
   ]
  },
  {
   "cell_type": "markdown",
   "metadata": {},
   "source": [
    "7) We examine the income of individuals in the two groups, during 1975:"
   ]
  },
  {
   "cell_type": "code",
   "execution_count": 86,
   "metadata": {},
   "outputs": [
    {
     "data": {
      "text/plain": [
       "count      116.000000\n",
       "mean      1915.293294\n",
       "std       3831.034242\n",
       "min          0.000000\n",
       "25%          0.000000\n",
       "50%          0.000000\n",
       "75%       2622.677750\n",
       "max      25142.240000\n",
       "Name: re75, dtype: float64"
      ]
     },
     "execution_count": 86,
     "metadata": {},
     "output_type": "execute_result"
    }
   ],
   "source": [
    "matched_treated['re75'].describe()"
   ]
  },
  {
   "cell_type": "code",
   "execution_count": 87,
   "metadata": {},
   "outputs": [
    {
     "data": {
      "text/plain": [
       "count      116.000000\n",
       "mean      1792.128280\n",
       "std       3029.327433\n",
       "min          0.000000\n",
       "25%          0.000000\n",
       "50%        287.346750\n",
       "75%       2262.967500\n",
       "max      13776.530000\n",
       "Name: re75, dtype: float64"
      ]
     },
     "execution_count": 87,
     "metadata": {},
     "output_type": "execute_result"
    }
   ],
   "source": [
    "matched_control['re75'].describe()"
   ]
  },
  {
   "cell_type": "code",
   "execution_count": 88,
   "metadata": {},
   "outputs": [
    {
     "data": {
      "text/plain": [
       "<matplotlib.text.Text at 0x1a2749be10>"
      ]
     },
     "execution_count": 88,
     "metadata": {},
     "output_type": "execute_result"
    },
    {
     "data": {
      "image/png": "[encoded data removed]",
      "text/plain": [
       "<matplotlib.figure.Figure at 0x1a2734ac50>"
      ]
     },
     "metadata": {},
     "output_type": "display_data"
    }
   ],
   "source": [
    "fig, axes = plt.subplots(nrows=1, ncols=2, sharex=True, sharey=True)\n",
    "\n",
    "matched_treated['re75'].plot.hist(ax=axes[0], grid=True, figsize=(15,5), \n",
    "                        title=\"Distribution of 're75' in treated group (matched)\",\n",
    "                        bins=[x*1000 for x in range(0, 40)], \n",
    "                        weights=np.zeros_like(matched_treated['re75']) + 1. / matched_treated['re75'].size * 100)\n",
    "\n",
    "matched_control['re75'].plot.hist(ax=axes[1], grid=True, figsize=(15,5), \n",
    "                        title=\"Distribution of 're75' in control group (matched)\", \n",
    "                        bins=[x*1000 for x in range(0, 40)], \n",
    "                        weights=np.zeros_like(matched_control['re75']) + 1. / matched_control['re75'].size * 100)\n",
    "\n",
    "fig.text(0.5, 0.04, 're75', ha='center')\n",
    "axes[0].set_ylabel(\"Percentage(%)\")"
   ]
  },
  {
   "cell_type": "code",
   "execution_count": 89,
   "metadata": {
    "scrolled": true
   },
   "outputs": [
    {
     "data": {
      "text/plain": [
       "<matplotlib.axes._subplots.AxesSubplot at 0x1a28253320>"
      ]
     },
     "execution_count": 89,
     "metadata": {},
     "output_type": "execute_result"
    },
    {
     "data": {
      "image/png": "[encoded data removed]",
      "text/plain": [
       "<matplotlib.figure.Figure at 0x1a2aee0cf8>"
      ]
     },
     "metadata": {},
     "output_type": "display_data"
    }
   ],
   "source": [
    "fig, axes = plt.subplots(nrows=1, ncols=2, sharex=True, sharey=True)\n",
    "\n",
    "matched_treated['re75'].plot.box(ax=axes[0], grid=True, figsize=(15,5), \n",
    "                        title=\"Boxplot of 're75' in treated group (matched)\")\n",
    "\n",
    "matched_control['re75'].plot.box(ax=axes[1], grid=True, figsize=(15,5), \n",
    "                        title=\"Boxplot of 're75' in control group (matched)\")\n"
   ]
  },
  {
   "cell_type": "markdown",
   "metadata": {},
   "source": [
    "We can observe that the second matching has achieved a very good balance in this feature."
   ]
  },
  {
   "cell_type": "markdown",
   "metadata": {},
   "source": [
    "__Final conclusions:__\n",
    "\n",
    "As we already mentioned, it seems that there are some features (e.g. marital status, re74) whose balance between the two groups seems a bit worse after the second matching, compared to their balance after the first one, and there are other features (age, race, educ, etc.) whose balance has gotten a lot better after the second matching. All in all, it is quite obvious that after the second matching, most of the features seem well balanced and we can now make safer conclusions regarding the effectiveness of the treatment."
   ]
  },
  {
   "cell_type": "markdown",
   "metadata": {},
   "source": [
    "#### 6. A less naive analysis\n",
    "\n",
    "Compare the outcomes (`re78`) between treated and control subjects, as you've done in part 1, but now only for the matched dataset you've obtained from part 5.\n",
    "What do you conclude about the effectiveness of the job training program?"
   ]
  },
  {
   "cell_type": "markdown",
   "metadata": {},
   "source": [
    "#### Answer"
   ]
  },
  {
   "cell_type": "markdown",
   "metadata": {},
   "source": [
    "We are going to compare the income of individuals in the two groups after the treatment (1978):"
   ]
  },
  {
   "cell_type": "code",
   "execution_count": 90,
   "metadata": {},
   "outputs": [
    {
     "data": {
      "text/plain": [
       "count      116.000000\n",
       "mean      6600.235531\n",
       "std       7310.853096\n",
       "min          0.000000\n",
       "25%        217.342425\n",
       "50%       4648.736000\n",
       "75%       9940.204750\n",
       "max      36646.950000\n",
       "Name: re78, dtype: float64"
      ]
     },
     "execution_count": 90,
     "metadata": {},
     "output_type": "execute_result"
    }
   ],
   "source": [
    "matched_treated['re78'].describe()"
   ]
  },
  {
   "cell_type": "code",
   "execution_count": 91,
   "metadata": {},
   "outputs": [
    {
     "data": {
      "text/plain": [
       "count      116.000000\n",
       "mean      1792.128280\n",
       "std       3029.327433\n",
       "min          0.000000\n",
       "25%          0.000000\n",
       "50%        287.346750\n",
       "75%       2262.967500\n",
       "max      13776.530000\n",
       "Name: re75, dtype: float64"
      ]
     },
     "execution_count": 91,
     "metadata": {},
     "output_type": "execute_result"
    }
   ],
   "source": [
    "matched_control['re75'].describe()"
   ]
  },
  {
   "cell_type": "code",
   "execution_count": 92,
   "metadata": {
    "scrolled": false
   },
   "outputs": [
    {
     "data": {
      "text/plain": [
       "<matplotlib.text.Text at 0x1a2834b400>"
      ]
     },
     "execution_count": 92,
     "metadata": {},
     "output_type": "execute_result"
    },
    {
     "data": {
      "image/png": "[encoded data removed]",
      "text/plain": [
       "<matplotlib.figure.Figure at 0x1a282d9208>"
      ]
     },
     "metadata": {},
     "output_type": "display_data"
    }
   ],
   "source": [
    "fig, axes = plt.subplots(nrows=1, ncols=2, sharex=True, sharey=True)\n",
    "\n",
    "matched_treated['re78'].plot.hist(ax=axes[0], grid=True, figsize=(15,5), \n",
    "                        title=\"Distribution of 're78' in treated group (matched)\",\n",
    "                        bins=[x*1000 for x in range(0, 40)], \n",
    "                        weights=np.zeros_like(matched_treated['re78']) + 1. / matched_treated['re78'].size * 100)\n",
    "\n",
    "matched_control['re78'].plot.hist(ax=axes[1], grid=True, figsize=(15,5), \n",
    "                        title=\"Distribution of 're78' in control group (matched)\", \n",
    "                        bins=[x*1000 for x in range(0, 40)], \n",
    "                        weights=np.zeros_like(matched_control['re78']) + 1. / matched_control['re78'].size * 100)\n",
    "\n",
    "fig.text(0.5, 0.04, 're78', ha='center')\n",
    "axes[0].set_ylabel(\"Percentage(%)\")"
   ]
  },
  {
   "cell_type": "code",
   "execution_count": 93,
   "metadata": {
    "scrolled": true
   },
   "outputs": [
    {
     "data": {
      "text/plain": [
       "<matplotlib.axes._subplots.AxesSubplot at 0x1a2a13e320>"
      ]
     },
     "execution_count": 93,
     "metadata": {},
     "output_type": "execute_result"
    },
    {
     "data": {
      "image/png": "[encoded data removed]",
      "text/plain": [
       "<matplotlib.figure.Figure at 0x1a282e6400>"
      ]
     },
     "metadata": {},
     "output_type": "display_data"
    }
   ],
   "source": [
    "fig, axes = plt.subplots(nrows=1, ncols=2, sharex=True, sharey=True)\n",
    "\n",
    "matched_treated['re78'].plot.box(ax=axes[0], grid=True, figsize=(15,5), \n",
    "                        title=\"Boxplot of 're78' in treated group (matched)\")\n",
    "\n",
    "matched_control['re78'].plot.box(ax=axes[1], grid=True, figsize=(15,5), \n",
    "                        title=\"Boxplot of 're78' in control group (matched)\")"
   ]
  },
  {
   "cell_type": "markdown",
   "metadata": {},
   "source": [
    "After all our previous processing of the data, we can now make significantly safer conclusions from the data. It turns out that the job training program has been __effective__ after all. We observe the positive results of the program if we notice that the percentage of unemployed people (re78 = 0) in the treated group is now much lower (~29%) than in the control group (~42%). Furthermore, as we can observe from the boxplots above, the maximum income of people during 1978 is higher for treated people (~23,000) than for non-treated ones (~19,000) and there are also a few outliers in the treated group, with incomes much higher than the rest of the peoples' in both groups. Finally, we notice that the mean values in the two groups vary significantly from one another (~6600 for treated individuals and ~1800 for non-treated ones). This means that, on average, people who received the treatment had an income of around 5,000 more than non-treated people, during 1978; a difference which is not at all negligible. "
   ]
  },
  {
   "cell_type": "markdown",
   "metadata": {},
   "source": [
    "## Question 2: Applied ML\n",
    "\n",
    "We are going to build a classifier of news to directly assign them to 20 news categories. Note that the pipeline that you will build in this exercise could be of great help during your project if you plan to work with text!\n",
    "\n",
    "1. Load the 20newsgroup dataset. It is, again, a classic dataset that can directly be loaded using sklearn ([link](http://scikit-learn.org/stable/datasets/twenty_newsgroups.html)).  \n",
    "[TF-IDF](https://en.wikipedia.org/wiki/Tf%E2%80%93idf), short for term frequency–inverse document frequency, is of great help when if comes to compute textual features. Indeed, it gives more importance to terms that are more specific to the considered articles (TF) but reduces the importance of terms that are very frequent in the entire corpus (IDF). Compute TF-IDF features for every article using [TfidfVectorizer](http://scikit-learn.org/stable/modules/generated/sklearn.feature_extraction.text.TfidfVectorizer.html). Then, split your dataset into a training, a testing and a validation set (10% for validation and 10% for testing). Each observation should be paired with its corresponding label (the article category).\n",
    "\n",
    "1. Train a random forest on your training set. Try to fine-tune the parameters of your predictor on your validation set using a simple grid search on the number of estimator \"n_estimators\" and the max depth of the trees \"max_depth\". Then, display a confusion matrix of your classification pipeline. Lastly, once you assessed your model, inspect the `feature_importances_` attribute of your random forest and discuss the obtained results."
   ]
  },
  {
   "cell_type": "markdown",
   "metadata": {},
   "source": [
    "### Answer\n",
    "\n",
    "#### Part 1"
   ]
  },
  {
   "cell_type": "markdown",
   "metadata": {},
   "source": [
    "We first obtain the whole dataset (articles for every category), by setting the argument `subset=all`."
   ]
  },
  {
   "cell_type": "code",
   "execution_count": 94,
   "metadata": {},
   "outputs": [
    {
     "data": {
      "text/plain": [
       "sklearn.utils.Bunch"
      ]
     },
     "execution_count": 94,
     "metadata": {},
     "output_type": "execute_result"
    }
   ],
   "source": [
    "newsgroup_whole = fetch_20newsgroups(subset='all')\n",
    "type(newsgroup_whole)"
   ]
  },
  {
   "cell_type": "markdown",
   "metadata": {},
   "source": [
    "Let's also take a look at the categories."
   ]
  },
  {
   "cell_type": "code",
   "execution_count": 95,
   "metadata": {},
   "outputs": [
    {
     "name": "stdout",
     "output_type": "stream",
     "text": [
      "0 alt.atheism\n",
      "1 comp.graphics\n",
      "2 comp.os.ms-windows.misc\n",
      "3 comp.sys.ibm.pc.hardware\n",
      "4 comp.sys.mac.hardware\n",
      "5 comp.windows.x\n",
      "6 misc.forsale\n",
      "7 rec.autos\n",
      "8 rec.motorcycles\n",
      "9 rec.sport.baseball\n",
      "10 rec.sport.hockey\n",
      "11 sci.crypt\n",
      "12 sci.electronics\n",
      "13 sci.med\n",
      "14 sci.space\n",
      "15 soc.religion.christian\n",
      "16 talk.politics.guns\n",
      "17 talk.politics.mideast\n",
      "18 talk.politics.misc\n",
      "19 talk.religion.misc\n"
     ]
    }
   ],
   "source": [
    "# the categories of the dataset 20newsgroup are listed below\n",
    "for index, category in enumerate(newsgroup_whole.target_names):\n",
    "    print(index, category)"
   ]
  },
  {
   "cell_type": "markdown",
   "metadata": {},
   "source": [
    "The `target` attribute contains the category of each article."
   ]
  },
  {
   "cell_type": "code",
   "execution_count": 96,
   "metadata": {},
   "outputs": [
    {
     "data": {
      "text/plain": [
       "array([10,  3, 17, ...,  3,  1,  7])"
      ]
     },
     "execution_count": 96,
     "metadata": {},
     "output_type": "execute_result"
    }
   ],
   "source": [
    "newsgroup_whole.target"
   ]
  },
  {
   "cell_type": "markdown",
   "metadata": {},
   "source": [
    "By reading the documentation of fetch_20newsgroups, the `target_names` attribute of the Bunch object shows the categories, the `data` attribute contains the newsgroups posts and the `target` attribute contains the indexes of the corresponding category. To perform tf-idf first we need to do some preprocessing."
   ]
  },
  {
   "cell_type": "markdown",
   "metadata": {},
   "source": [
    "In the cell below we show/observe how the articles are structured, in order to perform the appropriate preprocessing steps."
   ]
  },
  {
   "cell_type": "code",
   "execution_count": 97,
   "metadata": {},
   "outputs": [
    {
     "data": {
      "text/plain": [
       "\"From: sandvik@newton.apple.com (Kent Sandvik)\\nSubject: Re: 14 Apr 93   God's Promise in 1 John 1: 7\\nOrganization: Cookamunga Tourist Bureau\\nLines: 17\\n\\nIn article <1qknu0INNbhv@shelley.u.washington.edu>, > Christian:  washed in\\nthe blood of the lamb.\\n> Mithraist:  washed in the blood of the bull.\\n> \\n> If anyone in .netland is in the process of devising a new religion,\\n> do not use the lamb or the bull, because they have already been\\n> reserved.  Please choose another animal, preferably one not\\n> on the Endangered Species List.  \\n\\nThis will be a hard task, because most cultures used most animals\\nfor blood sacrifices. It has to be something related to our current\\npost-modernism state. Hmm, what about used computers?\\n\\nCheers,\\nKent\\n---\\nsandvik@newton.apple.com. ALink: KSAND -- Private activities on the net.\\n\""
      ]
     },
     "execution_count": 97,
     "metadata": {},
     "output_type": "execute_result"
    }
   ],
   "source": [
    "newsgroup_whole.data[10]"
   ]
  },
  {
   "cell_type": "markdown",
   "metadata": {},
   "source": [
    "We define the following functions to help us with the pre-processing procedure."
   ]
  },
  {
   "cell_type": "code",
   "execution_count": 98,
   "metadata": {
    "collapsed": true
   },
   "outputs": [],
   "source": [
    "def format_text(row):\n",
    "    \"\"\"\n",
    "    Takes a text as input and removes lines that start with specific words\n",
    "    \n",
    "    Parameters:\n",
    "    row: text string\n",
    "    return: filtered text\n",
    "    \"\"\"\n",
    "    remove_lines = ('in article', '@', 'from:', 'subject:', 'organization:',\n",
    "                    'lines:', 'nntp-posting-host:', 're:', 'reply-to', 'distribution:',\n",
    "                    'nntp-posting-host:', 'In article')\n",
    "    payload = row.split('\\n')\n",
    "    # remove lines that start with a word in the remove_lines list and remove emails \n",
    "    payload = [line for line in payload if not (line.startswith(remove_lines))]\n",
    "    payload = [line for line in payload if '@' not in line]              \n",
    "    if payload != ' ' and payload != '':\n",
    "        payload = ' '.join(payload)\n",
    "    return payload\n",
    "\n",
    "def convert_to_lowercase(text):\n",
    "    \"\"\"\n",
    "    Converts all words in the article into lower case\n",
    "    \n",
    "    Parameters:\n",
    "    text: text string\n",
    "    return: text string to lower case\n",
    "    \"\"\"\n",
    "    return text.lower()\n",
    "\n",
    "def filter_punctuation(text):\n",
    "    \"\"\"\n",
    "    Removes the punctuation.\n",
    "    \n",
    "    Parameters:\n",
    "    text: string\n",
    "    return: filtered string\n",
    "    \"\"\"\n",
    "\n",
    "    tokenizer = RegexpTokenizer(r'\\w+')\n",
    "    return \" \".join(tokenizer.tokenize(text))\n",
    "    tokenizer = RegexpTokenizer(r'\\w+(?:\\.|)')\n",
    "    return \" \".join(tokenizer.tokenize(text))"
   ]
  },
  {
   "cell_type": "markdown",
   "metadata": {},
   "source": [
    "Below we show an example of applying `format_text` to an article."
   ]
  },
  {
   "cell_type": "code",
   "execution_count": 99,
   "metadata": {},
   "outputs": [
    {
     "data": {
      "text/plain": [
       "\"Subject: Re: 14 Apr 93   God's Promise in 1 John 1: 7 Organization: Cookamunga Tourist Bureau Lines: 17  the blood of the lamb. > Mithraist:  washed in the blood of the bull. >  > If anyone in .netland is in the process of devising a new religion, > do not use the lamb or the bull, because they have already been > reserved.  Please choose another animal, preferably one not > on the Endangered Species List.    This will be a hard task, because most cultures used most animals for blood sacrifices. It has to be something related to our current post-modernism state. Hmm, what about used computers?  Cheers, Kent --- \""
      ]
     },
     "execution_count": 99,
     "metadata": {},
     "output_type": "execute_result"
    }
   ],
   "source": [
    "format_text(newsgroup_whole.data[10])"
   ]
  },
  {
   "cell_type": "markdown",
   "metadata": {},
   "source": [
    "As we can see, the \"lines\" containing the undesired properties have been removed, so that we stay with a \"cleaner\" payload."
   ]
  },
  {
   "cell_type": "markdown",
   "metadata": {},
   "source": [
    "Next, we create a `DataFrame` containing the article texts and their corresponding categories (name and ID). We also convert the article text to lowercase, for easier and more accurate analysis later."
   ]
  },
  {
   "cell_type": "code",
   "execution_count": 100,
   "metadata": {
    "collapsed": true
   },
   "outputs": [],
   "source": [
    "# perform matching in a list\n",
    "d = []\n",
    "counterAll = 0\n",
    "for i, cat in enumerate(newsgroup_whole.target_names):\n",
    "    counter = 0\n",
    "    for i1, i2 in enumerate(newsgroup_whole.target):\n",
    "        if i == i2:\n",
    "            counter = counter + 1\n",
    "            temp1 = pd.Series(newsgroup_whole.data[i1])\n",
    "            temp2 = pd.Series(newsgroup_whole.target[i2])\n",
    "            d.append({'Text': newsgroup_whole.data[i1],\n",
    "                      'Category': newsgroup_whole.target[i2],\n",
    "                      'Cat_Name': newsgroup_whole.target_names[i]})\n",
    "    counterAll += counter"
   ]
  },
  {
   "cell_type": "code",
   "execution_count": 101,
   "metadata": {},
   "outputs": [
    {
     "data": {
      "text/html": [
       "<div>\n",
       "<style>\n",
       "    .dataframe thead tr:only-child th {\n",
       "        text-align: right;\n",
       "    }\n",
       "\n",
       "    .dataframe thead th {\n",
       "        text-align: left;\n",
       "    }\n",
       "\n",
       "    .dataframe tbody tr th {\n",
       "        vertical-align: top;\n",
       "    }\n",
       "</style>\n",
       "<table border=\"1\" class=\"dataframe\">\n",
       "  <thead>\n",
       "    <tr style=\"text-align: right;\">\n",
       "      <th></th>\n",
       "      <th>Cat_Name</th>\n",
       "      <th>Category</th>\n",
       "      <th>Text</th>\n",
       "    </tr>\n",
       "  </thead>\n",
       "  <tbody>\n",
       "    <tr>\n",
       "      <th>0</th>\n",
       "      <td>alt.atheism</td>\n",
       "      <td>10</td>\n",
       "      <td>from: kmr4@po.cwru.edu (keith m. ryan)\\nsubjec...</td>\n",
       "    </tr>\n",
       "    <tr>\n",
       "      <th>1</th>\n",
       "      <td>alt.atheism</td>\n",
       "      <td>10</td>\n",
       "      <td>organization: penn state university\\nfrom: joh...</td>\n",
       "    </tr>\n",
       "    <tr>\n",
       "      <th>2</th>\n",
       "      <td>alt.atheism</td>\n",
       "      <td>10</td>\n",
       "      <td>from: simon@dcs.warwick.ac.uk (simon clippingd...</td>\n",
       "    </tr>\n",
       "    <tr>\n",
       "      <th>3</th>\n",
       "      <td>alt.atheism</td>\n",
       "      <td>10</td>\n",
       "      <td>from: ednclark@kraken.itc.gu.edu.au (jeffrey c...</td>\n",
       "    </tr>\n",
       "    <tr>\n",
       "      <th>4</th>\n",
       "      <td>alt.atheism</td>\n",
       "      <td>10</td>\n",
       "      <td>from: nanci ann miller &lt;nm0w+@andrew.cmu.edu&gt;\\...</td>\n",
       "    </tr>\n",
       "  </tbody>\n",
       "</table>\n",
       "</div>"
      ],
      "text/plain": [
       "      Cat_Name  Category                                               Text\n",
       "0  alt.atheism        10  from: kmr4@po.cwru.edu (keith m. ryan)\\nsubjec...\n",
       "1  alt.atheism        10  organization: penn state university\\nfrom: joh...\n",
       "2  alt.atheism        10  from: simon@dcs.warwick.ac.uk (simon clippingd...\n",
       "3  alt.atheism        10  from: ednclark@kraken.itc.gu.edu.au (jeffrey c...\n",
       "4  alt.atheism        10  from: nanci ann miller <nm0w+@andrew.cmu.edu>\\..."
      ]
     },
     "execution_count": 101,
     "metadata": {},
     "output_type": "execute_result"
    }
   ],
   "source": [
    "# create DataFrame out of the list\n",
    "df = pd.DataFrame(d)\n",
    "# convert article text to lowercase\n",
    "df['Text'] = df.apply(lambda row: convert_to_lowercase(row['Text']), axis=1)\n",
    "df.head()"
   ]
  },
  {
   "cell_type": "markdown",
   "metadata": {},
   "source": [
    "Next, we vectorize the words of each article. We make use of the stop-words (words that do not affect the \"content type\" of a piece of text, such as articles or adverbs) capabilities of the `nltk` library. We also add two words that appear frequently in some artictes and which are \"weird\".\n",
    "\n",
    "Observe how we make use of the `format_text` function defined above as the preprocessor in `TfidfVectorizer`."
   ]
  },
  {
   "cell_type": "code",
   "execution_count": 102,
   "metadata": {
    "collapsed": true
   },
   "outputs": [],
   "source": [
    "stop = stopwords.words('english')\n",
    "stop.append('KSAND')\n",
    "stop.append('ALink')\n",
    "vectorizer = TfidfVectorizer(stop_words=stop, lowercase=True, use_idf=True, max_features=150,\n",
    "                             preprocessor=format_text, norm= 'l2', ngram_range=(1,1), sublinear_tf=True)"
   ]
  },
  {
   "cell_type": "code",
   "execution_count": 103,
   "metadata": {},
   "outputs": [
    {
     "data": {
      "text/plain": [
       "['accepted',\n",
       " 'afterwards',\n",
       " 'anywhere',\n",
       " 'aspect',\n",
       " 'bucaille',\n",
       " 'commonly',\n",
       " 'dr',\n",
       " 'either',\n",
       " 'even',\n",
       " 'fly',\n",
       " 'galacticentric',\n",
       " 'geocentrism',\n",
       " 'heliocentric',\n",
       " 'intention',\n",
       " 'learning',\n",
       " 'long',\n",
       " 'maurice',\n",
       " 'noted',\n",
       " 'notion',\n",
       " 'positive',\n",
       " 'qur',\n",
       " 'sole',\n",
       " 'time',\n",
       " 'verse']"
      ]
     },
     "execution_count": 103,
     "metadata": {},
     "output_type": "execute_result"
    }
   ],
   "source": [
    "# example vectorization for the first article\n",
    "v = vectorizer.fit_transform([df['Text'][0]])\n",
    "vectorizer.get_feature_names()"
   ]
  },
  {
   "cell_type": "markdown",
   "metadata": {},
   "source": [
    "The are also a few articles, for which the vectorizer does not yield any results, e.g. article 687:"
   ]
  },
  {
   "cell_type": "code",
   "execution_count": 104,
   "metadata": {},
   "outputs": [
    {
     "data": {
      "text/plain": [
       "'from: edwin gans\\nsubject: atheism\\nnntp-posting-host: 47.107.76.97\\norganization: bell-northern research\\nlines: 1\\n\\n \\n'"
      ]
     },
     "execution_count": 104,
     "metadata": {},
     "output_type": "execute_result"
    }
   ],
   "source": [
    "df['Text'][687]"
   ]
  },
  {
   "cell_type": "markdown",
   "metadata": {},
   "source": [
    "As you can see, there is no \"useful\" text in the above article (could correspond e.g. to an empty email)."
   ]
  },
  {
   "cell_type": "markdown",
   "metadata": {},
   "source": [
    "We now add the following columns to our `DataFrame` (`df`):\n",
    "\n",
    "* The **Features** column, where we store the features for each article, which were obtained after the transformation of text to a matrix of TF-IDF features.\n",
    "* The **Features_Coeff** column, where we store the weights of each feature.\n",
    "* The **X** column, where we store the term-document matrix returned from the vectorizer."
   ]
  },
  {
   "cell_type": "code",
   "execution_count": 105,
   "metadata": {
    "collapsed": true
   },
   "outputs": [],
   "source": [
    "# we first construct the lists (that will later become columns)\n",
    "d1 = d2 = d3 = []\n",
    "for i, row in df['Text'].iteritems():\n",
    "    temp1 = temp2 = temp3 = []\n",
    "    try:\n",
    "        response = vectorizer.fit_transform([row])\n",
    "        l1 = vectorizer.get_feature_names()\n",
    "        for col in response.nonzero()[1]:\n",
    "            temp1.append(l1[col])\n",
    "            temp2.append(response[0, col])  \n",
    "    except: \n",
    "        temp1.append([])\n",
    "        temp2.append([])\n",
    "    d1.append(temp1)\n",
    "    d2.append(temp2)\n",
    "    d3.append(response)"
   ]
  },
  {
   "cell_type": "code",
   "execution_count": 106,
   "metadata": {
    "collapsed": true
   },
   "outputs": [],
   "source": [
    "# add the constructed lists as columns (via pd.Series)\n",
    "df['Features'] = pd.Series(d1)\n",
    "df['Features_Coeff'] = pd.Series(d2)\n",
    "df['X'] = pd.Series(d3)"
   ]
  },
  {
   "cell_type": "markdown",
   "metadata": {},
   "source": [
    "The final `DataFrame` can be seen below."
   ]
  },
  {
   "cell_type": "code",
   "execution_count": 107,
   "metadata": {},
   "outputs": [
    {
     "data": {
      "text/html": [
       "<div>\n",
       "<style>\n",
       "    .dataframe thead tr:only-child th {\n",
       "        text-align: right;\n",
       "    }\n",
       "\n",
       "    .dataframe thead th {\n",
       "        text-align: left;\n",
       "    }\n",
       "\n",
       "    .dataframe tbody tr th {\n",
       "        vertical-align: top;\n",
       "    }\n",
       "</style>\n",
       "<table border=\"1\" class=\"dataframe\">\n",
       "  <thead>\n",
       "    <tr style=\"text-align: right;\">\n",
       "      <th></th>\n",
       "      <th>Cat_Name</th>\n",
       "      <th>Category</th>\n",
       "      <th>Text</th>\n",
       "      <th>Features</th>\n",
       "      <th>Features_Coeff</th>\n",
       "      <th>X</th>\n",
       "    </tr>\n",
       "  </thead>\n",
       "  <tbody>\n",
       "    <tr>\n",
       "      <th>0</th>\n",
       "      <td>alt.atheism</td>\n",
       "      <td>10</td>\n",
       "      <td>from: kmr4@po.cwru.edu (keith m. ryan)\\nsubjec...</td>\n",
       "      <td>[positive, 0.174066010635, aspect, 0.174066010...</td>\n",
       "      <td>[positive, 0.174066010635, aspect, 0.174066010...</td>\n",
       "      <td>[positive, 0.174066010635, aspect, 0.174066010...</td>\n",
       "    </tr>\n",
       "    <tr>\n",
       "      <th>1</th>\n",
       "      <td>alt.atheism</td>\n",
       "      <td>10</td>\n",
       "      <td>organization: penn state university\\nfrom: joh...</td>\n",
       "      <td>[positive, 0.174066010635, aspect, 0.174066010...</td>\n",
       "      <td>[positive, 0.174066010635, aspect, 0.174066010...</td>\n",
       "      <td>[positive, 0.174066010635, aspect, 0.174066010...</td>\n",
       "    </tr>\n",
       "    <tr>\n",
       "      <th>2</th>\n",
       "      <td>alt.atheism</td>\n",
       "      <td>10</td>\n",
       "      <td>from: simon@dcs.warwick.ac.uk (simon clippingd...</td>\n",
       "      <td>(0, 19)\\t0.174066010635\\n  (0, 3)\\t0.1740660...</td>\n",
       "      <td>(0, 19)\\t0.174066010635\\n  (0, 3)\\t0.1740660...</td>\n",
       "      <td>(0, 19)\\t0.174066010635\\n  (0, 3)\\t0.1740660...</td>\n",
       "    </tr>\n",
       "    <tr>\n",
       "      <th>3</th>\n",
       "      <td>alt.atheism</td>\n",
       "      <td>10</td>\n",
       "      <td>from: ednclark@kraken.itc.gu.edu.au (jeffrey c...</td>\n",
       "      <td>[dwyer, 0.059358580231, says, 0.059358580231, ...</td>\n",
       "      <td>[dwyer, 0.059358580231, says, 0.059358580231, ...</td>\n",
       "      <td>[dwyer, 0.059358580231, says, 0.059358580231, ...</td>\n",
       "    </tr>\n",
       "    <tr>\n",
       "      <th>4</th>\n",
       "      <td>alt.atheism</td>\n",
       "      <td>10</td>\n",
       "      <td>from: nanci ann miller &lt;nm0w+@andrew.cmu.edu&gt;\\...</td>\n",
       "      <td>[dwyer, 0.059358580231, says, 0.059358580231, ...</td>\n",
       "      <td>[dwyer, 0.059358580231, says, 0.059358580231, ...</td>\n",
       "      <td>[dwyer, 0.059358580231, says, 0.059358580231, ...</td>\n",
       "    </tr>\n",
       "  </tbody>\n",
       "</table>\n",
       "</div>"
      ],
      "text/plain": [
       "      Cat_Name  Category                                               Text  \\\n",
       "0  alt.atheism        10  from: kmr4@po.cwru.edu (keith m. ryan)\\nsubjec...   \n",
       "1  alt.atheism        10  organization: penn state university\\nfrom: joh...   \n",
       "2  alt.atheism        10  from: simon@dcs.warwick.ac.uk (simon clippingd...   \n",
       "3  alt.atheism        10  from: ednclark@kraken.itc.gu.edu.au (jeffrey c...   \n",
       "4  alt.atheism        10  from: nanci ann miller <nm0w+@andrew.cmu.edu>\\...   \n",
       "\n",
       "                                            Features  \\\n",
       "0  [positive, 0.174066010635, aspect, 0.174066010...   \n",
       "1  [positive, 0.174066010635, aspect, 0.174066010...   \n",
       "2    (0, 19)\\t0.174066010635\\n  (0, 3)\\t0.1740660...   \n",
       "3  [dwyer, 0.059358580231, says, 0.059358580231, ...   \n",
       "4  [dwyer, 0.059358580231, says, 0.059358580231, ...   \n",
       "\n",
       "                                      Features_Coeff  \\\n",
       "0  [positive, 0.174066010635, aspect, 0.174066010...   \n",
       "1  [positive, 0.174066010635, aspect, 0.174066010...   \n",
       "2    (0, 19)\\t0.174066010635\\n  (0, 3)\\t0.1740660...   \n",
       "3  [dwyer, 0.059358580231, says, 0.059358580231, ...   \n",
       "4  [dwyer, 0.059358580231, says, 0.059358580231, ...   \n",
       "\n",
       "                                                   X  \n",
       "0  [positive, 0.174066010635, aspect, 0.174066010...  \n",
       "1  [positive, 0.174066010635, aspect, 0.174066010...  \n",
       "2    (0, 19)\\t0.174066010635\\n  (0, 3)\\t0.1740660...  \n",
       "3  [dwyer, 0.059358580231, says, 0.059358580231, ...  \n",
       "4  [dwyer, 0.059358580231, says, 0.059358580231, ...  "
      ]
     },
     "execution_count": 107,
     "metadata": {},
     "output_type": "execute_result"
    }
   ],
   "source": [
    "# peek...\n",
    "df.head()"
   ]
  },
  {
   "cell_type": "markdown",
   "metadata": {},
   "source": [
    "Now we proceed to split dataset into training (80%), test (10%) and validation (10%) sets."
   ]
  },
  {
   "cell_type": "code",
   "execution_count": 108,
   "metadata": {},
   "outputs": [
    {
     "data": {
      "text/plain": [
       "(15076, 1885, 1885)"
      ]
     },
     "execution_count": 108,
     "metadata": {},
     "output_type": "execute_result"
    }
   ],
   "source": [
    "# split with the help of NumPy\n",
    "train, validation, test = np.split(df.sample(frac=1), [int(.8 * len(df)), int(.9 * len(df))])\n",
    "# make sure we did it correctly...\n",
    "train.shape[0], validation.shape[0], test.shape[0]"
   ]
  },
  {
   "cell_type": "markdown",
   "metadata": {},
   "source": [
    "#### Part 2\n",
    "\n",
    "We now begin with the second part. We first make the necessary imports."
   ]
  },
  {
   "cell_type": "code",
   "execution_count": 110,
   "metadata": {
    "collapsed": true
   },
   "outputs": [],
   "source": [
    "from sklearn.ensemble import RandomForestClassifier\n",
    "forest = RandomForestClassifier(random_state=0)  # create a forect classifier"
   ]
  },
  {
   "cell_type": "code",
   "execution_count": 111,
   "metadata": {
    "collapsed": true
   },
   "outputs": [],
   "source": [
    "# extract the training data: input (X_train) and output (y_train)\n",
    "X_train = train['X']\n",
    "y_train = train['Category']"
   ]
  },
  {
   "cell_type": "markdown",
   "metadata": {},
   "source": [
    "We train the Random Forest Classifier after we transform the train set with the vectorizer."
   ]
  },
  {
   "cell_type": "code",
   "execution_count": 112,
   "metadata": {
    "collapsed": true
   },
   "outputs": [],
   "source": [
    "vectorizer = TfidfVectorizer(stop_words=stop, lowercase=True, use_idf=True,\n",
    "                             preprocessor=format_text, norm= 'l2', ngram_range=(1,1), sublinear_tf=True)\n",
    "X_train = vectorizer.fit_transform(train['Text'])"
   ]
  },
  {
   "cell_type": "markdown",
   "metadata": {},
   "source": [
    "We fit the RF classifier with the `X_train` term-document obtained by the vectorizer."
   ]
  },
  {
   "cell_type": "code",
   "execution_count": 113,
   "metadata": {},
   "outputs": [
    {
     "data": {
      "text/plain": [
       "RandomForestClassifier(bootstrap=True, class_weight=None, criterion='gini',\n",
       "            max_depth=None, max_features='auto', max_leaf_nodes=None,\n",
       "            min_impurity_decrease=0.0, min_impurity_split=None,\n",
       "            min_samples_leaf=1, min_samples_split=2,\n",
       "            min_weight_fraction_leaf=0.0, n_estimators=10, n_jobs=1,\n",
       "            oob_score=False, random_state=0, verbose=0, warm_start=False)"
      ]
     },
     "execution_count": 113,
     "metadata": {},
     "output_type": "execute_result"
    }
   ],
   "source": [
    "forest.fit(X_train, y_train)"
   ]
  },
  {
   "cell_type": "code",
   "execution_count": 114,
   "metadata": {
    "collapsed": true
   },
   "outputs": [],
   "source": [
    "y_pred = forest.predict(X_train)"
   ]
  },
  {
   "cell_type": "code",
   "execution_count": 115,
   "metadata": {},
   "outputs": [
    {
     "data": {
      "text/plain": [
       "0.9960201644998673"
      ]
     },
     "execution_count": 115,
     "metadata": {},
     "output_type": "execute_result"
    }
   ],
   "source": [
    "from sklearn import metrics\n",
    "metrics.accuracy_score(y_train,y_pred)"
   ]
  },
  {
   "cell_type": "markdown",
   "metadata": {},
   "source": [
    "As we expected the random forest achieved an accuracy of ~100%."
   ]
  },
  {
   "cell_type": "code",
   "execution_count": 116,
   "metadata": {},
   "outputs": [
    {
     "data": {
      "text/plain": [
       "array([ 0.0005898 ,  0.00018297,  0.        , ...,  0.        ,\n",
       "        0.        ,  0.        ])"
      ]
     },
     "execution_count": 116,
     "metadata": {},
     "output_type": "execute_result"
    }
   ],
   "source": [
    "# show importance of each feature\n",
    "forest.feature_importances_"
   ]
  },
  {
   "cell_type": "code",
   "execution_count": 117,
   "metadata": {},
   "outputs": [
    {
     "data": {
      "text/plain": [
       "<bound method BaseEstimator.get_params of RandomForestClassifier(bootstrap=True, class_weight=None, criterion='gini',\n",
       "            max_depth=None, max_features='auto', max_leaf_nodes=None,\n",
       "            min_impurity_decrease=0.0, min_impurity_split=None,\n",
       "            min_samples_leaf=1, min_samples_split=2,\n",
       "            min_weight_fraction_leaf=0.0, n_estimators=10, n_jobs=1,\n",
       "            oob_score=False, random_state=0, verbose=0, warm_start=False)>"
      ]
     },
     "execution_count": 117,
     "metadata": {},
     "output_type": "execute_result"
    }
   ],
   "source": [
    "forest.get_params"
   ]
  },
  {
   "cell_type": "markdown",
   "metadata": {},
   "source": [
    "We observe that even in the above naive approach some features have very low importance regarding the dataset."
   ]
  },
  {
   "cell_type": "markdown",
   "metadata": {},
   "source": [
    "#### Parameter fine-tuning\n",
    "\n",
    "To find the best values for the hyperparameters of the RF classifier, which are the: **number of trees, depth of trees**, we first train the RF classifier on the train set and then evaluate on the validation set.\n",
    "\n",
    "First, we search for the optimal **number of trees**."
   ]
  },
  {
   "cell_type": "code",
   "execution_count": 118,
   "metadata": {
    "collapsed": true
   },
   "outputs": [],
   "source": [
    "# we initialize the vectorizer and we call fit_transform on the train set.\n",
    "vectorizer = TfidfVectorizer(stop_words=stop, lowercase=True, use_idf=True,\n",
    "                             preprocessor=format_text, norm= 'l2', ngram_range=(1,1), sublinear_tf=True)\n",
    "X_train = vectorizer.fit_transform(train['Text'])\n",
    "\n",
    "# after the vectorizer has learned the vocabulary of the train set,\n",
    "# we transform the validation set to document-term matrix\n",
    "X_validation = vectorizer.transform(validation['Text'])"
   ]
  },
  {
   "cell_type": "code",
   "execution_count": 119,
   "metadata": {
    "collapsed": true
   },
   "outputs": [],
   "source": [
    "# Inputs for the RF Classifier\n",
    "X = X_train\n",
    "y = y_train\n",
    "y_validation = validation['Category'] "
   ]
  },
  {
   "cell_type": "markdown",
   "metadata": {},
   "source": [
    "Next, we find the best possible value for the **n_estimators** parameter."
   ]
  },
  {
   "cell_type": "code",
   "execution_count": 120,
   "metadata": {},
   "outputs": [
    {
     "name": "stdout",
     "output_type": "stream",
     "text": [
      "Running RF 10 trees...\n",
      "0.709814323607\n",
      "Running RF 60 trees...\n",
      "0.805305039788\n",
      "Running RF 110 trees...\n",
      "0.816445623342\n",
      "Running RF 160 trees...\n",
      "0.816976127321\n",
      "Running RF 210 trees...\n",
      "0.822811671088\n",
      "Running RF 260 trees...\n",
      "0.823872679045\n",
      "Running RF 310 trees...\n",
      "0.82599469496\n",
      "Running RF 360 trees...\n",
      "0.83023872679\n",
      "Running RF 410 trees...\n",
      "0.827586206897\n",
      "Running RF 460 trees...\n",
      "0.825464190981\n"
     ]
    }
   ],
   "source": [
    "scores_trees = []\n",
    "num_of_trees = list(range(10, 500, 50))\n",
    "for trees in num_of_trees:\n",
    "    forest = RandomForestClassifier(n_estimators=trees, random_state=4, n_jobs=-1)\n",
    "    print('Running RF ' + str(trees) + ' trees...')\n",
    "    forest.fit(X_train, y_train)\n",
    "    y_pred = forest.predict(X_validation)\n",
    "    diff = metrics.accuracy_score(y_validation, y_pred)\n",
    "    scores_trees.append(diff)\n",
    "    print(diff)"
   ]
  },
  {
   "cell_type": "code",
   "execution_count": 121,
   "metadata": {},
   "outputs": [
    {
     "name": "stdout",
     "output_type": "stream",
     "text": [
      "The best value for the number of estimators is: 360\n"
     ]
    }
   ],
   "source": [
    "max_test_accuracy = np.max(scores_trees)\n",
    "max_pos = scores_trees.index(max_test_accuracy)\n",
    "opt_trees = num_of_trees[max_pos]\n",
    "print('The best value for the number of estimators is:',opt_trees)"
   ]
  },
  {
   "cell_type": "markdown",
   "metadata": {},
   "source": [
    "Finally, we find the best value for the **depth** of the RF Classifier."
   ]
  },
  {
   "cell_type": "code",
   "execution_count": 122,
   "metadata": {},
   "outputs": [
    {
     "name": "stdout",
     "output_type": "stream",
     "text": [
      "Running RF 10 depth...\n",
      "0.519363395225\n",
      "Running RF 20 depth...\n",
      "0.658885941645\n",
      "Running RF 30 depth...\n",
      "0.727851458886\n",
      "Running RF 40 depth...\n",
      "0.761803713528\n",
      "Running RF 50 depth...\n",
      "0.775066312997\n",
      "Running RF 60 depth...\n",
      "0.79151193634\n",
      "Running RF 70 depth...\n",
      "0.79575596817\n",
      "Running RF 80 depth...\n",
      "0.798938992042\n",
      "Running RF 90 depth...\n",
      "0.805835543767\n",
      "Running RF 100 depth...\n",
      "0.812732095491\n",
      "Running RF 110 depth...\n",
      "0.815384615385\n",
      "Running RF 120 depth...\n",
      "0.815384615385\n",
      "Running RF 130 depth...\n",
      "0.818037135279\n",
      "Running RF 140 depth...\n",
      "0.818567639257\n",
      "Running RF 150 depth...\n",
      "0.824933687003\n",
      "Running RF 160 depth...\n",
      "0.820689655172\n",
      "Running RF 170 depth...\n",
      "0.823342175066\n",
      "Running RF 180 depth...\n",
      "0.8175066313\n",
      "Running RF 190 depth...\n",
      "0.823872679045\n"
     ]
    }
   ],
   "source": [
    "scores_depth = []\n",
    "depths = list(range(10, 200, 10))\n",
    "for depth in depths:\n",
    "    forest = RandomForestClassifier(n_estimators=opt_trees, max_depth=depth, random_state=4, n_jobs=-1)\n",
    "    print('Running RF ' + str(depth) + ' depth...')\n",
    "    forest.fit(X_train, y_train)\n",
    "    y_pred = forest.predict(X_validation)\n",
    "    diff = metrics.accuracy_score(y_validation, y_pred)\n",
    "    scores_depth.append(diff)\n",
    "    print(diff)"
   ]
  },
  {
   "cell_type": "code",
   "execution_count": 123,
   "metadata": {},
   "outputs": [
    {
     "name": "stdout",
     "output_type": "stream",
     "text": [
      "The best value for the depth of the tree: 150\n"
     ]
    }
   ],
   "source": [
    "max_test_accuracy = np.max(scores_depth)\n",
    "max_pos = scores_depth.index(max_test_accuracy)\n",
    "opt_depth = depths[max_pos]\n",
    "print('The best value for the depth of the tree:',opt_depth)"
   ]
  },
  {
   "cell_type": "markdown",
   "metadata": {},
   "source": [
    "Now that we calculated the best parameter values, we train on train and validation sets (combined) and finally test on the test set."
   ]
  },
  {
   "cell_type": "code",
   "execution_count": 124,
   "metadata": {},
   "outputs": [
    {
     "data": {
      "text/plain": [
       "(16961, 6)"
      ]
     },
     "execution_count": 124,
     "metadata": {},
     "output_type": "execute_result"
    }
   ],
   "source": [
    "train_final = train.append(validation)\n",
    "train_final.shape"
   ]
  },
  {
   "cell_type": "code",
   "execution_count": 125,
   "metadata": {
    "collapsed": true
   },
   "outputs": [],
   "source": [
    "vectorizer_final = TfidfVectorizer(stop_words=stop,lowercase=True, use_idf=True,preprocessor=format_text, ngram_range=(1,1), sublinear_tf=True)\n",
    "X = vectorizer.fit_transform(train_final['Text'])\n",
    "y = train_final['Category']\n",
    "X_test = vectorizer.transform(test['Text'])\n",
    "y_test = test['Category']"
   ]
  },
  {
   "cell_type": "code",
   "execution_count": 126,
   "metadata": {},
   "outputs": [
    {
     "name": "stdout",
     "output_type": "stream",
     "text": [
      "0.825464190981\n"
     ]
    }
   ],
   "source": [
    "forest = RandomForestClassifier(n_estimators=opt_trees, max_depth=opt_depth, random_state=4, n_jobs=-1)\n",
    "forest.fit(X, y)\n",
    "y_pred = forest.predict(X_test)\n",
    "acc = metrics.accuracy_score(y_pred, y_test)\n",
    "print(acc)"
   ]
  },
  {
   "cell_type": "markdown",
   "metadata": {},
   "source": [
    "That is, **our model achieved 82.25% accuracy**.\n",
    "\n",
    "Something interesting is that the accuracy of our model varied from machine to machine (more accurately from OS to OS). For example, in a run on a Linux machine, we got 84.4% accuracy.\n",
    "\n",
    "We are not sure as to why this is hapenning, but it is more probably due to the floating point arithmetic and minor library differences among the operating systems."
   ]
  },
  {
   "cell_type": "code",
   "execution_count": 127,
   "metadata": {},
   "outputs": [
    {
     "data": {
      "text/plain": [
       "array([[ 81,   4,   1,   0,   5,   1,   3,   0,   1,   2],\n",
       "       [  2, 173,  11,   0,   2,   4,   3,   0,   3,  16],\n",
       "       [  1,  10, 168,   0,   7,   0,   1,   0,   1,  12],\n",
       "       [  1,   1,   0,  14,  13,   0,   7,   2,  13,   4],\n",
       "       [  0,   1,   0,   0, 247,   1,   7,   1,  11,   9],\n",
       "       [  0,   2,   0,   0,   4, 135,  17,   0,   3,   7],\n",
       "       [  1,   8,   3,   0,   2,   5, 259,   0,   6,  11],\n",
       "       [  1,   8,   2,   0,   5,   0,   1,  74,   0,  12],\n",
       "       [  0,  12,   3,   0,   6,   0,   1,   1, 152,  12],\n",
       "       [  0,  12,   7,   0,   9,   0,   4,   1,   2, 253]])"
      ]
     },
     "execution_count": 127,
     "metadata": {},
     "output_type": "execute_result"
    }
   ],
   "source": [
    "metrics.confusion_matrix(y_true=y_test, y_pred=y_pred)"
   ]
  },
  {
   "cell_type": "code",
   "execution_count": 128,
   "metadata": {},
   "outputs": [
    {
     "data": {
      "text/plain": [
       "<bound method BaseEstimator.get_params of RandomForestClassifier(bootstrap=True, class_weight=None, criterion='gini',\n",
       "            max_depth=150, max_features='auto', max_leaf_nodes=None,\n",
       "            min_impurity_decrease=0.0, min_impurity_split=None,\n",
       "            min_samples_leaf=1, min_samples_split=2,\n",
       "            min_weight_fraction_leaf=0.0, n_estimators=360, n_jobs=-1,\n",
       "            oob_score=False, random_state=4, verbose=0, warm_start=False)>"
      ]
     },
     "execution_count": 128,
     "metadata": {},
     "output_type": "execute_result"
    }
   ],
   "source": [
    "forest.get_params"
   ]
  },
  {
   "cell_type": "code",
   "execution_count": 129,
   "metadata": {},
   "outputs": [
    {
     "data": {
      "text/plain": [
       "array([  6.14826722e-04,   2.42237329e-04,   2.28456927e-06, ...,\n",
       "         1.95032950e-06,   2.83772821e-06,   2.23761652e-08])"
      ]
     },
     "execution_count": 129,
     "metadata": {},
     "output_type": "execute_result"
    }
   ],
   "source": [
    "forest.feature_importances_"
   ]
  },
  {
   "cell_type": "code",
   "execution_count": 132,
   "metadata": {},
   "outputs": [
    {
     "name": "stdout",
     "output_type": "stream",
     "text": [
      "Feature ranking (only for the first 20):\n",
      "1. feature 111408 (0.006335)\n",
      "2. feature 29377 (0.005571)\n",
      "3. feature 49144 (0.004851)\n",
      "4. feature 40011 (0.004814)\n",
      "5. feature 101377 (0.004448)\n",
      "6. feature 25802 (0.004438)\n",
      "7. feature 91927 (0.004088)\n",
      "8. feature 96684 (0.003967)\n",
      "9. feature 50626 (0.003713)\n",
      "10. feature 50921 (0.003632)\n",
      "11. feature 51152 (0.003543)\n",
      "12. feature 31909 (0.003300)\n",
      "13. feature 93214 (0.003290)\n",
      "14. feature 82270 (0.003270)\n",
      "15. feature 29576 (0.003196)\n",
      "16. feature 42919 (0.003195)\n",
      "17. feature 54451 (0.003028)\n",
      "18. feature 24485 (0.002917)\n",
      "19. feature 49158 (0.002854)\n",
      "20. feature 67418 (0.002804)\n"
     ]
    }
   ],
   "source": [
    "def plot_feature_importances(X, forest):\n",
    "    \"\"\"\n",
    "    Generate a simple plot of the feature importance.\n",
    "    Parameters\n",
    "    ----------\n",
    "    X: features\n",
    "\n",
    "    forest : a trained random forest classifier\n",
    "    \"\"\"\n",
    "    importances = forest.feature_importances_\n",
    "    std = np.std([tree.feature_importances_ for tree in forest.estimators_], axis=0)\n",
    "    indices = np.argsort(importances)[::-1]\n",
    "    # Print the feature ranking\n",
    "    print(\"Feature ranking (only for the first 20):\")\n",
    "    limit = 20\n",
    "    if limit > X.shape[1]:\n",
    "        limit = X.shape[1]\n",
    "    \n",
    "    for f in range(limit):\n",
    "        print(\"%d. feature %d (%f)\" % (f + 1, indices[f], importances[indices[f]]))\n",
    "\n",
    "# shows only the first 20 features\n",
    "plot_feature_importances(X, forest)"
   ]
  },
  {
   "cell_type": "markdown",
   "metadata": {},
   "source": [
    "#### Conclusion\n",
    "We observe that the number of features of the Random Forest Classifier is too high and that features are sparse.\n",
    "This is reasonable since we know that even though RF achieves a very good estimation on the test set, the fact that we are dealing with articles provides too many features. That's also the reason that the best values for the n_estimators and the max_depth are high."
   ]
  }
 ],
 "metadata": {
  "kernelspec": {
   "display_name": "Python 3",
   "language": "python",
   "name": "python3"
  },
  "language_info": {
   "codemirror_mode": {
    "name": "ipython",
    "version": 3
   },
   "file_extension": ".py",
   "mimetype": "text/x-python",
   "name": "python",
   "nbconvert_exporter": "python",
   "pygments_lexer": "ipython3",
   "version": "3.6.2"
  }
 },
 "nbformat": 4,
 "nbformat_minor": 2
}
